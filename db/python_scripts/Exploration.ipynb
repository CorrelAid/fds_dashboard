{
 "cells": [
  {
   "cell_type": "code",
   "execution_count": 23,
   "metadata": {},
   "outputs": [],
   "source": [
    "import pandas as pd\n",
    "import datetime"
   ]
  },
  {
   "cell_type": "code",
   "execution_count": 17,
   "metadata": {},
   "outputs": [],
   "source": [
    "df = pd.read_csv(\"../Postgres/data/messages.csv\")"
   ]
  },
  {
   "cell_type": "code",
   "execution_count": 34,
   "metadata": {},
   "outputs": [
    {
     "data": {
      "text/plain": [
       "datetime.datetime(2022, 10, 27, 19, 54, 44, 812461, tzinfo=tzoffset(None, 7200))"
      ]
     },
     "execution_count": 34,
     "metadata": {},
     "output_type": "execute_result"
    }
   ],
   "source": [
    "df[\"timestamp\"][0]"
   ]
  },
  {
   "cell_type": "markdown",
   "metadata": {},
   "source": [
    "Example for a FOI request where the response time is weird"
   ]
  },
  {
   "cell_type": "code",
   "execution_count": 35,
   "metadata": {},
   "outputs": [
    {
     "data": {
      "text/html": [
       "<div>\n",
       "<style scoped>\n",
       "    .dataframe tbody tr th:only-of-type {\n",
       "        vertical-align: middle;\n",
       "    }\n",
       "\n",
       "    .dataframe tbody tr th {\n",
       "        vertical-align: top;\n",
       "    }\n",
       "\n",
       "    .dataframe thead th {\n",
       "        text-align: right;\n",
       "    }\n",
       "</style>\n",
       "<table border=\"1\" class=\"dataframe\">\n",
       "  <thead>\n",
       "    <tr style=\"text-align: right;\">\n",
       "      <th></th>\n",
       "      <th>id</th>\n",
       "      <th>request</th>\n",
       "      <th>sent</th>\n",
       "      <th>is_response</th>\n",
       "      <th>is_postal</th>\n",
       "      <th>kind</th>\n",
       "      <th>sender_public_body</th>\n",
       "      <th>recipient_public_body</th>\n",
       "      <th>status</th>\n",
       "      <th>timestamp</th>\n",
       "    </tr>\n",
       "  </thead>\n",
       "  <tbody>\n",
       "    <tr>\n",
       "      <th>190436</th>\n",
       "      <td>510485</td>\n",
       "      <td>173398</td>\n",
       "      <td>True</td>\n",
       "      <td>False</td>\n",
       "      <td>False</td>\n",
       "      <td>email</td>\n",
       "      <td>NaN</td>\n",
       "      <td>15588.0</td>\n",
       "      <td>NaN</td>\n",
       "      <td>2020-08-07 07:14:00.514385+02:00</td>\n",
       "    </tr>\n",
       "    <tr>\n",
       "      <th>223294</th>\n",
       "      <td>460006</td>\n",
       "      <td>173398</td>\n",
       "      <td>True</td>\n",
       "      <td>False</td>\n",
       "      <td>False</td>\n",
       "      <td>email</td>\n",
       "      <td>NaN</td>\n",
       "      <td>15588.0</td>\n",
       "      <td>NaN</td>\n",
       "      <td>2020-02-08 13:10:41.872134+01:00</td>\n",
       "    </tr>\n",
       "    <tr>\n",
       "      <th>231683</th>\n",
       "      <td>445245</td>\n",
       "      <td>173398</td>\n",
       "      <td>True</td>\n",
       "      <td>True</td>\n",
       "      <td>False</td>\n",
       "      <td>email</td>\n",
       "      <td>15588.0</td>\n",
       "      <td>NaN</td>\n",
       "      <td>awaiting_response</td>\n",
       "      <td>2020-01-05 14:55:09+01:00</td>\n",
       "    </tr>\n",
       "  </tbody>\n",
       "</table>\n",
       "</div>"
      ],
      "text/plain": [
       "            id  request  sent  is_response  is_postal   kind  \\\n",
       "190436  510485   173398  True        False      False  email   \n",
       "223294  460006   173398  True        False      False  email   \n",
       "231683  445245   173398  True         True      False  email   \n",
       "\n",
       "        sender_public_body  recipient_public_body             status  \\\n",
       "190436                 NaN                15588.0                NaN   \n",
       "223294                 NaN                15588.0                NaN   \n",
       "231683             15588.0                    NaN  awaiting_response   \n",
       "\n",
       "                               timestamp  \n",
       "190436  2020-08-07 07:14:00.514385+02:00  \n",
       "223294  2020-02-08 13:10:41.872134+01:00  \n",
       "231683         2020-01-05 14:55:09+01:00  "
      ]
     },
     "execution_count": 35,
     "metadata": {},
     "output_type": "execute_result"
    }
   ],
   "source": [
    "df[df[\"request\"] == 173398]"
   ]
  },
  {
   "cell_type": "markdown",
   "metadata": {},
   "source": [
    "Some messages dont exist."
   ]
  },
  {
   "cell_type": "code",
   "execution_count": 36,
   "metadata": {},
   "outputs": [
    {
     "data": {
      "text/html": [
       "<div>\n",
       "<style scoped>\n",
       "    .dataframe tbody tr th:only-of-type {\n",
       "        vertical-align: middle;\n",
       "    }\n",
       "\n",
       "    .dataframe tbody tr th {\n",
       "        vertical-align: top;\n",
       "    }\n",
       "\n",
       "    .dataframe thead th {\n",
       "        text-align: right;\n",
       "    }\n",
       "</style>\n",
       "<table border=\"1\" class=\"dataframe\">\n",
       "  <thead>\n",
       "    <tr style=\"text-align: right;\">\n",
       "      <th></th>\n",
       "      <th>id</th>\n",
       "      <th>request</th>\n",
       "      <th>sent</th>\n",
       "      <th>is_response</th>\n",
       "      <th>is_postal</th>\n",
       "      <th>kind</th>\n",
       "      <th>sender_public_body</th>\n",
       "      <th>recipient_public_body</th>\n",
       "      <th>status</th>\n",
       "      <th>timestamp</th>\n",
       "    </tr>\n",
       "  </thead>\n",
       "  <tbody>\n",
       "  </tbody>\n",
       "</table>\n",
       "</div>"
      ],
      "text/plain": [
       "Empty DataFrame\n",
       "Columns: [id, request, sent, is_response, is_postal, kind, sender_public_body, recipient_public_body, status, timestamp]\n",
       "Index: []"
      ]
     },
     "execution_count": 36,
     "metadata": {},
     "output_type": "execute_result"
    }
   ],
   "source": [
    "df[df[\"id\"] == 445244]"
   ]
  },
  {
   "cell_type": "code",
   "execution_count": 21,
   "metadata": {},
   "outputs": [
    {
     "data": {
      "text/plain": [
       "666795"
      ]
     },
     "execution_count": 21,
     "metadata": {},
     "output_type": "execute_result"
    }
   ],
   "source": [
    "len(df)"
   ]
  }
 ],
 "metadata": {
  "kernelspec": {
   "display_name": "env",
   "language": "python",
   "name": "python3"
  },
  "language_info": {
   "codemirror_mode": {
    "name": "ipython",
    "version": 3
   },
   "file_extension": ".py",
   "mimetype": "text/x-python",
   "name": "python",
   "nbconvert_exporter": "python",
   "pygments_lexer": "ipython3",
   "version": "3.10.8"
  },
  "orig_nbformat": 4,
  "vscode": {
   "interpreter": {
    "hash": "9c797291e6686f7528f5330aebafad01d97a2854bc76bb00c6b0979e968a4afb"
   }
  }
 },
 "nbformat": 4,
 "nbformat_minor": 2
}
