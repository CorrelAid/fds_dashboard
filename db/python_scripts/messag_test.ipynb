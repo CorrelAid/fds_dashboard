{
 "cells": [
  {
   "cell_type": "code",
   "execution_count": 3,
   "metadata": {
    "collapsed": true
   },
   "outputs": [],
   "source": [
    "import numpy as np\n",
    "from helpers import decompress_pickle, compressed_pickle\n",
    "import pandas as pd\n",
    "import numpy as np"
   ]
  },
  {
   "cell_type": "code",
   "execution_count": 17,
   "outputs": [],
   "source": [
    "data = decompress_pickle(\"data/foi_requests.pbz2\")\n",
    "###### FOI Requests Table #######\n",
    "\n",
    "df = pd.DataFrame(data)\n",
    "\n",
    "# Keeping first because we want the most recently updated foi requests (df is sorted by last message)\n",
    "df.drop_duplicates(subset=\"id\", inplace=True, keep=\"first\")\n",
    "\n",
    "# extracting public body ID to new column\n",
    "df[\"public_body_id\"] = df[\"public_body\"].apply(lambda dct: int(dct.get(\"id\")) if dct is not None else pd.NA)\n",
    "\n",
    "# string na\n",
    "df.loc[df.refusal_reason==\"n/a\", \"refusal_reason\"] = pd.NA\n",
    "\n",
    "# converting user column to int\n",
    "df['user'] = df['user'].astype('float').astype(pd.Int64Dtype())\n",
    "\n",
    "# keeping only required columns\n",
    "df = df[[\"id\", \"jurisdiction\", \"refusal_reason\", \"costs\", \"due_date\",\n",
    "         \"created_at\", \"last_message\", \"status\", \"resolution\", \"user\", \"public_body_id\", \"campaign\"]]\n",
    "\n",
    "\n",
    "\n",
    "# renaming columns\n",
    "df.rename(columns={\"jurisdiction\": \"jurisdiction_id\"}, errors=\"raise\", inplace=True)\n",
    "df.rename(columns={\"campaign\": \"campaign_id\"}, errors=\"raise\", inplace=True)\n",
    "\n",
    "# extracting ids from string\n",
    "df[\"jurisdiction_id\"] = df[\"jurisdiction_id\"].apply(lambda x: int(x.split(\"/\")[-2]) if x is not None else pd.NA)\n",
    "df[\"campaign_id\"] = df[\"campaign_id\"].apply(lambda x: int(x.split(\"/\")[-2]) if x is not None else pd.NA)\n",
    "\n",
    "# temporarily\n",
    "df.loc[df.campaign_id==6, \"campaign_id\"] = pd.NA\n",
    "df.loc[df.campaign_id==18, \"campaign_id\"] = pd.NA\n",
    "df.loc[df.campaign_id==19, \"campaign_id\"] = pd.NA\n",
    "df.loc[df.campaign_id==8, \"campaign_id\"] = pd.NA\n",
    "df.loc[df.campaign_id==7, \"campaign_id\"] = pd.NA\n",
    "\n",
    "# only keeping foi requests younger than first of august 2011\n",
    "df = df.loc[(df['created_at'] > '2011-08-01T00:00:13.000000+00:00')]\n",
    "\n",
    "# making sure df only contains integer NAs\n",
    "df = df.fillna(pd.NA)\n",
    "\n",
    "id_lst = list(df['id'].unique())"
   ],
   "metadata": {
    "collapsed": false
   }
  },
  {
   "cell_type": "code",
   "execution_count": 24,
   "outputs": [
    {
     "data": {
      "text/plain": "            id jurisdiction_id refusal_reason  costs  \\\n138840  189884               1                   0.0   \n\n                         due_date                        created_at  \\\n138840  2020-07-28T00:00:00+02:00  2020-06-25T23:57:26.000320+02:00   \n\n                            last_message  status resolution  user  \\\n138840  2020-06-25T23:57:26.000320+02:00  asleep             <NA>   \n\n       public_body_id campaign_id  \n138840          11087        <NA>  ",
      "text/html": "<div>\n<style scoped>\n    .dataframe tbody tr th:only-of-type {\n        vertical-align: middle;\n    }\n\n    .dataframe tbody tr th {\n        vertical-align: top;\n    }\n\n    .dataframe thead th {\n        text-align: right;\n    }\n</style>\n<table border=\"1\" class=\"dataframe\">\n  <thead>\n    <tr style=\"text-align: right;\">\n      <th></th>\n      <th>id</th>\n      <th>jurisdiction_id</th>\n      <th>refusal_reason</th>\n      <th>costs</th>\n      <th>due_date</th>\n      <th>created_at</th>\n      <th>last_message</th>\n      <th>status</th>\n      <th>resolution</th>\n      <th>user</th>\n      <th>public_body_id</th>\n      <th>campaign_id</th>\n    </tr>\n  </thead>\n  <tbody>\n    <tr>\n      <th>138840</th>\n      <td>189884</td>\n      <td>1</td>\n      <td></td>\n      <td>0.0</td>\n      <td>2020-07-28T00:00:00+02:00</td>\n      <td>2020-06-25T23:57:26.000320+02:00</td>\n      <td>2020-06-25T23:57:26.000320+02:00</td>\n      <td>asleep</td>\n      <td></td>\n      <td>&lt;NA&gt;</td>\n      <td>11087</td>\n      <td>&lt;NA&gt;</td>\n    </tr>\n  </tbody>\n</table>\n</div>"
     },
     "execution_count": 24,
     "metadata": {},
     "output_type": "execute_result"
    }
   ],
   "source": [
    "df[df[\"id\"]==189884]"
   ],
   "metadata": {
    "collapsed": false
   }
  },
  {
   "cell_type": "code",
   "execution_count": 7,
   "outputs": [
    {
     "data": {
      "text/plain": "[180721,\n 274415,\n 274414,\n 274413,\n 274412,\n 273617,\n 274411,\n 274410,\n 274409,\n 272016,\n 267057,\n 274408,\n 272060,\n 274407,\n 271506,\n 259459,\n 274406,\n 274405,\n 274403,\n 274402,\n 256692,\n 258298,\n 274400,\n 274399,\n 274398,\n 274338,\n 257080,\n 273430,\n 266106,\n 253818,\n 273578,\n 268241,\n 274366,\n 273890,\n 266359,\n 274393,\n 267934,\n 274381,\n 264296,\n 273941,\n 260357,\n 273829,\n 273061,\n 274294,\n 274387,\n 269868,\n 270447,\n 271784,\n 274386,\n 274060,\n 274175,\n 274365,\n 274224,\n 269569,\n 274251,\n 267120,\n 259776,\n 268496,\n 269796,\n 262615,\n 272383,\n 271159,\n 274383,\n 269566,\n 274382,\n 273105,\n 273458,\n 273931,\n 273830,\n 273996,\n 257749,\n 271294,\n 273775,\n 270737,\n 273104,\n 274039,\n 271123,\n 274380,\n 274379,\n 274378,\n 274377,\n 268723,\n 274376,\n 274375,\n 274374,\n 263148,\n 266246,\n 273812,\n 274373,\n 274340,\n 273124,\n 274372,\n 269761,\n 274371,\n 166584,\n 166583,\n 274370,\n 272397,\n 271840,\n 274369,\n 274332,\n 253829,\n 266168,\n 274368,\n 274367,\n 271232,\n 273921,\n 274037,\n 271677,\n 273576,\n 272432,\n 274314,\n 247025,\n 273696,\n 274364,\n 272491,\n 274246,\n 274243,\n 274363,\n 268291,\n 272624,\n 274225,\n 273697,\n 274188,\n 221867,\n 273698,\n 273747,\n 274360,\n 273327,\n 273746,\n 273745,\n 273744,\n 274353,\n 272345,\n 271696,\n 272916,\n 267946,\n 274102,\n 269417,\n 274110,\n 254031,\n 254458,\n 268984,\n 273515,\n 259997,\n 274082,\n 274088,\n 228955,\n 274356,\n 267815,\n 257052,\n 249809,\n 229960,\n 273688,\n 257051,\n 270645,\n 274029,\n 268216,\n 266042,\n 228952,\n 273977,\n 162713,\n 267665,\n 229959,\n 272578,\n 273010,\n 132794,\n 250913,\n 272275,\n 268849,\n 274066,\n 271135,\n 264788,\n 265261,\n 274155,\n 273973,\n 270491,\n 270493,\n 272789,\n 271641,\n 273094,\n 272544,\n 267553,\n 273380,\n 268768,\n 266365,\n 274352,\n 271870,\n 274351,\n 274057,\n 271881,\n 271882,\n 271872,\n 271876,\n 271426,\n 271856,\n 271412,\n 269705,\n 274350,\n 271594,\n 271339,\n 271340,\n 272791,\n 274347,\n 272652,\n 272919,\n 271409,\n 271410,\n 271408,\n 250183,\n 252709,\n 274346,\n 272809,\n 269497,\n 274345,\n 274344,\n 274343,\n 246928,\n 274341,\n 270294,\n 258963,\n 274339,\n 269780,\n 274337,\n 274336,\n 274335,\n 273435,\n 274334,\n 274333,\n 268161,\n 271074,\n 274330,\n 274329,\n 274327,\n 270498,\n 272647,\n 271088,\n 272646,\n 274323,\n 269694,\n 274322,\n 274321,\n 269645,\n 269691,\n 274320,\n 256144,\n 274319,\n 274159,\n 271539,\n 271762,\n 271863,\n 235990,\n 273230,\n 271361,\n 274317,\n 269777,\n 271264,\n 273661,\n 273529,\n 274316,\n 271715,\n 273398,\n 273867,\n 267136,\n 271130,\n 274315,\n 273586,\n 273975,\n 270831,\n 274145,\n 270324,\n 273794,\n 274313,\n 272336,\n 268785,\n 271889,\n 273396,\n 273962,\n 273718,\n 273984,\n 274285,\n 274266,\n 274254,\n 270759,\n 238754,\n 267008,\n 272737,\n 273919,\n 274011,\n 274310,\n 273552,\n 273649,\n 270760,\n 270778,\n 274308,\n 273906,\n 274307,\n 271924,\n 267596,\n 273388,\n 265385,\n 271497,\n 268968,\n 271582,\n 274260,\n 271896,\n 267931,\n 272743,\n 274301,\n 271500,\n 263814,\n 271629,\n 271981,\n 273999,\n 273998,\n 274135,\n 272724,\n 274185,\n 266038,\n 267389,\n 270238,\n 274111,\n 272653,\n 272591,\n 258494,\n 272777,\n 258493,\n 270152,\n 273091,\n 273028,\n 273546,\n 274298,\n 274297,\n 274129,\n 267560,\n 274293,\n 274237,\n 274218,\n 274216,\n 274213,\n 274196,\n 271826,\n 274194,\n 272014,\n 274158,\n 274072,\n 274045,\n 274034,\n 272228,\n 265794,\n 273865,\n 273852,\n 273851,\n 273849,\n 273271,\n 273786,\n 271852,\n 273782,\n 274265,\n 273771,\n 274262,\n 273748,\n 273741,\n 273738,\n 273024,\n 273734,\n 264679,\n 273729,\n 274290,\n 270787,\n 271509,\n 269936,\n 274148,\n 272765,\n 253866,\n 270758,\n 270719,\n 273985,\n 268698,\n 270713,\n 270716,\n 270717,\n 270718,\n 270757,\n 270715,\n 273955,\n 272819,\n 271050,\n 268368,\n 271628,\n 265359,\n 273405,\n 274289,\n 274062,\n 270962,\n 274210,\n 274206,\n 270620,\n 273994,\n 267657,\n 271959,\n 273845,\n 271464,\n 273817,\n 268159,\n 273913,\n 269984,\n 271510,\n 274288,\n 274287,\n 273162,\n 269131,\n 265429,\n 274284,\n 274283,\n 274281,\n 265422,\n 274280,\n 274279,\n 264121,\n 274277,\n 274276,\n 274274,\n 265393,\n 274271,\n 274268,\n 260390,\n 274264,\n 274263,\n 271346,\n 274261,\n 265374,\n 269011,\n 262606,\n 272623,\n 266585,\n 268261,\n 273561,\n 274257,\n 274125,\n 274252,\n 272486,\n 274253,\n 273946,\n 273232,\n 265372,\n 272788,\n 267464,\n 274217,\n 274201,\n 274200,\n 274171,\n 274199,\n 271827,\n 273800,\n 274248,\n 265339,\n 273864,\n 272005,\n 274244,\n 274017,\n 272763,\n 256682,\n 273843,\n 268977,\n 271491,\n 267250,\n 271480,\n 271906,\n 273826,\n 273785,\n 268918,\n 268876,\n 274242,\n 273709,\n 274041,\n 272659,\n 270950,\n 267639,\n 273928,\n 273335,\n 273332,\n 274241,\n 273357,\n 268629,\n 273671,\n 270839,\n 273143,\n 273657,\n 273654,\n 266427,\n 273596,\n 271971,\n 265402,\n 271413,\n 271965,\n 261617,\n 264030,\n 264064,\n 266219,\n 272835,\n 274231,\n 274239,\n 271830,\n 271150,\n 266798,\n 271256,\n 272556,\n 271560,\n 274204,\n 273535,\n 273498,\n 273486,\n 274182,\n 271917,\n 265324,\n 273605,\n 267633,\n 273573,\n 273558,\n 273873,\n 273557,\n 273536,\n 273298,\n 274051,\n 259867,\n 273527,\n 252091,\n 273521,\n 272956,\n 273678,\n 273473,\n 272495,\n 271093,\n 273471,\n 273461,\n 273422,\n 274147,\n 273420,\n 273417,\n 274236,\n 273394,\n 273392,\n 273386,\n 273385,\n 236896,\n 273344,\n 272684,\n 273341,\n 271445,\n 270790,\n 273389,\n 269106,\n 273293,\n 195492,\n 273294,\n 156405,\n 156390,\n 156389,\n 156391,\n 156394,\n 228357,\n 228355,\n 195493,\n 241026,\n 265578,\n 274234,\n 274233,\n 273279,\n 274232,\n 259496,\n 273258,\n 273172,\n 273720,\n 273154,\n 273139,\n 273138,\n 263785,\n 273121,\n 273894,\n 274149,\n 270046,\n 269596,\n 265303,\n 271350,\n 267693,\n 261573,\n 271620,\n 269413,\n 266251,\n 273956,\n 273947,\n 274230,\n 274184,\n 271689,\n 273699,\n 274228,\n 273779,\n 271388,\n 274227,\n 274226,\n 274223,\n 274222,\n 274221,\n 271540,\n 269335,\n 274219,\n 270561,\n 274212,\n 221038,\n 272750,\n 274209,\n 274208,\n 270650,\n 274207,\n 274205,\n 270856,\n 273900,\n 259463,\n 272051,\n 274203,\n 274202,\n 272579,\n 209151,\n 208071,\n 274198,\n 273769,\n 266267,\n 268205,\n 271608,\n 269440,\n 273981,\n 273043,\n 274197,\n 270385,\n 268332,\n 274141,\n 274172,\n 273055,\n 272565,\n 273964,\n 274195,\n 271227,\n 270006,\n 270876,\n 271087,\n 274192,\n 273186,\n 274190,\n 263812,\n 271733,\n 255611,\n 274189,\n 274187,\n 274186,\n 272227,\n 267176,\n 273933,\n 274183,\n 273929,\n 273277,\n 273275,\n 272473,\n 273057,\n 273724,\n 273723,\n 273504,\n 272657,\n 273478,\n 255616,\n 273972,\n 273164,\n 270078,\n 259363,\n 272560,\n 273859,\n 271891,\n 272411,\n 267742,\n 267897,\n 274173,\n 267881,\n 268337,\n 273836,\n 274056,\n 258884,\n 248164,\n 258797,\n 248163,\n 273944,\n 270857,\n 271946,\n 271598,\n 269472,\n 274169,\n 274087,\n 274084,\n 273136,\n 273980,\n 270811,\n 273937,\n 272590,\n 274167,\n 274166,\n 274165,\n 274164,\n 267757,\n 263281,\n 268017,\n 263954,\n 256609,\n 266271,\n 267792,\n 273505,\n 274099,\n 266852,\n 273703,\n 272296,\n 271297,\n 268841,\n 259638,\n 273777,\n 274162,\n 268771,\n 274163,\n 273003,\n 264080,\n 260507,\n 244382,\n 260919,\n 271101,\n 270861,\n 273875,\n 271650,\n 268165,\n 274089,\n 274151,\n 271994,\n 274071,\n 242438,\n 274157,\n 271909,\n 272387,\n 272537,\n 271184,\n 271261,\n 272576,\n 274152,\n 273995,\n 269597,\n 271645,\n 268949,\n 274154,\n 273243,\n 267458,\n 273834,\n 229252,\n 272551,\n 271164,\n 272414,\n 266347,\n 268846,\n 271419,\n 274074,\n 272369,\n 270300,\n 272310,\n 273806,\n 273951,\n 274080,\n 240791,\n 240792,\n 274144,\n 274146,\n 274143,\n 274142,\n 274140,\n 274139,\n 274138,\n 274137,\n 274136,\n 274134,\n 271141,\n 272806,\n 274132,\n 266819,\n 273662,\n 271599,\n 271379,\n 271206,\n 273034,\n 274131,\n 273863,\n 257747,\n 274015,\n 274014,\n 270381,\n 274001,\n 274000,\n 272593,\n 257504,\n 273637,\n 259645,\n 274130,\n 269201,\n 274128,\n 274127,\n 274126,\n 269450,\n 274123,\n 274122,\n 274121,\n 274119,\n 274118,\n 257458,\n 269772,\n 268116,\n 274109,\n 274105,\n 274104,\n 274103,\n 274100,\n 274098,\n 274097,\n 274096,\n 274095,\n 274094,\n 274093,\n 267624,\n 268511,\n 271065,\n 274086,\n 274083,\n 274081,\n 274079,\n 274078,\n 274077,\n 274076,\n 274075,\n 259355,\n 274070,\n 263450,\n 274063,\n 274067,\n 274065,\n 274064,\n 274061,\n 274059,\n 274058,\n 263571,\n 274055,\n 274054,\n 274053,\n 274052,\n 269957,\n 274050,\n 274049,\n 271309,\n 274048,\n 267309,\n 269764,\n 274047,\n 269700,\n 266645,\n 274044,\n 245594,\n 274040,\n 273439,\n 266873,\n 274036,\n 274035,\n 271712,\n 274033,\n 132452,\n 217978,\n 274032,\n 274031,\n 274030,\n 274027,\n 273487,\n 271181,\n 274026,\n 274024,\n 274023,\n 259124,\n 274022,\n 272770,\n 260191,\n 261192,\n 264957,\n 274020,\n 268875,\n 274019,\n 273191,\n 271303,\n 274016,\n 259671,\n 274012,\n 274013,\n 274010,\n 274009,\n 274008,\n 262564,\n 272555,\n 272588,\n 272587,\n 273923,\n 274007,\n 274006,\n 274005,\n 270478,\n 274004,\n 274003,\n 267298,\n 197845,\n 242045,\n 272032,\n 264761,\n 269484,\n 245955,\n 268112,\n 268111,\n 268942,\n 261549,\n 272422,\n 271522,\n 197846,\n 273993,\n 261949,\n 273991,\n 273990,\n 273989,\n 270492,\n 273988,\n 258642,\n 272999,\n 273982,\n 263335,\n 270987,\n 273354,\n 272711,\n 273042,\n 273959,\n 273978,\n 270499,\n 269643,\n 273976,\n 273974,\n 273971,\n 273970,\n 273968,\n 273969,\n 273967,\n 273966,\n 273965,\n 273963,\n 273961,\n 273960,\n 273958,\n 273957,\n 273954,\n 273953,\n 273952,\n 273950,\n 273949,\n 273948,\n 273945,\n 273943,\n 273942,\n 273939,\n 273938,\n 273716,\n 270283,\n 270063,\n 273936,\n 270042,\n 273085,\n 273030,\n 273935,\n 271411,\n 273013,\n 273449,\n 273792,\n 271943,\n 271939,\n 270312,\n 272996,\n 273934,\n 272993,\n 273710,\n 273665,\n 273758,\n 273585,\n 273932,\n 273911,\n 273930,\n 271453,\n 267667,\n 273215,\n 273711,\n ...]"
     },
     "execution_count": 7,
     "metadata": {},
     "output_type": "execute_result"
    }
   ],
   "source": [
    "id_lst"
   ],
   "metadata": {
    "collapsed": false
   }
  },
  {
   "cell_type": "code",
   "execution_count": null,
   "outputs": [],
   "source": [
    "len(df2)"
   ],
   "metadata": {
    "collapsed": false
   }
  },
  {
   "cell_type": "code",
   "execution_count": 29,
   "outputs": [],
   "source": [
    "data2 = decompress_pickle(\"data/messages.pbz2\")\n",
    "\n",
    "df2 = pd.DataFrame(data2)"
   ],
   "metadata": {
    "collapsed": false
   }
  },
  {
   "cell_type": "code",
   "execution_count": 25,
   "outputs": [
    {
     "data": {
      "text/plain": "            id                                         request  sent  \\\n375978  787092  https://fragdenstaat.de/api/v1/request/132794/  True   \n321885  786359  https://fragdenstaat.de/api/v1/request/156405/  True   \n321910  786358  https://fragdenstaat.de/api/v1/request/156390/  True   \n321995  786357  https://fragdenstaat.de/api/v1/request/156389/  True   \n321922  786356  https://fragdenstaat.de/api/v1/request/156391/  True   \n...        ...                                             ...   ...   \n701933     254     https://fragdenstaat.de/api/v1/request/191/  True   \n701925     250     https://fragdenstaat.de/api/v1/request/189/  True   \n701924     249     https://fragdenstaat.de/api/v1/request/189/  True   \n701929     247     https://fragdenstaat.de/api/v1/request/189/  True   \n701926     246     https://fragdenstaat.de/api/v1/request/189/  True   \n\n        is_response  is_postal   kind  \\\n375978         True      False  email   \n321885        False      False  email   \n321910        False      False  email   \n321995        False      False  email   \n321922        False      False  email   \n...             ...        ...    ...   \n701933         True      False  email   \n701925         True       True   post   \n701924         True      False  email   \n701929         True       True   post   \n701926        False      False  email   \n\n                                      sender_public_body  \\\n375978  https://fragdenstaat.de/api/v1/publicbody/15466/   \n321885                                              None   \n321910                                              None   \n321995                                              None   \n321922                                              None   \n...                                                  ...   \n701933                                              None   \n701925     https://fragdenstaat.de/api/v1/publicbody/90/   \n701924                                              None   \n701929     https://fragdenstaat.de/api/v1/publicbody/90/   \n701926                                              None   \n\n                                   recipient_public_body             status  \\\n375978                                              None           resolved   \n321885  https://fragdenstaat.de/api/v1/publicbody/15446/               None   \n321910  https://fragdenstaat.de/api/v1/publicbody/15446/               None   \n321995  https://fragdenstaat.de/api/v1/publicbody/15446/               None   \n321922  https://fragdenstaat.de/api/v1/publicbody/15446/               None   \n...                                                  ...                ...   \n701933    https://fragdenstaat.de/api/v1/publicbody/116/  awaiting_response   \n701925                                              None         successful   \n701924                                              None         successful   \n701929                                              None         successful   \n701926     https://fragdenstaat.de/api/v1/publicbody/90/               None   \n\n                               timestamp  \n375978         2023-03-30T09:49:59+02:00  \n321885  2023-03-28T09:35:10.298043+02:00  \n321910  2023-03-28T09:35:08.687162+02:00  \n321995  2023-03-28T09:35:06.788790+02:00  \n321922  2023-03-28T09:35:04.863498+02:00  \n...                                  ...  \n701933         2009-10-03T12:00:00+02:00  \n701925         2009-04-28T12:00:00+02:00  \n701924         2009-03-27T12:00:00+01:00  \n701929         2009-03-20T12:00:00+01:00  \n701926         2009-03-15T12:00:00+01:00  \n\n[702250 rows x 10 columns]",
      "text/html": "<div>\n<style scoped>\n    .dataframe tbody tr th:only-of-type {\n        vertical-align: middle;\n    }\n\n    .dataframe tbody tr th {\n        vertical-align: top;\n    }\n\n    .dataframe thead th {\n        text-align: right;\n    }\n</style>\n<table border=\"1\" class=\"dataframe\">\n  <thead>\n    <tr style=\"text-align: right;\">\n      <th></th>\n      <th>id</th>\n      <th>request</th>\n      <th>sent</th>\n      <th>is_response</th>\n      <th>is_postal</th>\n      <th>kind</th>\n      <th>sender_public_body</th>\n      <th>recipient_public_body</th>\n      <th>status</th>\n      <th>timestamp</th>\n    </tr>\n  </thead>\n  <tbody>\n    <tr>\n      <th>375978</th>\n      <td>787092</td>\n      <td>https://fragdenstaat.de/api/v1/request/132794/</td>\n      <td>True</td>\n      <td>True</td>\n      <td>False</td>\n      <td>email</td>\n      <td>https://fragdenstaat.de/api/v1/publicbody/15466/</td>\n      <td>None</td>\n      <td>resolved</td>\n      <td>2023-03-30T09:49:59+02:00</td>\n    </tr>\n    <tr>\n      <th>321885</th>\n      <td>786359</td>\n      <td>https://fragdenstaat.de/api/v1/request/156405/</td>\n      <td>True</td>\n      <td>False</td>\n      <td>False</td>\n      <td>email</td>\n      <td>None</td>\n      <td>https://fragdenstaat.de/api/v1/publicbody/15446/</td>\n      <td>None</td>\n      <td>2023-03-28T09:35:10.298043+02:00</td>\n    </tr>\n    <tr>\n      <th>321910</th>\n      <td>786358</td>\n      <td>https://fragdenstaat.de/api/v1/request/156390/</td>\n      <td>True</td>\n      <td>False</td>\n      <td>False</td>\n      <td>email</td>\n      <td>None</td>\n      <td>https://fragdenstaat.de/api/v1/publicbody/15446/</td>\n      <td>None</td>\n      <td>2023-03-28T09:35:08.687162+02:00</td>\n    </tr>\n    <tr>\n      <th>321995</th>\n      <td>786357</td>\n      <td>https://fragdenstaat.de/api/v1/request/156389/</td>\n      <td>True</td>\n      <td>False</td>\n      <td>False</td>\n      <td>email</td>\n      <td>None</td>\n      <td>https://fragdenstaat.de/api/v1/publicbody/15446/</td>\n      <td>None</td>\n      <td>2023-03-28T09:35:06.788790+02:00</td>\n    </tr>\n    <tr>\n      <th>321922</th>\n      <td>786356</td>\n      <td>https://fragdenstaat.de/api/v1/request/156391/</td>\n      <td>True</td>\n      <td>False</td>\n      <td>False</td>\n      <td>email</td>\n      <td>None</td>\n      <td>https://fragdenstaat.de/api/v1/publicbody/15446/</td>\n      <td>None</td>\n      <td>2023-03-28T09:35:04.863498+02:00</td>\n    </tr>\n    <tr>\n      <th>...</th>\n      <td>...</td>\n      <td>...</td>\n      <td>...</td>\n      <td>...</td>\n      <td>...</td>\n      <td>...</td>\n      <td>...</td>\n      <td>...</td>\n      <td>...</td>\n      <td>...</td>\n    </tr>\n    <tr>\n      <th>701933</th>\n      <td>254</td>\n      <td>https://fragdenstaat.de/api/v1/request/191/</td>\n      <td>True</td>\n      <td>True</td>\n      <td>False</td>\n      <td>email</td>\n      <td>None</td>\n      <td>https://fragdenstaat.de/api/v1/publicbody/116/</td>\n      <td>awaiting_response</td>\n      <td>2009-10-03T12:00:00+02:00</td>\n    </tr>\n    <tr>\n      <th>701925</th>\n      <td>250</td>\n      <td>https://fragdenstaat.de/api/v1/request/189/</td>\n      <td>True</td>\n      <td>True</td>\n      <td>True</td>\n      <td>post</td>\n      <td>https://fragdenstaat.de/api/v1/publicbody/90/</td>\n      <td>None</td>\n      <td>successful</td>\n      <td>2009-04-28T12:00:00+02:00</td>\n    </tr>\n    <tr>\n      <th>701924</th>\n      <td>249</td>\n      <td>https://fragdenstaat.de/api/v1/request/189/</td>\n      <td>True</td>\n      <td>True</td>\n      <td>False</td>\n      <td>email</td>\n      <td>None</td>\n      <td>None</td>\n      <td>successful</td>\n      <td>2009-03-27T12:00:00+01:00</td>\n    </tr>\n    <tr>\n      <th>701929</th>\n      <td>247</td>\n      <td>https://fragdenstaat.de/api/v1/request/189/</td>\n      <td>True</td>\n      <td>True</td>\n      <td>True</td>\n      <td>post</td>\n      <td>https://fragdenstaat.de/api/v1/publicbody/90/</td>\n      <td>None</td>\n      <td>successful</td>\n      <td>2009-03-20T12:00:00+01:00</td>\n    </tr>\n    <tr>\n      <th>701926</th>\n      <td>246</td>\n      <td>https://fragdenstaat.de/api/v1/request/189/</td>\n      <td>True</td>\n      <td>False</td>\n      <td>False</td>\n      <td>email</td>\n      <td>None</td>\n      <td>https://fragdenstaat.de/api/v1/publicbody/90/</td>\n      <td>None</td>\n      <td>2009-03-15T12:00:00+01:00</td>\n    </tr>\n  </tbody>\n</table>\n<p>702250 rows × 10 columns</p>\n</div>"
     },
     "execution_count": 25,
     "metadata": {},
     "output_type": "execute_result"
    }
   ],
   "source": [
    "df2"
   ],
   "metadata": {
    "collapsed": false
   }
  },
  {
   "cell_type": "code",
   "execution_count": 30,
   "outputs": [
    {
     "data": {
      "text/plain": "Empty DataFrame\nColumns: [id, request, sent, is_response, is_postal, kind, sender_public_body, recipient_public_body, status, timestamp]\nIndex: []",
      "text/html": "<div>\n<style scoped>\n    .dataframe tbody tr th:only-of-type {\n        vertical-align: middle;\n    }\n\n    .dataframe tbody tr th {\n        vertical-align: top;\n    }\n\n    .dataframe thead th {\n        text-align: right;\n    }\n</style>\n<table border=\"1\" class=\"dataframe\">\n  <thead>\n    <tr style=\"text-align: right;\">\n      <th></th>\n      <th>id</th>\n      <th>request</th>\n      <th>sent</th>\n      <th>is_response</th>\n      <th>is_postal</th>\n      <th>kind</th>\n      <th>sender_public_body</th>\n      <th>recipient_public_body</th>\n      <th>status</th>\n      <th>timestamp</th>\n    </tr>\n  </thead>\n  <tbody>\n  </tbody>\n</table>\n</div>"
     },
     "execution_count": 30,
     "metadata": {},
     "output_type": "execute_result"
    }
   ],
   "source": [
    "df2[df2[\"id\"]==\"495984\"]"
   ],
   "metadata": {
    "collapsed": false
   }
  },
  {
   "cell_type": "code",
   "execution_count": 14,
   "outputs": [],
   "source": [
    "df2[\"request\"] = df2[\"request\"].apply(lambda req: int(req.split(\"/\")[-2]))\n",
    "df2[\"sender_public_body\"] = df2[\"sender_public_body\"].apply(lambda pb: int(pb.split(\"/\")[-2]) if pb is not None else pd.NA)\n",
    "df2[\"recipient_public_body\"] = df2[\"recipient_public_body\"].apply(lambda pb: int(pb.split(\"/\")[-2]) if pb is not None else pd.NA)\n",
    "df2.drop_duplicates(subset=\"id\", inplace=True, keep=\"first\")\n",
    "df2.rename(columns={\"request\": \"foi_request_id\"}, errors=\"raise\", inplace=True)"
   ],
   "metadata": {
    "collapsed": false
   }
  },
  {
   "cell_type": "code",
   "execution_count": 16,
   "outputs": [],
   "source": [
    "df2 = df2.query(f'foi_request_id in {id_lst}')"
   ],
   "metadata": {
    "collapsed": false
   }
  },
  {
   "cell_type": "code",
   "execution_count": null,
   "outputs": [],
   "source": [],
   "metadata": {
    "collapsed": false
   }
  }
 ],
 "metadata": {
  "kernelspec": {
   "display_name": "Python 3",
   "language": "python",
   "name": "python3"
  },
  "language_info": {
   "codemirror_mode": {
    "name": "ipython",
    "version": 2
   },
   "file_extension": ".py",
   "mimetype": "text/x-python",
   "name": "python",
   "nbconvert_exporter": "python",
   "pygments_lexer": "ipython2",
   "version": "2.7.6"
  }
 },
 "nbformat": 4,
 "nbformat_minor": 0
}
