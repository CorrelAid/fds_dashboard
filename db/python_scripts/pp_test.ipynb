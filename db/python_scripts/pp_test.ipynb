{
 "cells": [
  {
   "cell_type": "code",
   "execution_count": 2,
   "metadata": {
    "collapsed": true
   },
   "outputs": [],
   "source": [
    "import numpy as np\n",
    "from helpers import decompress_pickle, compressed_pickle\n",
    "import pandas as pd\n",
    "import numpy as np"
   ]
  },
  {
   "cell_type": "markdown",
   "source": [
    "## FOI requests"
   ],
   "metadata": {
    "collapsed": false
   }
  },
  {
   "cell_type": "code",
   "execution_count": 16,
   "outputs": [],
   "source": [
    "data = decompress_pickle(\"data/foi_requests.pbz2\")"
   ],
   "metadata": {
    "collapsed": false
   }
  },
  {
   "cell_type": "code",
   "execution_count": 17,
   "outputs": [
    {
     "data": {
      "text/plain": "210750"
     },
     "execution_count": 17,
     "metadata": {},
     "output_type": "execute_result"
    }
   ],
   "source": [
    "df = pd.DataFrame(data)\n",
    "len(df)"
   ],
   "metadata": {
    "collapsed": false
   }
  },
  {
   "cell_type": "code",
   "execution_count": 6,
   "outputs": [
    {
     "data": {
      "text/plain": "            id                                     jurisdiction  \\\n210700  180721  https://fragdenstaat.de/api/v1/jurisdiction/91/   \n210701  274415  https://fragdenstaat.de/api/v1/jurisdiction/92/   \n210702  274414  https://fragdenstaat.de/api/v1/jurisdiction/12/   \n210703  274413  https://fragdenstaat.de/api/v1/jurisdiction/91/   \n210704  274412  https://fragdenstaat.de/api/v1/jurisdiction/93/   \n...        ...                                              ...   \n45          27   https://fragdenstaat.de/api/v1/jurisdiction/1/   \n46          23   https://fragdenstaat.de/api/v1/jurisdiction/1/   \n47         189   https://fragdenstaat.de/api/v1/jurisdiction/1/   \n48          21   https://fragdenstaat.de/api/v1/jurisdiction/1/   \n49         191   https://fragdenstaat.de/api/v1/jurisdiction/1/   \n\n                refusal_reason  costs                          due_date  \\\n210700                            0.0  2020-03-18T23:39:28.871811+01:00   \n210701                            0.0         2023-05-03T00:00:00+02:00   \n210702                            0.0         2023-05-03T00:00:00+02:00   \n210703                            0.0         2023-05-03T00:00:00+02:00   \n210704                            0.0         2023-05-03T00:00:00+02:00   \n...                        ...    ...                               ...   \n45                                0.0                              None   \n46                                0.0                              None   \n47                                0.0                              None   \n48                                0.0                              None   \n49      Gesetz nicht anwendbar    0.0         2009-11-04T00:00:00+01:00   \n\n                      resolved_on                        created_at  \\\n210700                       None  2020-02-17T23:38:47.588434+01:00   \n210701                       None  2023-03-31T00:35:28.108711+02:00   \n210702                       None  2023-03-31T00:06:42.005241+02:00   \n210703                       None  2023-03-30T23:24:04.717058+02:00   \n210704                       None  2023-03-30T23:01:55.803168+02:00   \n...                           ...                               ...   \n45                           None  2011-08-01T18:47:32.408280+02:00   \n46      2011-05-23T12:00:00+02:00         2010-11-25T12:00:00+01:00   \n47                           None         2009-03-15T12:00:00+01:00   \n48      2010-11-04T23:59:00+01:00         2010-09-09T09:51:00+02:00   \n49                           None         2009-10-03T12:00:00+02:00   \n\n                            last_message             status  \\\n210700  2023-03-31T01:39:38.565580+02:00           resolved   \n210701  2023-03-31T00:36:06.955387+02:00  awaiting_response   \n210702         2023-03-31T00:10:04+02:00  awaiting_response   \n210703  2023-03-30T23:24:24.871712+02:00  awaiting_response   \n210704  2023-03-30T23:01:55.870341+02:00  awaiting_response   \n...                                  ...                ...   \n45      2011-08-01T18:47:32.408280+02:00             asleep   \n46             2011-05-23T12:00:00+02:00           resolved   \n47             2011-05-09T12:00:00+02:00           resolved   \n48             2010-11-04T12:00:00+01:00           resolved   \n49             2010-08-02T12:00:00+02:00           resolved   \n\n                  resolution      user  \\\n210700               refused       NaN   \n210701                        660524.0   \n210702                             NaN   \n210703                        660523.0   \n210704                             NaN   \n...                      ...       ...   \n45                                 NaN   \n46      partially_successful      21.0   \n47                successful     166.0   \n48      partially_successful       NaN   \n49                   refused     166.0   \n\n                                              public_body  \\\n210700  {'resource_uri': 'https://fragdenstaat.de/api/...   \n210701  {'resource_uri': 'https://fragdenstaat.de/api/...   \n210702  {'resource_uri': 'https://fragdenstaat.de/api/...   \n210703  {'resource_uri': 'https://fragdenstaat.de/api/...   \n210704  {'resource_uri': 'https://fragdenstaat.de/api/...   \n...                                                   ...   \n45                                                   None   \n46      {'resource_uri': 'https://fragdenstaat.de/api/...   \n47      {'resource_uri': 'https://fragdenstaat.de/api/...   \n48      {'resource_uri': 'https://fragdenstaat.de/api/...   \n49      {'resource_uri': 'https://fragdenstaat.de/api/...   \n\n                                           campaign  \n210700                                         None  \n210701  https://fragdenstaat.de/api/v1/campaign/15/  \n210702                                         None  \n210703                                         None  \n210704                                         None  \n...                                             ...  \n45                                             None  \n46                                             None  \n47                                             None  \n48                                             None  \n49                                             None  \n\n[210750 rows x 13 columns]",
      "text/html": "<div>\n<style scoped>\n    .dataframe tbody tr th:only-of-type {\n        vertical-align: middle;\n    }\n\n    .dataframe tbody tr th {\n        vertical-align: top;\n    }\n\n    .dataframe thead th {\n        text-align: right;\n    }\n</style>\n<table border=\"1\" class=\"dataframe\">\n  <thead>\n    <tr style=\"text-align: right;\">\n      <th></th>\n      <th>id</th>\n      <th>jurisdiction</th>\n      <th>refusal_reason</th>\n      <th>costs</th>\n      <th>due_date</th>\n      <th>resolved_on</th>\n      <th>created_at</th>\n      <th>last_message</th>\n      <th>status</th>\n      <th>resolution</th>\n      <th>user</th>\n      <th>public_body</th>\n      <th>campaign</th>\n    </tr>\n  </thead>\n  <tbody>\n    <tr>\n      <th>210700</th>\n      <td>180721</td>\n      <td>https://fragdenstaat.de/api/v1/jurisdiction/91/</td>\n      <td></td>\n      <td>0.0</td>\n      <td>2020-03-18T23:39:28.871811+01:00</td>\n      <td>None</td>\n      <td>2020-02-17T23:38:47.588434+01:00</td>\n      <td>2023-03-31T01:39:38.565580+02:00</td>\n      <td>resolved</td>\n      <td>refused</td>\n      <td>NaN</td>\n      <td>{'resource_uri': 'https://fragdenstaat.de/api/...</td>\n      <td>None</td>\n    </tr>\n    <tr>\n      <th>210701</th>\n      <td>274415</td>\n      <td>https://fragdenstaat.de/api/v1/jurisdiction/92/</td>\n      <td></td>\n      <td>0.0</td>\n      <td>2023-05-03T00:00:00+02:00</td>\n      <td>None</td>\n      <td>2023-03-31T00:35:28.108711+02:00</td>\n      <td>2023-03-31T00:36:06.955387+02:00</td>\n      <td>awaiting_response</td>\n      <td></td>\n      <td>660524.0</td>\n      <td>{'resource_uri': 'https://fragdenstaat.de/api/...</td>\n      <td>https://fragdenstaat.de/api/v1/campaign/15/</td>\n    </tr>\n    <tr>\n      <th>210702</th>\n      <td>274414</td>\n      <td>https://fragdenstaat.de/api/v1/jurisdiction/12/</td>\n      <td></td>\n      <td>0.0</td>\n      <td>2023-05-03T00:00:00+02:00</td>\n      <td>None</td>\n      <td>2023-03-31T00:06:42.005241+02:00</td>\n      <td>2023-03-31T00:10:04+02:00</td>\n      <td>awaiting_response</td>\n      <td></td>\n      <td>NaN</td>\n      <td>{'resource_uri': 'https://fragdenstaat.de/api/...</td>\n      <td>None</td>\n    </tr>\n    <tr>\n      <th>210703</th>\n      <td>274413</td>\n      <td>https://fragdenstaat.de/api/v1/jurisdiction/91/</td>\n      <td></td>\n      <td>0.0</td>\n      <td>2023-05-03T00:00:00+02:00</td>\n      <td>None</td>\n      <td>2023-03-30T23:24:04.717058+02:00</td>\n      <td>2023-03-30T23:24:24.871712+02:00</td>\n      <td>awaiting_response</td>\n      <td></td>\n      <td>660523.0</td>\n      <td>{'resource_uri': 'https://fragdenstaat.de/api/...</td>\n      <td>None</td>\n    </tr>\n    <tr>\n      <th>210704</th>\n      <td>274412</td>\n      <td>https://fragdenstaat.de/api/v1/jurisdiction/93/</td>\n      <td></td>\n      <td>0.0</td>\n      <td>2023-05-03T00:00:00+02:00</td>\n      <td>None</td>\n      <td>2023-03-30T23:01:55.803168+02:00</td>\n      <td>2023-03-30T23:01:55.870341+02:00</td>\n      <td>awaiting_response</td>\n      <td></td>\n      <td>NaN</td>\n      <td>{'resource_uri': 'https://fragdenstaat.de/api/...</td>\n      <td>None</td>\n    </tr>\n    <tr>\n      <th>...</th>\n      <td>...</td>\n      <td>...</td>\n      <td>...</td>\n      <td>...</td>\n      <td>...</td>\n      <td>...</td>\n      <td>...</td>\n      <td>...</td>\n      <td>...</td>\n      <td>...</td>\n      <td>...</td>\n      <td>...</td>\n      <td>...</td>\n    </tr>\n    <tr>\n      <th>45</th>\n      <td>27</td>\n      <td>https://fragdenstaat.de/api/v1/jurisdiction/1/</td>\n      <td></td>\n      <td>0.0</td>\n      <td>None</td>\n      <td>None</td>\n      <td>2011-08-01T18:47:32.408280+02:00</td>\n      <td>2011-08-01T18:47:32.408280+02:00</td>\n      <td>asleep</td>\n      <td></td>\n      <td>NaN</td>\n      <td>None</td>\n      <td>None</td>\n    </tr>\n    <tr>\n      <th>46</th>\n      <td>23</td>\n      <td>https://fragdenstaat.de/api/v1/jurisdiction/1/</td>\n      <td></td>\n      <td>0.0</td>\n      <td>None</td>\n      <td>2011-05-23T12:00:00+02:00</td>\n      <td>2010-11-25T12:00:00+01:00</td>\n      <td>2011-05-23T12:00:00+02:00</td>\n      <td>resolved</td>\n      <td>partially_successful</td>\n      <td>21.0</td>\n      <td>{'resource_uri': 'https://fragdenstaat.de/api/...</td>\n      <td>None</td>\n    </tr>\n    <tr>\n      <th>47</th>\n      <td>189</td>\n      <td>https://fragdenstaat.de/api/v1/jurisdiction/1/</td>\n      <td></td>\n      <td>0.0</td>\n      <td>None</td>\n      <td>None</td>\n      <td>2009-03-15T12:00:00+01:00</td>\n      <td>2011-05-09T12:00:00+02:00</td>\n      <td>resolved</td>\n      <td>successful</td>\n      <td>166.0</td>\n      <td>{'resource_uri': 'https://fragdenstaat.de/api/...</td>\n      <td>None</td>\n    </tr>\n    <tr>\n      <th>48</th>\n      <td>21</td>\n      <td>https://fragdenstaat.de/api/v1/jurisdiction/1/</td>\n      <td></td>\n      <td>0.0</td>\n      <td>None</td>\n      <td>2010-11-04T23:59:00+01:00</td>\n      <td>2010-09-09T09:51:00+02:00</td>\n      <td>2010-11-04T12:00:00+01:00</td>\n      <td>resolved</td>\n      <td>partially_successful</td>\n      <td>NaN</td>\n      <td>{'resource_uri': 'https://fragdenstaat.de/api/...</td>\n      <td>None</td>\n    </tr>\n    <tr>\n      <th>49</th>\n      <td>191</td>\n      <td>https://fragdenstaat.de/api/v1/jurisdiction/1/</td>\n      <td>Gesetz nicht anwendbar</td>\n      <td>0.0</td>\n      <td>2009-11-04T00:00:00+01:00</td>\n      <td>None</td>\n      <td>2009-10-03T12:00:00+02:00</td>\n      <td>2010-08-02T12:00:00+02:00</td>\n      <td>resolved</td>\n      <td>refused</td>\n      <td>166.0</td>\n      <td>{'resource_uri': 'https://fragdenstaat.de/api/...</td>\n      <td>None</td>\n    </tr>\n  </tbody>\n</table>\n<p>210750 rows × 13 columns</p>\n</div>"
     },
     "execution_count": 6,
     "metadata": {},
     "output_type": "execute_result"
    }
   ],
   "source": [
    "df"
   ],
   "metadata": {
    "collapsed": false
   }
  },
  {
   "cell_type": "code",
   "execution_count": 24,
   "outputs": [],
   "source": [
    "df = df.query('id not in [210700]')"
   ],
   "metadata": {
    "collapsed": false
   }
  },
  {
   "cell_type": "code",
   "execution_count": 25,
   "outputs": [
    {
     "data": {
      "text/plain": "Empty DataFrame\nColumns: [id, jurisdiction, refusal_reason, costs, due_date, resolved_on, created_at, last_message, status, resolution, user, public_body, campaign]\nIndex: []",
      "text/html": "<div>\n<style scoped>\n    .dataframe tbody tr th:only-of-type {\n        vertical-align: middle;\n    }\n\n    .dataframe tbody tr th {\n        vertical-align: top;\n    }\n\n    .dataframe thead th {\n        text-align: right;\n    }\n</style>\n<table border=\"1\" class=\"dataframe\">\n  <thead>\n    <tr style=\"text-align: right;\">\n      <th></th>\n      <th>id</th>\n      <th>jurisdiction</th>\n      <th>refusal_reason</th>\n      <th>costs</th>\n      <th>due_date</th>\n      <th>resolved_on</th>\n      <th>created_at</th>\n      <th>last_message</th>\n      <th>status</th>\n      <th>resolution</th>\n      <th>user</th>\n      <th>public_body</th>\n      <th>campaign</th>\n    </tr>\n  </thead>\n  <tbody>\n  </tbody>\n</table>\n</div>"
     },
     "execution_count": 25,
     "metadata": {},
     "output_type": "execute_result"
    }
   ],
   "source": [
    "df"
   ],
   "metadata": {
    "collapsed": false
   }
  },
  {
   "cell_type": "code",
   "execution_count": 19,
   "outputs": [
    {
     "data": {
      "text/plain": "[None,\n 'https://fragdenstaat.de/api/v1/campaign/15/',\n 'https://fragdenstaat.de/api/v1/campaign/4/',\n 'https://fragdenstaat.de/api/v1/campaign/13/',\n 'https://fragdenstaat.de/api/v1/campaign/5/',\n 'https://fragdenstaat.de/api/v1/campaign/14/',\n 'https://fragdenstaat.de/api/v1/campaign/20/',\n 'https://fragdenstaat.de/api/v1/campaign/6/',\n 'https://fragdenstaat.de/api/v1/campaign/11/',\n 'https://fragdenstaat.de/api/v1/campaign/16/',\n 'https://fragdenstaat.de/api/v1/campaign/17/',\n 'https://fragdenstaat.de/api/v1/campaign/18/',\n 'https://fragdenstaat.de/api/v1/campaign/19/',\n 'https://fragdenstaat.de/api/v1/campaign/12/',\n 'https://fragdenstaat.de/api/v1/campaign/9/',\n 'https://fragdenstaat.de/api/v1/campaign/8/',\n 'https://fragdenstaat.de/api/v1/campaign/2/',\n 'https://fragdenstaat.de/api/v1/campaign/3/',\n 'https://fragdenstaat.de/api/v1/campaign/1/',\n 'https://fragdenstaat.de/api/v1/campaign/7/']"
     },
     "execution_count": 19,
     "metadata": {},
     "output_type": "execute_result"
    }
   ],
   "source": [
    "list(df.campaign.unique())"
   ],
   "metadata": {
    "collapsed": false
   }
  },
  {
   "cell_type": "code",
   "execution_count": 18,
   "outputs": [
    {
     "data": {
      "text/plain": "            id                                     jurisdiction  \\\n194162  233276   https://fragdenstaat.de/api/v1/jurisdiction/2/   \n183287  234030  https://fragdenstaat.de/api/v1/jurisdiction/93/   \n182333  233717  https://fragdenstaat.de/api/v1/jurisdiction/92/   \n182021  233710  https://fragdenstaat.de/api/v1/jurisdiction/91/   \n181751  233818  https://fragdenstaat.de/api/v1/jurisdiction/11/   \n...        ...                                              ...   \n176438  233748  https://fragdenstaat.de/api/v1/jurisdiction/91/   \n176443  233239  https://fragdenstaat.de/api/v1/jurisdiction/93/   \n176388  233704  https://fragdenstaat.de/api/v1/jurisdiction/92/   \n176389  233734  https://fragdenstaat.de/api/v1/jurisdiction/91/   \n176338  233553  https://fragdenstaat.de/api/v1/jurisdiction/13/   \n\n       refusal_reason  costs                          due_date resolved_on  \\\n194162                   0.0         2021-11-26T08:25:00+01:00        None   \n183287                   0.0  2021-12-03T20:53:54.128984+01:00        None   \n182333                   0.0  2021-12-01T17:15:13.989343+01:00        None   \n182021                   0.0  2021-12-01T17:13:03.903802+01:00        None   \n181751                   0.0  2022-01-27T14:24:45.852363+01:00        None   \n...               ...    ...                               ...         ...   \n176438                   0.0  2021-12-01T19:37:36.054235+01:00        None   \n176443                   0.0  2021-11-25T16:46:45.237077+01:00        None   \n176388                   0.0  2021-12-01T17:12:18.359834+01:00        None   \n176389                   0.0         2021-12-01T17:18:00+01:00        None   \n176338                   0.0  2021-11-30T09:44:05.072846+01:00        None   \n\n                              created_at                      last_message  \\\n194162         2021-11-19T08:25:00+01:00         2022-08-16T10:08:24+02:00   \n183287  2021-11-28T20:53:54.124395+01:00         2022-03-10T11:02:27+01:00   \n182333  2021-11-24T17:15:13.985976+01:00         2022-02-24T11:41:53+01:00   \n182021  2021-11-24T17:13:03.899405+01:00         2022-02-21T10:32:10+01:00   \n181751  2021-11-25T14:24:45.848080+01:00  2022-02-17T14:27:59.567754+01:00   \n...                                  ...                               ...   \n176438  2021-11-24T19:37:36.047322+01:00         2021-11-26T10:37:22+01:00   \n176443  2021-11-18T16:46:45.237077+01:00         2021-11-26T09:06:40+01:00   \n176388  2021-11-24T17:12:18.355364+01:00         2021-11-25T12:47:17+01:00   \n176389         2021-11-24T17:18:00+01:00         2021-11-25T12:29:00+01:00   \n176338  2021-11-23T09:44:05.067844+01:00         2021-11-24T13:49:51+01:00   \n\n          status            resolution  user  \\\n194162  resolved  partially_successful   NaN   \n183287  resolved  partially_successful   NaN   \n182333  resolved  partially_successful   NaN   \n182021  resolved            successful   NaN   \n181751  resolved  partially_successful   NaN   \n...          ...                   ...   ...   \n176438  resolved  partially_successful   NaN   \n176443  resolved            successful   NaN   \n176388  resolved            successful   NaN   \n176389  resolved              not_held   NaN   \n176338  resolved            successful   NaN   \n\n                                              public_body  \\\n194162  {'resource_uri': 'https://fragdenstaat.de/api/...   \n183287  {'resource_uri': 'https://fragdenstaat.de/api/...   \n182333  {'resource_uri': 'https://fragdenstaat.de/api/...   \n182021  {'resource_uri': 'https://fragdenstaat.de/api/...   \n181751  {'resource_uri': 'https://fragdenstaat.de/api/...   \n...                                                   ...   \n176438  {'resource_uri': 'https://fragdenstaat.de/api/...   \n176443  {'resource_uri': 'https://fragdenstaat.de/api/...   \n176388  {'resource_uri': 'https://fragdenstaat.de/api/...   \n176389  {'resource_uri': 'https://fragdenstaat.de/api/...   \n176338  {'resource_uri': 'https://fragdenstaat.de/api/...   \n\n                                           campaign  \n194162  https://fragdenstaat.de/api/v1/campaign/18/  \n183287  https://fragdenstaat.de/api/v1/campaign/18/  \n182333  https://fragdenstaat.de/api/v1/campaign/18/  \n182021  https://fragdenstaat.de/api/v1/campaign/18/  \n181751  https://fragdenstaat.de/api/v1/campaign/18/  \n...                                             ...  \n176438  https://fragdenstaat.de/api/v1/campaign/18/  \n176443  https://fragdenstaat.de/api/v1/campaign/18/  \n176388  https://fragdenstaat.de/api/v1/campaign/18/  \n176389  https://fragdenstaat.de/api/v1/campaign/18/  \n176338  https://fragdenstaat.de/api/v1/campaign/18/  \n\n[254 rows x 13 columns]",
      "text/html": "<div>\n<style scoped>\n    .dataframe tbody tr th:only-of-type {\n        vertical-align: middle;\n    }\n\n    .dataframe tbody tr th {\n        vertical-align: top;\n    }\n\n    .dataframe thead th {\n        text-align: right;\n    }\n</style>\n<table border=\"1\" class=\"dataframe\">\n  <thead>\n    <tr style=\"text-align: right;\">\n      <th></th>\n      <th>id</th>\n      <th>jurisdiction</th>\n      <th>refusal_reason</th>\n      <th>costs</th>\n      <th>due_date</th>\n      <th>resolved_on</th>\n      <th>created_at</th>\n      <th>last_message</th>\n      <th>status</th>\n      <th>resolution</th>\n      <th>user</th>\n      <th>public_body</th>\n      <th>campaign</th>\n    </tr>\n  </thead>\n  <tbody>\n    <tr>\n      <th>194162</th>\n      <td>233276</td>\n      <td>https://fragdenstaat.de/api/v1/jurisdiction/2/</td>\n      <td></td>\n      <td>0.0</td>\n      <td>2021-11-26T08:25:00+01:00</td>\n      <td>None</td>\n      <td>2021-11-19T08:25:00+01:00</td>\n      <td>2022-08-16T10:08:24+02:00</td>\n      <td>resolved</td>\n      <td>partially_successful</td>\n      <td>NaN</td>\n      <td>{'resource_uri': 'https://fragdenstaat.de/api/...</td>\n      <td>https://fragdenstaat.de/api/v1/campaign/18/</td>\n    </tr>\n    <tr>\n      <th>183287</th>\n      <td>234030</td>\n      <td>https://fragdenstaat.de/api/v1/jurisdiction/93/</td>\n      <td></td>\n      <td>0.0</td>\n      <td>2021-12-03T20:53:54.128984+01:00</td>\n      <td>None</td>\n      <td>2021-11-28T20:53:54.124395+01:00</td>\n      <td>2022-03-10T11:02:27+01:00</td>\n      <td>resolved</td>\n      <td>partially_successful</td>\n      <td>NaN</td>\n      <td>{'resource_uri': 'https://fragdenstaat.de/api/...</td>\n      <td>https://fragdenstaat.de/api/v1/campaign/18/</td>\n    </tr>\n    <tr>\n      <th>182333</th>\n      <td>233717</td>\n      <td>https://fragdenstaat.de/api/v1/jurisdiction/92/</td>\n      <td></td>\n      <td>0.0</td>\n      <td>2021-12-01T17:15:13.989343+01:00</td>\n      <td>None</td>\n      <td>2021-11-24T17:15:13.985976+01:00</td>\n      <td>2022-02-24T11:41:53+01:00</td>\n      <td>resolved</td>\n      <td>partially_successful</td>\n      <td>NaN</td>\n      <td>{'resource_uri': 'https://fragdenstaat.de/api/...</td>\n      <td>https://fragdenstaat.de/api/v1/campaign/18/</td>\n    </tr>\n    <tr>\n      <th>182021</th>\n      <td>233710</td>\n      <td>https://fragdenstaat.de/api/v1/jurisdiction/91/</td>\n      <td></td>\n      <td>0.0</td>\n      <td>2021-12-01T17:13:03.903802+01:00</td>\n      <td>None</td>\n      <td>2021-11-24T17:13:03.899405+01:00</td>\n      <td>2022-02-21T10:32:10+01:00</td>\n      <td>resolved</td>\n      <td>successful</td>\n      <td>NaN</td>\n      <td>{'resource_uri': 'https://fragdenstaat.de/api/...</td>\n      <td>https://fragdenstaat.de/api/v1/campaign/18/</td>\n    </tr>\n    <tr>\n      <th>181751</th>\n      <td>233818</td>\n      <td>https://fragdenstaat.de/api/v1/jurisdiction/11/</td>\n      <td></td>\n      <td>0.0</td>\n      <td>2022-01-27T14:24:45.852363+01:00</td>\n      <td>None</td>\n      <td>2021-11-25T14:24:45.848080+01:00</td>\n      <td>2022-02-17T14:27:59.567754+01:00</td>\n      <td>resolved</td>\n      <td>partially_successful</td>\n      <td>NaN</td>\n      <td>{'resource_uri': 'https://fragdenstaat.de/api/...</td>\n      <td>https://fragdenstaat.de/api/v1/campaign/18/</td>\n    </tr>\n    <tr>\n      <th>...</th>\n      <td>...</td>\n      <td>...</td>\n      <td>...</td>\n      <td>...</td>\n      <td>...</td>\n      <td>...</td>\n      <td>...</td>\n      <td>...</td>\n      <td>...</td>\n      <td>...</td>\n      <td>...</td>\n      <td>...</td>\n      <td>...</td>\n    </tr>\n    <tr>\n      <th>176438</th>\n      <td>233748</td>\n      <td>https://fragdenstaat.de/api/v1/jurisdiction/91/</td>\n      <td></td>\n      <td>0.0</td>\n      <td>2021-12-01T19:37:36.054235+01:00</td>\n      <td>None</td>\n      <td>2021-11-24T19:37:36.047322+01:00</td>\n      <td>2021-11-26T10:37:22+01:00</td>\n      <td>resolved</td>\n      <td>partially_successful</td>\n      <td>NaN</td>\n      <td>{'resource_uri': 'https://fragdenstaat.de/api/...</td>\n      <td>https://fragdenstaat.de/api/v1/campaign/18/</td>\n    </tr>\n    <tr>\n      <th>176443</th>\n      <td>233239</td>\n      <td>https://fragdenstaat.de/api/v1/jurisdiction/93/</td>\n      <td></td>\n      <td>0.0</td>\n      <td>2021-11-25T16:46:45.237077+01:00</td>\n      <td>None</td>\n      <td>2021-11-18T16:46:45.237077+01:00</td>\n      <td>2021-11-26T09:06:40+01:00</td>\n      <td>resolved</td>\n      <td>successful</td>\n      <td>NaN</td>\n      <td>{'resource_uri': 'https://fragdenstaat.de/api/...</td>\n      <td>https://fragdenstaat.de/api/v1/campaign/18/</td>\n    </tr>\n    <tr>\n      <th>176388</th>\n      <td>233704</td>\n      <td>https://fragdenstaat.de/api/v1/jurisdiction/92/</td>\n      <td></td>\n      <td>0.0</td>\n      <td>2021-12-01T17:12:18.359834+01:00</td>\n      <td>None</td>\n      <td>2021-11-24T17:12:18.355364+01:00</td>\n      <td>2021-11-25T12:47:17+01:00</td>\n      <td>resolved</td>\n      <td>successful</td>\n      <td>NaN</td>\n      <td>{'resource_uri': 'https://fragdenstaat.de/api/...</td>\n      <td>https://fragdenstaat.de/api/v1/campaign/18/</td>\n    </tr>\n    <tr>\n      <th>176389</th>\n      <td>233734</td>\n      <td>https://fragdenstaat.de/api/v1/jurisdiction/91/</td>\n      <td></td>\n      <td>0.0</td>\n      <td>2021-12-01T17:18:00+01:00</td>\n      <td>None</td>\n      <td>2021-11-24T17:18:00+01:00</td>\n      <td>2021-11-25T12:29:00+01:00</td>\n      <td>resolved</td>\n      <td>not_held</td>\n      <td>NaN</td>\n      <td>{'resource_uri': 'https://fragdenstaat.de/api/...</td>\n      <td>https://fragdenstaat.de/api/v1/campaign/18/</td>\n    </tr>\n    <tr>\n      <th>176338</th>\n      <td>233553</td>\n      <td>https://fragdenstaat.de/api/v1/jurisdiction/13/</td>\n      <td></td>\n      <td>0.0</td>\n      <td>2021-11-30T09:44:05.072846+01:00</td>\n      <td>None</td>\n      <td>2021-11-23T09:44:05.067844+01:00</td>\n      <td>2021-11-24T13:49:51+01:00</td>\n      <td>resolved</td>\n      <td>successful</td>\n      <td>NaN</td>\n      <td>{'resource_uri': 'https://fragdenstaat.de/api/...</td>\n      <td>https://fragdenstaat.de/api/v1/campaign/18/</td>\n    </tr>\n  </tbody>\n</table>\n<p>254 rows × 13 columns</p>\n</div>"
     },
     "execution_count": 18,
     "metadata": {},
     "output_type": "execute_result"
    }
   ],
   "source": [
    "df[df.campaign==\"https://fragdenstaat.de/api/v1/campaign/18/\"]"
   ],
   "metadata": {
    "collapsed": false
   }
  },
  {
   "cell_type": "code",
   "execution_count": null,
   "outputs": [],
   "source": [],
   "metadata": {
    "collapsed": false
   }
  },
  {
   "cell_type": "code",
   "execution_count": null,
   "outputs": [],
   "source": [
    "dups = df[df.duplicated(['id'],keep=\"first\")]"
   ],
   "metadata": {
    "collapsed": false
   }
  },
  {
   "cell_type": "code",
   "execution_count": 83,
   "outputs": [
    {
     "data": {
      "text/plain": "            id                                    jurisdiction refusal_reason  \\\n210711  274408  https://fragdenstaat.de/api/v1/jurisdiction/3/                  \n210654  274408  https://fragdenstaat.de/api/v1/jurisdiction/3/                  \n\n        costs                   due_date resolved_on  \\\n210711    0.0  2023-05-03T00:00:00+02:00        None   \n210654    0.0  2023-05-03T00:00:00+02:00        None   \n\n                              created_at                      last_message  \\\n210711  2023-03-30T21:41:07.145147+02:00  2023-03-30T21:41:16.879025+02:00   \n210654  2023-03-30T21:41:07.145147+02:00  2023-03-30T21:41:16.879025+02:00   \n\n                   status resolution  user  \\\n210711  awaiting_response              NaN   \n210654  awaiting_response              NaN   \n\n                                              public_body campaign  \\\n210711  {'resource_uri': 'https://fragdenstaat.de/api/...     None   \n210654  {'resource_uri': 'https://fragdenstaat.de/api/...     None   \n\n       public_body_id  \n210711           3679  \n210654           3679  ",
      "text/html": "<div>\n<style scoped>\n    .dataframe tbody tr th:only-of-type {\n        vertical-align: middle;\n    }\n\n    .dataframe tbody tr th {\n        vertical-align: top;\n    }\n\n    .dataframe thead th {\n        text-align: right;\n    }\n</style>\n<table border=\"1\" class=\"dataframe\">\n  <thead>\n    <tr style=\"text-align: right;\">\n      <th></th>\n      <th>id</th>\n      <th>jurisdiction</th>\n      <th>refusal_reason</th>\n      <th>costs</th>\n      <th>due_date</th>\n      <th>resolved_on</th>\n      <th>created_at</th>\n      <th>last_message</th>\n      <th>status</th>\n      <th>resolution</th>\n      <th>user</th>\n      <th>public_body</th>\n      <th>campaign</th>\n      <th>public_body_id</th>\n    </tr>\n  </thead>\n  <tbody>\n    <tr>\n      <th>210711</th>\n      <td>274408</td>\n      <td>https://fragdenstaat.de/api/v1/jurisdiction/3/</td>\n      <td></td>\n      <td>0.0</td>\n      <td>2023-05-03T00:00:00+02:00</td>\n      <td>None</td>\n      <td>2023-03-30T21:41:07.145147+02:00</td>\n      <td>2023-03-30T21:41:16.879025+02:00</td>\n      <td>awaiting_response</td>\n      <td></td>\n      <td>NaN</td>\n      <td>{'resource_uri': 'https://fragdenstaat.de/api/...</td>\n      <td>None</td>\n      <td>3679</td>\n    </tr>\n    <tr>\n      <th>210654</th>\n      <td>274408</td>\n      <td>https://fragdenstaat.de/api/v1/jurisdiction/3/</td>\n      <td></td>\n      <td>0.0</td>\n      <td>2023-05-03T00:00:00+02:00</td>\n      <td>None</td>\n      <td>2023-03-30T21:41:07.145147+02:00</td>\n      <td>2023-03-30T21:41:16.879025+02:00</td>\n      <td>awaiting_response</td>\n      <td></td>\n      <td>NaN</td>\n      <td>{'resource_uri': 'https://fragdenstaat.de/api/...</td>\n      <td>None</td>\n      <td>3679</td>\n    </tr>\n  </tbody>\n</table>\n</div>"
     },
     "execution_count": 83,
     "metadata": {},
     "output_type": "execute_result"
    }
   ],
   "source": [
    "# doesnt exist anymore\n",
    "df[df.id==274408]"
   ],
   "metadata": {
    "collapsed": false
   }
  },
  {
   "cell_type": "code",
   "execution_count": null,
   "outputs": [],
   "source": [
    "df[df.id==271506]"
   ],
   "metadata": {
    "collapsed": false
   }
  },
  {
   "cell_type": "code",
   "execution_count": null,
   "outputs": [],
   "source": [
    "df = df[[\"id\", \"jurisdiction\", \"refusal_reason\", \"costs\", \"due_date\",\n",
    "         \"created_at\", \"last_message\", \"status\", \"resolution\", \"user\", \"public_body\", \"campaign\"]]"
   ],
   "metadata": {
    "collapsed": false
   }
  },
  {
   "cell_type": "code",
   "execution_count": null,
   "outputs": [],
   "source": [
    "df.loc[df.refusal_reason==\"n/a\", \"refusal_reason\"] = pd.NA\n",
    "# df.loc[df.user.isna(), \"user\"] = pd.NA\n",
    "df['user'] = df['user'].astype('float').astype(pd.Int64Dtype())"
   ],
   "metadata": {
    "collapsed": false
   }
  },
  {
   "cell_type": "code",
   "execution_count": 81,
   "outputs": [],
   "source": [
    "df[\"public_body_id\"] = df[\"public_body\"].apply(\n",
    "    lambda dct: int(dct.get(\"id\")) if dct is not None else pd.NA)\n"
   ],
   "metadata": {
    "collapsed": false
   }
  },
  {
   "cell_type": "code",
   "execution_count": null,
   "outputs": [],
   "source": [
    "df = df.fillna(pd.NA)"
   ],
   "metadata": {
    "collapsed": false
   }
  },
  {
   "cell_type": "code",
   "execution_count": null,
   "outputs": [],
   "source": [
    "df.rename(columns={\"jurisdiction\": \"jurisdiction_id\"}, errors=\"raise\", inplace=True)"
   ],
   "metadata": {
    "collapsed": false
   }
  },
  {
   "cell_type": "code",
   "execution_count": null,
   "outputs": [],
   "source": [
    "df.rename(columns={\"campaign\": \"campaign_id\"}, errors=\"raise\", inplace=True)"
   ],
   "metadata": {
    "collapsed": false
   }
  },
  {
   "cell_type": "code",
   "execution_count": null,
   "outputs": [],
   "source": [
    "df[\"campaign_id\"] = df[\"campaign_id\"].apply(lambda x: int(x.split(\"/\")[-2]) if x is not None else pd.NA)"
   ],
   "metadata": {
    "collapsed": false
   }
  },
  {
   "cell_type": "code",
   "execution_count": 86,
   "outputs": [
    {
     "data": {
      "text/plain": "            id                                    jurisdiction refusal_reason  \\\n210601  269796  https://fragdenstaat.de/api/v1/jurisdiction/2/                  \n210036  269472  https://fragdenstaat.de/api/v1/jurisdiction/2/                  \n203868  266815  https://fragdenstaat.de/api/v1/jurisdiction/2/                  \n199979  261822  https://fragdenstaat.de/api/v1/jurisdiction/2/                  \n198465  257954  https://fragdenstaat.de/api/v1/jurisdiction/2/                  \n...        ...                                             ...            ...   \n20843    26274  https://fragdenstaat.de/api/v1/jurisdiction/2/                  \n20672    26008  https://fragdenstaat.de/api/v1/jurisdiction/2/                  \n20578    25654  https://fragdenstaat.de/api/v1/jurisdiction/2/                  \n19968    24613  https://fragdenstaat.de/api/v1/jurisdiction/2/                  \n19631    24507  https://fragdenstaat.de/api/v1/jurisdiction/2/                  \n\n        costs                   due_date resolved_on  \\\n210601    0.0  2023-04-12T00:00:00+02:00        None   \n210036    0.0  2023-03-08T00:00:00+01:00        None   \n203868    0.0  2023-02-04T00:00:00+01:00        None   \n199979    0.0  2022-11-29T00:00:00+01:00        None   \n198465    0.0  2022-10-01T00:00:00+02:00        None   \n...       ...                        ...         ...   \n20843     0.0  2018-02-27T00:00:00+01:00        None   \n20672     0.0  2018-02-09T00:00:00+01:00        None   \n20578     0.0  2018-01-12T00:00:00+01:00        None   \n19968     0.0  2017-10-17T00:00:00+02:00        None   \n19631     0.0  2017-10-06T00:00:00+02:00        None   \n\n                              created_at                      last_message  \\\n210601  2023-02-08T21:13:06.143845+01:00         2023-03-30T15:30:07+02:00   \n210036  2023-02-04T22:19:27.837592+01:00         2023-03-27T12:46:00+02:00   \n203868  2023-01-02T17:10:39.862443+01:00  2023-01-19T19:21:27.106971+01:00   \n199979  2022-10-27T21:19:17.282597+02:00         2022-11-18T13:20:29+01:00   \n198465  2022-08-28T22:47:02.097361+02:00         2022-10-25T15:04:47+02:00   \n...                                  ...                               ...   \n20843   2018-01-25T20:10:23.501695+01:00         2018-01-29T08:37:43+01:00   \n20672   2018-01-08T14:07:39.838383+01:00         2018-01-17T14:18:36+01:00   \n20578   2017-12-10T10:08:57.026368+01:00         2018-01-09T11:23:50+01:00   \n19968   2017-09-15T17:12:30.804091+02:00         2017-11-10T11:42:10+01:00   \n19631   2017-09-02T06:32:02.646213+02:00         2017-09-28T11:02:26+02:00   \n\n                   status            resolution      user  \\\n210601           resolved              not_held  628726.0   \n210036  awaiting_response                             NaN   \n203868           resolved            successful       NaN   \n199979           resolved  partially_successful       NaN   \n198465           resolved            successful       NaN   \n...                   ...                   ...       ...   \n20843            resolved              not_held       NaN   \n20672            resolved  partially_successful       NaN   \n20578            resolved              not_held  233367.0   \n19968            resolved  partially_successful  233367.0   \n19631            resolved  partially_successful  233367.0   \n\n                                              public_body campaign  \\\n210601  {'resource_uri': 'https://fragdenstaat.de/api/...     None   \n210036  {'resource_uri': 'https://fragdenstaat.de/api/...     None   \n203868  {'resource_uri': 'https://fragdenstaat.de/api/...     None   \n199979  {'resource_uri': 'https://fragdenstaat.de/api/...     None   \n198465  {'resource_uri': 'https://fragdenstaat.de/api/...     None   \n...                                                   ...      ...   \n20843   {'resource_uri': 'https://fragdenstaat.de/api/...     None   \n20672   {'resource_uri': 'https://fragdenstaat.de/api/...     None   \n20578   {'resource_uri': 'https://fragdenstaat.de/api/...     None   \n19968   {'resource_uri': 'https://fragdenstaat.de/api/...     None   \n19631   {'resource_uri': 'https://fragdenstaat.de/api/...     None   \n\n       public_body_id  \n210601          14714  \n210036          14714  \n203868          14714  \n199979          14714  \n198465          14714  \n...               ...  \n20843           14714  \n20672           14714  \n20578           14714  \n19968           14714  \n19631           14714  \n\n[74 rows x 14 columns]",
      "text/html": "<div>\n<style scoped>\n    .dataframe tbody tr th:only-of-type {\n        vertical-align: middle;\n    }\n\n    .dataframe tbody tr th {\n        vertical-align: top;\n    }\n\n    .dataframe thead th {\n        text-align: right;\n    }\n</style>\n<table border=\"1\" class=\"dataframe\">\n  <thead>\n    <tr style=\"text-align: right;\">\n      <th></th>\n      <th>id</th>\n      <th>jurisdiction</th>\n      <th>refusal_reason</th>\n      <th>costs</th>\n      <th>due_date</th>\n      <th>resolved_on</th>\n      <th>created_at</th>\n      <th>last_message</th>\n      <th>status</th>\n      <th>resolution</th>\n      <th>user</th>\n      <th>public_body</th>\n      <th>campaign</th>\n      <th>public_body_id</th>\n    </tr>\n  </thead>\n  <tbody>\n    <tr>\n      <th>210601</th>\n      <td>269796</td>\n      <td>https://fragdenstaat.de/api/v1/jurisdiction/2/</td>\n      <td></td>\n      <td>0.0</td>\n      <td>2023-04-12T00:00:00+02:00</td>\n      <td>None</td>\n      <td>2023-02-08T21:13:06.143845+01:00</td>\n      <td>2023-03-30T15:30:07+02:00</td>\n      <td>resolved</td>\n      <td>not_held</td>\n      <td>628726.0</td>\n      <td>{'resource_uri': 'https://fragdenstaat.de/api/...</td>\n      <td>None</td>\n      <td>14714</td>\n    </tr>\n    <tr>\n      <th>210036</th>\n      <td>269472</td>\n      <td>https://fragdenstaat.de/api/v1/jurisdiction/2/</td>\n      <td></td>\n      <td>0.0</td>\n      <td>2023-03-08T00:00:00+01:00</td>\n      <td>None</td>\n      <td>2023-02-04T22:19:27.837592+01:00</td>\n      <td>2023-03-27T12:46:00+02:00</td>\n      <td>awaiting_response</td>\n      <td></td>\n      <td>NaN</td>\n      <td>{'resource_uri': 'https://fragdenstaat.de/api/...</td>\n      <td>None</td>\n      <td>14714</td>\n    </tr>\n    <tr>\n      <th>203868</th>\n      <td>266815</td>\n      <td>https://fragdenstaat.de/api/v1/jurisdiction/2/</td>\n      <td></td>\n      <td>0.0</td>\n      <td>2023-02-04T00:00:00+01:00</td>\n      <td>None</td>\n      <td>2023-01-02T17:10:39.862443+01:00</td>\n      <td>2023-01-19T19:21:27.106971+01:00</td>\n      <td>resolved</td>\n      <td>successful</td>\n      <td>NaN</td>\n      <td>{'resource_uri': 'https://fragdenstaat.de/api/...</td>\n      <td>None</td>\n      <td>14714</td>\n    </tr>\n    <tr>\n      <th>199979</th>\n      <td>261822</td>\n      <td>https://fragdenstaat.de/api/v1/jurisdiction/2/</td>\n      <td></td>\n      <td>0.0</td>\n      <td>2022-11-29T00:00:00+01:00</td>\n      <td>None</td>\n      <td>2022-10-27T21:19:17.282597+02:00</td>\n      <td>2022-11-18T13:20:29+01:00</td>\n      <td>resolved</td>\n      <td>partially_successful</td>\n      <td>NaN</td>\n      <td>{'resource_uri': 'https://fragdenstaat.de/api/...</td>\n      <td>None</td>\n      <td>14714</td>\n    </tr>\n    <tr>\n      <th>198465</th>\n      <td>257954</td>\n      <td>https://fragdenstaat.de/api/v1/jurisdiction/2/</td>\n      <td></td>\n      <td>0.0</td>\n      <td>2022-10-01T00:00:00+02:00</td>\n      <td>None</td>\n      <td>2022-08-28T22:47:02.097361+02:00</td>\n      <td>2022-10-25T15:04:47+02:00</td>\n      <td>resolved</td>\n      <td>successful</td>\n      <td>NaN</td>\n      <td>{'resource_uri': 'https://fragdenstaat.de/api/...</td>\n      <td>None</td>\n      <td>14714</td>\n    </tr>\n    <tr>\n      <th>...</th>\n      <td>...</td>\n      <td>...</td>\n      <td>...</td>\n      <td>...</td>\n      <td>...</td>\n      <td>...</td>\n      <td>...</td>\n      <td>...</td>\n      <td>...</td>\n      <td>...</td>\n      <td>...</td>\n      <td>...</td>\n      <td>...</td>\n      <td>...</td>\n    </tr>\n    <tr>\n      <th>20843</th>\n      <td>26274</td>\n      <td>https://fragdenstaat.de/api/v1/jurisdiction/2/</td>\n      <td></td>\n      <td>0.0</td>\n      <td>2018-02-27T00:00:00+01:00</td>\n      <td>None</td>\n      <td>2018-01-25T20:10:23.501695+01:00</td>\n      <td>2018-01-29T08:37:43+01:00</td>\n      <td>resolved</td>\n      <td>not_held</td>\n      <td>NaN</td>\n      <td>{'resource_uri': 'https://fragdenstaat.de/api/...</td>\n      <td>None</td>\n      <td>14714</td>\n    </tr>\n    <tr>\n      <th>20672</th>\n      <td>26008</td>\n      <td>https://fragdenstaat.de/api/v1/jurisdiction/2/</td>\n      <td></td>\n      <td>0.0</td>\n      <td>2018-02-09T00:00:00+01:00</td>\n      <td>None</td>\n      <td>2018-01-08T14:07:39.838383+01:00</td>\n      <td>2018-01-17T14:18:36+01:00</td>\n      <td>resolved</td>\n      <td>partially_successful</td>\n      <td>NaN</td>\n      <td>{'resource_uri': 'https://fragdenstaat.de/api/...</td>\n      <td>None</td>\n      <td>14714</td>\n    </tr>\n    <tr>\n      <th>20578</th>\n      <td>25654</td>\n      <td>https://fragdenstaat.de/api/v1/jurisdiction/2/</td>\n      <td></td>\n      <td>0.0</td>\n      <td>2018-01-12T00:00:00+01:00</td>\n      <td>None</td>\n      <td>2017-12-10T10:08:57.026368+01:00</td>\n      <td>2018-01-09T11:23:50+01:00</td>\n      <td>resolved</td>\n      <td>not_held</td>\n      <td>233367.0</td>\n      <td>{'resource_uri': 'https://fragdenstaat.de/api/...</td>\n      <td>None</td>\n      <td>14714</td>\n    </tr>\n    <tr>\n      <th>19968</th>\n      <td>24613</td>\n      <td>https://fragdenstaat.de/api/v1/jurisdiction/2/</td>\n      <td></td>\n      <td>0.0</td>\n      <td>2017-10-17T00:00:00+02:00</td>\n      <td>None</td>\n      <td>2017-09-15T17:12:30.804091+02:00</td>\n      <td>2017-11-10T11:42:10+01:00</td>\n      <td>resolved</td>\n      <td>partially_successful</td>\n      <td>233367.0</td>\n      <td>{'resource_uri': 'https://fragdenstaat.de/api/...</td>\n      <td>None</td>\n      <td>14714</td>\n    </tr>\n    <tr>\n      <th>19631</th>\n      <td>24507</td>\n      <td>https://fragdenstaat.de/api/v1/jurisdiction/2/</td>\n      <td></td>\n      <td>0.0</td>\n      <td>2017-10-06T00:00:00+02:00</td>\n      <td>None</td>\n      <td>2017-09-02T06:32:02.646213+02:00</td>\n      <td>2017-09-28T11:02:26+02:00</td>\n      <td>resolved</td>\n      <td>partially_successful</td>\n      <td>233367.0</td>\n      <td>{'resource_uri': 'https://fragdenstaat.de/api/...</td>\n      <td>None</td>\n      <td>14714</td>\n    </tr>\n  </tbody>\n</table>\n<p>74 rows × 14 columns</p>\n</div>"
     },
     "execution_count": 86,
     "metadata": {},
     "output_type": "execute_result"
    }
   ],
   "source": [
    "df[df.public_body_id==14714]"
   ],
   "metadata": {
    "collapsed": false
   }
  },
  {
   "cell_type": "markdown",
   "source": [
    "### Public Bodies"
   ],
   "metadata": {
    "collapsed": false
   }
  },
  {
   "cell_type": "code",
   "execution_count": 89,
   "outputs": [],
   "source": [
    "data = decompress_pickle(\"data/foi_requests.pbz2\")"
   ],
   "metadata": {
    "collapsed": false
   }
  },
  {
   "cell_type": "code",
   "execution_count": 92,
   "outputs": [
    {
     "data": {
      "text/plain": "[None,\n None,\n None,\n None,\n None,\n None,\n None,\n None,\n None,\n None,\n None,\n None,\n None,\n None,\n None,\n None,\n None,\n None,\n None,\n None,\n None,\n None,\n None,\n None,\n None,\n None,\n None,\n None,\n None,\n None,\n None,\n None,\n None,\n None,\n None,\n None,\n None,\n None,\n None,\n None,\n None,\n None,\n None,\n None,\n None,\n None,\n None,\n None,\n None,\n None,\n None,\n None,\n None,\n None,\n None,\n None,\n None,\n None,\n None,\n None,\n None,\n None,\n None,\n None,\n None,\n None,\n None,\n None,\n None,\n None,\n None,\n None,\n None,\n None,\n None,\n None,\n None,\n None,\n None,\n None,\n None,\n None,\n None,\n None,\n None,\n None,\n None,\n None,\n None,\n None,\n None,\n None,\n None,\n None,\n None,\n None,\n None,\n None,\n None,\n None,\n None,\n None,\n None,\n None,\n None,\n None,\n None,\n None,\n None,\n None,\n None,\n None,\n None,\n None,\n None,\n None,\n None,\n None,\n None,\n None,\n None,\n None,\n None,\n None,\n None,\n None,\n None,\n None,\n None,\n None,\n None,\n None,\n None,\n None,\n None,\n None,\n None,\n None,\n None,\n None,\n None,\n None,\n None,\n None,\n None,\n None,\n None,\n None,\n None,\n None,\n None,\n None,\n None,\n None,\n None,\n None,\n None,\n None,\n None,\n None,\n None,\n None,\n None,\n None,\n None,\n None,\n None,\n None,\n None,\n None,\n None,\n None,\n None,\n None,\n None,\n None,\n None,\n None,\n None,\n None,\n None,\n None,\n None,\n None,\n None,\n None,\n None,\n None,\n None,\n None,\n None,\n None,\n None,\n None,\n None,\n None,\n None,\n None,\n None,\n None,\n None,\n None,\n None,\n None,\n None,\n None,\n None,\n None,\n None,\n None,\n None,\n None,\n None,\n None,\n None,\n None,\n None,\n None,\n None,\n None,\n None,\n None,\n None,\n None,\n None,\n None,\n None,\n None,\n None,\n None,\n None,\n None,\n None,\n None,\n None,\n None,\n None,\n None,\n None,\n None,\n None,\n None,\n None,\n None,\n None,\n None,\n None,\n None,\n None,\n None,\n None,\n None,\n None,\n None,\n None,\n None,\n None,\n None,\n None,\n None,\n None,\n None,\n None,\n None,\n None,\n None,\n None,\n None,\n None,\n None,\n None,\n None,\n None,\n None,\n None,\n None,\n None,\n None,\n None,\n None,\n None,\n None,\n None,\n None,\n None,\n None,\n None,\n None,\n None,\n None,\n None,\n None,\n None,\n None,\n None,\n None,\n None,\n None,\n None,\n None,\n None,\n None,\n None,\n None,\n None,\n None,\n None,\n None,\n None,\n None,\n None,\n None,\n None,\n None,\n None,\n None,\n None,\n None,\n None,\n None,\n None,\n None,\n None,\n None,\n None,\n None,\n None,\n None,\n None,\n None,\n None,\n None,\n None,\n None,\n None,\n None,\n None,\n None,\n None,\n None,\n None,\n None,\n None,\n None,\n None,\n None,\n None,\n None,\n None,\n None,\n None,\n None,\n None,\n None,\n None,\n None,\n None,\n None,\n None,\n None,\n None,\n None,\n None,\n None,\n None,\n None,\n None,\n None,\n None,\n None,\n None,\n None,\n None,\n None,\n None,\n None,\n None,\n None,\n None,\n None,\n None,\n None,\n None,\n None,\n None,\n None,\n None,\n None,\n None,\n None,\n None,\n None,\n None,\n None,\n None,\n None,\n None,\n None,\n None,\n None,\n None,\n None,\n None,\n None,\n None,\n None,\n None,\n None,\n None,\n None,\n None,\n None,\n None,\n None,\n None,\n None,\n None,\n None,\n None,\n None,\n None,\n None,\n None,\n None,\n None,\n None,\n None,\n None,\n None,\n None,\n None,\n None,\n None,\n None,\n None,\n None,\n None,\n None,\n None,\n None,\n None,\n None,\n None,\n None,\n None,\n None,\n None,\n None,\n None,\n None,\n None,\n None,\n None,\n None,\n None,\n None,\n None,\n None,\n None,\n None,\n None,\n None,\n None,\n None,\n None,\n None,\n None,\n None,\n None,\n None,\n None,\n None,\n None,\n None,\n None,\n None,\n None,\n None,\n None,\n None,\n None,\n None,\n None,\n None,\n None,\n None,\n None,\n None,\n None,\n None,\n None,\n None,\n None,\n None,\n None,\n None,\n None,\n None,\n None,\n None,\n None,\n None,\n None,\n None,\n None,\n None,\n None,\n None,\n None,\n None,\n None,\n None,\n None,\n None,\n None,\n None,\n None,\n None,\n None,\n None,\n None,\n None,\n None,\n None,\n None,\n None,\n None,\n None,\n None,\n None,\n None,\n None,\n None,\n None,\n None,\n None,\n None,\n None,\n None,\n None,\n None,\n None,\n None,\n None,\n None,\n None,\n None,\n None,\n None,\n None,\n None,\n None,\n None,\n None,\n None,\n None,\n None,\n None,\n None,\n None,\n None,\n None,\n None,\n None,\n None,\n None,\n None,\n None,\n None,\n None,\n None,\n None,\n None,\n None,\n None,\n None,\n None,\n None,\n None,\n None,\n None,\n None,\n None,\n None,\n None,\n None,\n None,\n None,\n None,\n None,\n None,\n None,\n None,\n None,\n None,\n None,\n None,\n None,\n None,\n None,\n None,\n None,\n None,\n None,\n None,\n None,\n None,\n None,\n None,\n None,\n None,\n None,\n None,\n None,\n None,\n None,\n None,\n None,\n None,\n None,\n None,\n None,\n None,\n None,\n None,\n None,\n None,\n None,\n None,\n None,\n None,\n None,\n None,\n None,\n None,\n None,\n None,\n None,\n None,\n None,\n None,\n None,\n None,\n None,\n None,\n None,\n None,\n None,\n None,\n None,\n None,\n None,\n None,\n None,\n None,\n None,\n None,\n None,\n None,\n None,\n None,\n None,\n None,\n None,\n None,\n None,\n None,\n None,\n None,\n None,\n None,\n None,\n None,\n None,\n None,\n None,\n None,\n None,\n None,\n None,\n None,\n None,\n None,\n None,\n None,\n None,\n None,\n None,\n None,\n None,\n None,\n None,\n None,\n None,\n None,\n None,\n None,\n None,\n None,\n None,\n None,\n None,\n None,\n None,\n None,\n None,\n None,\n None,\n None,\n None,\n None,\n None,\n None,\n None,\n None,\n None,\n None,\n None,\n None,\n None,\n None,\n None,\n None,\n None,\n None,\n None,\n None,\n None,\n None,\n None,\n None,\n None,\n None,\n None,\n None,\n None,\n None,\n None,\n None,\n None,\n None,\n None,\n None,\n None,\n None,\n None,\n None,\n None,\n None,\n None,\n None,\n None,\n None,\n None,\n None,\n None,\n None,\n None,\n None,\n None,\n None,\n None,\n None,\n None,\n None,\n None,\n None,\n None,\n None,\n None,\n None,\n None,\n None,\n None,\n None,\n None,\n None,\n None,\n None,\n None,\n None,\n None,\n None,\n None,\n None,\n None,\n None,\n None,\n None,\n None,\n None,\n None,\n None,\n None,\n None,\n None,\n None,\n None,\n None,\n None,\n None,\n None,\n None,\n None,\n None,\n None,\n None,\n None,\n None,\n None,\n None,\n None,\n None,\n None,\n None,\n None,\n None,\n None,\n None,\n None,\n None,\n None,\n None,\n None,\n None,\n None,\n None,\n None,\n None,\n None,\n None,\n None,\n None,\n None,\n None,\n None,\n None,\n None,\n None,\n None,\n None,\n None,\n None,\n None,\n None,\n None,\n None,\n None,\n None,\n None,\n None,\n None,\n None,\n None,\n None,\n None,\n None,\n None,\n None,\n None,\n None,\n None,\n None,\n None,\n None,\n None,\n None,\n None,\n None,\n None,\n None,\n None,\n None,\n None,\n None,\n None,\n None,\n None,\n None,\n None,\n None,\n None,\n None,\n None,\n None,\n None,\n None,\n None,\n None,\n None,\n None,\n None,\n None,\n None,\n None,\n None,\n None,\n None,\n None,\n None,\n None,\n None,\n None,\n None,\n None,\n None,\n None,\n None,\n None,\n None,\n None,\n None,\n None,\n None,\n None,\n None,\n None,\n None,\n None,\n None,\n None,\n None,\n None,\n None,\n None,\n None,\n None,\n None,\n None,\n None,\n None,\n None,\n None,\n None,\n None,\n None,\n None,\n None,\n None,\n None,\n None,\n None,\n None,\n None,\n None,\n None,\n None,\n None,\n None,\n None,\n None,\n None,\n None,\n None,\n None,\n None,\n None,\n None,\n None,\n None,\n None,\n None,\n None,\n None,\n None,\n None,\n None,\n None,\n None,\n None,\n None,\n None,\n None,\n None,\n None,\n None,\n None,\n None,\n None,\n None,\n None,\n None,\n None,\n None,\n None,\n None,\n None,\n None,\n None,\n None,\n None,\n None,\n None,\n None,\n None,\n None,\n None,\n None,\n None,\n None,\n ...]"
     },
     "execution_count": 92,
     "metadata": {},
     "output_type": "execute_result"
    }
   ],
   "source": [
    "pb_lst_ = df['public_body'].to_list()\n",
    "\n",
    "# remove duplicates\n",
    "pb_lst = []\n",
    "[pb_lst.append(x) for x in pb_lst_ if x not in pb_lst and not None and pd.notnull(x)]"
   ],
   "metadata": {
    "collapsed": false
   }
  },
  {
   "cell_type": "code",
   "execution_count": 115,
   "outputs": [],
   "source": [
    "df = pd.DataFrame.from_dict(pb_lst)\n",
    "df = df[[\"id\",\"name\",\"jurisdiction\"]]\n",
    "df.rename(columns={\"jurisdiction\": \"jurisdiction_id\"}, errors=\"raise\", inplace=True)\n",
    "df.dropna(inplace=True)"
   ],
   "metadata": {
    "collapsed": false
   }
  },
  {
   "cell_type": "code",
   "execution_count": 116,
   "outputs": [
    {
     "data": {
      "text/plain": "      id                                               name  jurisdiction_id\n0   8976  Ministerium für Kultus, Jugend und Sport Baden...               91\n1  11210  Bayerisches Staatsministerium für Unterricht u...               92\n2   6667            Senatorin für Kinder und Bildung Bremen               12\n3  17788            Stadtverwaltung Waiblingen Ausländeramt               91\n4  10286  Niedersächsisches Ministerium für Ernährung, L...               93",
      "text/html": "<div>\n<style scoped>\n    .dataframe tbody tr th:only-of-type {\n        vertical-align: middle;\n    }\n\n    .dataframe tbody tr th {\n        vertical-align: top;\n    }\n\n    .dataframe thead th {\n        text-align: right;\n    }\n</style>\n<table border=\"1\" class=\"dataframe\">\n  <thead>\n    <tr style=\"text-align: right;\">\n      <th></th>\n      <th>id</th>\n      <th>name</th>\n      <th>jurisdiction_id</th>\n    </tr>\n  </thead>\n  <tbody>\n    <tr>\n      <th>0</th>\n      <td>8976</td>\n      <td>Ministerium für Kultus, Jugend und Sport Baden...</td>\n      <td>91</td>\n    </tr>\n    <tr>\n      <th>1</th>\n      <td>11210</td>\n      <td>Bayerisches Staatsministerium für Unterricht u...</td>\n      <td>92</td>\n    </tr>\n    <tr>\n      <th>2</th>\n      <td>6667</td>\n      <td>Senatorin für Kinder und Bildung Bremen</td>\n      <td>12</td>\n    </tr>\n    <tr>\n      <th>3</th>\n      <td>17788</td>\n      <td>Stadtverwaltung Waiblingen Ausländeramt</td>\n      <td>91</td>\n    </tr>\n    <tr>\n      <th>4</th>\n      <td>10286</td>\n      <td>Niedersächsisches Ministerium für Ernährung, L...</td>\n      <td>93</td>\n    </tr>\n  </tbody>\n</table>\n</div>"
     },
     "execution_count": 116,
     "metadata": {},
     "output_type": "execute_result"
    }
   ],
   "source": [
    "# extract juris id\n",
    "df[\"jurisdiction_id\"] = df[\"jurisdiction_id\"].apply(lambda x: int(x.split(\"/\")[-2]) if x is not None else pd.NA)\n",
    "df.head()"
   ],
   "metadata": {
    "collapsed": false
   }
  },
  {
   "cell_type": "code",
   "execution_count": null,
   "outputs": [],
   "source": [
    "df[df.id==14714]"
   ],
   "metadata": {
    "collapsed": false
   }
  },
  {
   "cell_type": "code",
   "execution_count": 102,
   "outputs": [
    {
     "data": {
      "text/plain": "9724"
     },
     "execution_count": 102,
     "metadata": {},
     "output_type": "execute_result"
    }
   ],
   "source": [
    "len(df)"
   ],
   "metadata": {
    "collapsed": false
   }
  },
  {
   "cell_type": "code",
   "execution_count": 106,
   "outputs": [],
   "source": [
    "df.loc[df.id==49901, \"jurisdiction\"] = [{\"id\":6}]\n",
    "df.loc[df.id==49254, \"jurisdiction\"] = [{\"id\":5}]"
   ],
   "metadata": {
    "collapsed": false
   }
  },
  {
   "cell_type": "code",
   "execution_count": 107,
   "outputs": [
    {
     "data": {
      "text/plain": "         id                                               name  \\\n0      8976  Ministerium für Kultus, Jugend und Sport Baden...   \n1     11210  Bayerisches Staatsministerium für Unterricht u...   \n2      6667            Senatorin für Kinder und Bildung Bremen   \n3     17788            Stadtverwaltung Waiblingen Ausländeramt   \n4     10286  Niedersächsisches Ministerium für Ernährung, L...   \n...     ...                                                ...   \n9720    785                  Papiermacher-Berufsgenossenschaft   \n9721    714              Lederindustrie - Berufsgenossenschaft   \n9722    512                     Gartenbau-Berufsgenossenschaft   \n9723    238      Berufsgenossenschaft der chemischen Industrie   \n9724    239  Berufsgenossenschaft der Straßen-, U-Bahnen un...   \n\n                                      jurisdiction_id jurisdiction  \n0     https://fragdenstaat.de/api/v1/jurisdiction/91/          NaN  \n1     https://fragdenstaat.de/api/v1/jurisdiction/92/          NaN  \n2     https://fragdenstaat.de/api/v1/jurisdiction/12/          NaN  \n3     https://fragdenstaat.de/api/v1/jurisdiction/91/          NaN  \n4     https://fragdenstaat.de/api/v1/jurisdiction/93/          NaN  \n...                                               ...          ...  \n9720   https://fragdenstaat.de/api/v1/jurisdiction/1/          NaN  \n9721   https://fragdenstaat.de/api/v1/jurisdiction/1/          NaN  \n9722   https://fragdenstaat.de/api/v1/jurisdiction/1/          NaN  \n9723   https://fragdenstaat.de/api/v1/jurisdiction/1/          NaN  \n9724   https://fragdenstaat.de/api/v1/jurisdiction/1/          NaN  \n\n[9724 rows x 4 columns]",
      "text/html": "<div>\n<style scoped>\n    .dataframe tbody tr th:only-of-type {\n        vertical-align: middle;\n    }\n\n    .dataframe tbody tr th {\n        vertical-align: top;\n    }\n\n    .dataframe thead th {\n        text-align: right;\n    }\n</style>\n<table border=\"1\" class=\"dataframe\">\n  <thead>\n    <tr style=\"text-align: right;\">\n      <th></th>\n      <th>id</th>\n      <th>name</th>\n      <th>jurisdiction_id</th>\n      <th>jurisdiction</th>\n    </tr>\n  </thead>\n  <tbody>\n    <tr>\n      <th>0</th>\n      <td>8976</td>\n      <td>Ministerium für Kultus, Jugend und Sport Baden...</td>\n      <td>https://fragdenstaat.de/api/v1/jurisdiction/91/</td>\n      <td>NaN</td>\n    </tr>\n    <tr>\n      <th>1</th>\n      <td>11210</td>\n      <td>Bayerisches Staatsministerium für Unterricht u...</td>\n      <td>https://fragdenstaat.de/api/v1/jurisdiction/92/</td>\n      <td>NaN</td>\n    </tr>\n    <tr>\n      <th>2</th>\n      <td>6667</td>\n      <td>Senatorin für Kinder und Bildung Bremen</td>\n      <td>https://fragdenstaat.de/api/v1/jurisdiction/12/</td>\n      <td>NaN</td>\n    </tr>\n    <tr>\n      <th>3</th>\n      <td>17788</td>\n      <td>Stadtverwaltung Waiblingen Ausländeramt</td>\n      <td>https://fragdenstaat.de/api/v1/jurisdiction/91/</td>\n      <td>NaN</td>\n    </tr>\n    <tr>\n      <th>4</th>\n      <td>10286</td>\n      <td>Niedersächsisches Ministerium für Ernährung, L...</td>\n      <td>https://fragdenstaat.de/api/v1/jurisdiction/93/</td>\n      <td>NaN</td>\n    </tr>\n    <tr>\n      <th>...</th>\n      <td>...</td>\n      <td>...</td>\n      <td>...</td>\n      <td>...</td>\n    </tr>\n    <tr>\n      <th>9720</th>\n      <td>785</td>\n      <td>Papiermacher-Berufsgenossenschaft</td>\n      <td>https://fragdenstaat.de/api/v1/jurisdiction/1/</td>\n      <td>NaN</td>\n    </tr>\n    <tr>\n      <th>9721</th>\n      <td>714</td>\n      <td>Lederindustrie - Berufsgenossenschaft</td>\n      <td>https://fragdenstaat.de/api/v1/jurisdiction/1/</td>\n      <td>NaN</td>\n    </tr>\n    <tr>\n      <th>9722</th>\n      <td>512</td>\n      <td>Gartenbau-Berufsgenossenschaft</td>\n      <td>https://fragdenstaat.de/api/v1/jurisdiction/1/</td>\n      <td>NaN</td>\n    </tr>\n    <tr>\n      <th>9723</th>\n      <td>238</td>\n      <td>Berufsgenossenschaft der chemischen Industrie</td>\n      <td>https://fragdenstaat.de/api/v1/jurisdiction/1/</td>\n      <td>NaN</td>\n    </tr>\n    <tr>\n      <th>9724</th>\n      <td>239</td>\n      <td>Berufsgenossenschaft der Straßen-, U-Bahnen un...</td>\n      <td>https://fragdenstaat.de/api/v1/jurisdiction/1/</td>\n      <td>NaN</td>\n    </tr>\n  </tbody>\n</table>\n<p>9724 rows × 4 columns</p>\n</div>"
     },
     "execution_count": 107,
     "metadata": {},
     "output_type": "execute_result"
    }
   ],
   "source": [
    "df[df['jurisdiction'].isna()]"
   ],
   "metadata": {
    "collapsed": false
   }
  },
  {
   "cell_type": "code",
   "execution_count": 108,
   "outputs": [
    {
     "ename": "AttributeError",
     "evalue": "'float' object has no attribute 'get'",
     "output_type": "error",
     "traceback": [
      "\u001B[0;31m---------------------------------------------------------------------------\u001B[0m",
      "\u001B[0;31mAttributeError\u001B[0m                            Traceback (most recent call last)",
      "Cell \u001B[0;32mIn[108], line 1\u001B[0m\n\u001B[0;32m----> 1\u001B[0m df[\u001B[38;5;124m\"\u001B[39m\u001B[38;5;124mjurisdiction_id\u001B[39m\u001B[38;5;124m\"\u001B[39m] \u001B[38;5;241m=\u001B[39m \u001B[43mdf\u001B[49m\u001B[43m[\u001B[49m\u001B[38;5;124;43m\"\u001B[39;49m\u001B[38;5;124;43mjurisdiction\u001B[39;49m\u001B[38;5;124;43m\"\u001B[39;49m\u001B[43m]\u001B[49m\u001B[38;5;241;43m.\u001B[39;49m\u001B[43mapply\u001B[49m\u001B[43m(\u001B[49m\u001B[38;5;28;43;01mlambda\u001B[39;49;00m\u001B[43m \u001B[49m\u001B[43mdct\u001B[49m\u001B[43m:\u001B[49m\u001B[43m \u001B[49m\u001B[38;5;28;43mint\u001B[39;49m\u001B[43m(\u001B[49m\u001B[43mdct\u001B[49m\u001B[38;5;241;43m.\u001B[39;49m\u001B[43mget\u001B[49m\u001B[43m(\u001B[49m\u001B[38;5;124;43m\"\u001B[39;49m\u001B[38;5;124;43mid\u001B[39;49m\u001B[38;5;124;43m\"\u001B[39;49m\u001B[43m)\u001B[49m\u001B[43m)\u001B[49m\u001B[43m \u001B[49m\u001B[38;5;28;43;01mif\u001B[39;49;00m\u001B[43m \u001B[49m\u001B[43mdct\u001B[49m\u001B[43m \u001B[49m\u001B[38;5;129;43;01mis\u001B[39;49;00m\u001B[43m \u001B[49m\u001B[38;5;129;43;01mnot\u001B[39;49;00m\u001B[43m \u001B[49m\u001B[38;5;28;43;01mNone\u001B[39;49;00m\u001B[43m \u001B[49m\u001B[38;5;28;43;01melse\u001B[39;49;00m\u001B[43m \u001B[49m\u001B[38;5;28;43;01mNone\u001B[39;49;00m\u001B[43m)\u001B[49m\n\u001B[1;32m      2\u001B[0m df \u001B[38;5;241m=\u001B[39m df[[\u001B[38;5;124m\"\u001B[39m\u001B[38;5;124mid\u001B[39m\u001B[38;5;124m\"\u001B[39m,\u001B[38;5;124m\"\u001B[39m\u001B[38;5;124mname\u001B[39m\u001B[38;5;124m\"\u001B[39m,\u001B[38;5;124m\"\u001B[39m\u001B[38;5;124mjurisdiction_id\u001B[39m\u001B[38;5;124m\"\u001B[39m]]\n\u001B[1;32m      3\u001B[0m df\n",
      "File \u001B[0;32m~/Code/CorrelAid/fds_dashboard/db/python_scripts/venv/lib/python3.10/site-packages/pandas/core/series.py:4433\u001B[0m, in \u001B[0;36mSeries.apply\u001B[0;34m(self, func, convert_dtype, args, **kwargs)\u001B[0m\n\u001B[1;32m   4323\u001B[0m \u001B[38;5;28;01mdef\u001B[39;00m \u001B[38;5;21mapply\u001B[39m(\n\u001B[1;32m   4324\u001B[0m     \u001B[38;5;28mself\u001B[39m,\n\u001B[1;32m   4325\u001B[0m     func: AggFuncType,\n\u001B[0;32m   (...)\u001B[0m\n\u001B[1;32m   4328\u001B[0m     \u001B[38;5;241m*\u001B[39m\u001B[38;5;241m*\u001B[39mkwargs,\n\u001B[1;32m   4329\u001B[0m ) \u001B[38;5;241m-\u001B[39m\u001B[38;5;241m>\u001B[39m DataFrame \u001B[38;5;241m|\u001B[39m Series:\n\u001B[1;32m   4330\u001B[0m     \u001B[38;5;124;03m\"\"\"\u001B[39;00m\n\u001B[1;32m   4331\u001B[0m \u001B[38;5;124;03m    Invoke function on values of Series.\u001B[39;00m\n\u001B[1;32m   4332\u001B[0m \n\u001B[0;32m   (...)\u001B[0m\n\u001B[1;32m   4431\u001B[0m \u001B[38;5;124;03m    dtype: float64\u001B[39;00m\n\u001B[1;32m   4432\u001B[0m \u001B[38;5;124;03m    \"\"\"\u001B[39;00m\n\u001B[0;32m-> 4433\u001B[0m     \u001B[38;5;28;01mreturn\u001B[39;00m \u001B[43mSeriesApply\u001B[49m\u001B[43m(\u001B[49m\u001B[38;5;28;43mself\u001B[39;49m\u001B[43m,\u001B[49m\u001B[43m \u001B[49m\u001B[43mfunc\u001B[49m\u001B[43m,\u001B[49m\u001B[43m \u001B[49m\u001B[43mconvert_dtype\u001B[49m\u001B[43m,\u001B[49m\u001B[43m \u001B[49m\u001B[43margs\u001B[49m\u001B[43m,\u001B[49m\u001B[43m \u001B[49m\u001B[43mkwargs\u001B[49m\u001B[43m)\u001B[49m\u001B[38;5;241;43m.\u001B[39;49m\u001B[43mapply\u001B[49m\u001B[43m(\u001B[49m\u001B[43m)\u001B[49m\n",
      "File \u001B[0;32m~/Code/CorrelAid/fds_dashboard/db/python_scripts/venv/lib/python3.10/site-packages/pandas/core/apply.py:1088\u001B[0m, in \u001B[0;36mSeriesApply.apply\u001B[0;34m(self)\u001B[0m\n\u001B[1;32m   1084\u001B[0m \u001B[38;5;28;01mif\u001B[39;00m \u001B[38;5;28misinstance\u001B[39m(\u001B[38;5;28mself\u001B[39m\u001B[38;5;241m.\u001B[39mf, \u001B[38;5;28mstr\u001B[39m):\n\u001B[1;32m   1085\u001B[0m     \u001B[38;5;66;03m# if we are a string, try to dispatch\u001B[39;00m\n\u001B[1;32m   1086\u001B[0m     \u001B[38;5;28;01mreturn\u001B[39;00m \u001B[38;5;28mself\u001B[39m\u001B[38;5;241m.\u001B[39mapply_str()\n\u001B[0;32m-> 1088\u001B[0m \u001B[38;5;28;01mreturn\u001B[39;00m \u001B[38;5;28;43mself\u001B[39;49m\u001B[38;5;241;43m.\u001B[39;49m\u001B[43mapply_standard\u001B[49m\u001B[43m(\u001B[49m\u001B[43m)\u001B[49m\n",
      "File \u001B[0;32m~/Code/CorrelAid/fds_dashboard/db/python_scripts/venv/lib/python3.10/site-packages/pandas/core/apply.py:1143\u001B[0m, in \u001B[0;36mSeriesApply.apply_standard\u001B[0;34m(self)\u001B[0m\n\u001B[1;32m   1137\u001B[0m         values \u001B[38;5;241m=\u001B[39m obj\u001B[38;5;241m.\u001B[39mastype(\u001B[38;5;28mobject\u001B[39m)\u001B[38;5;241m.\u001B[39m_values\n\u001B[1;32m   1138\u001B[0m         \u001B[38;5;66;03m# error: Argument 2 to \"map_infer\" has incompatible type\u001B[39;00m\n\u001B[1;32m   1139\u001B[0m         \u001B[38;5;66;03m# \"Union[Callable[..., Any], str, List[Union[Callable[..., Any], str]],\u001B[39;00m\n\u001B[1;32m   1140\u001B[0m         \u001B[38;5;66;03m# Dict[Hashable, Union[Union[Callable[..., Any], str],\u001B[39;00m\n\u001B[1;32m   1141\u001B[0m         \u001B[38;5;66;03m# List[Union[Callable[..., Any], str]]]]]\"; expected\u001B[39;00m\n\u001B[1;32m   1142\u001B[0m         \u001B[38;5;66;03m# \"Callable[[Any], Any]\"\u001B[39;00m\n\u001B[0;32m-> 1143\u001B[0m         mapped \u001B[38;5;241m=\u001B[39m \u001B[43mlib\u001B[49m\u001B[38;5;241;43m.\u001B[39;49m\u001B[43mmap_infer\u001B[49m\u001B[43m(\u001B[49m\n\u001B[1;32m   1144\u001B[0m \u001B[43m            \u001B[49m\u001B[43mvalues\u001B[49m\u001B[43m,\u001B[49m\n\u001B[1;32m   1145\u001B[0m \u001B[43m            \u001B[49m\u001B[43mf\u001B[49m\u001B[43m,\u001B[49m\u001B[43m  \u001B[49m\u001B[38;5;66;43;03m# type: ignore[arg-type]\u001B[39;49;00m\n\u001B[1;32m   1146\u001B[0m \u001B[43m            \u001B[49m\u001B[43mconvert\u001B[49m\u001B[38;5;241;43m=\u001B[39;49m\u001B[38;5;28;43mself\u001B[39;49m\u001B[38;5;241;43m.\u001B[39;49m\u001B[43mconvert_dtype\u001B[49m\u001B[43m,\u001B[49m\n\u001B[1;32m   1147\u001B[0m \u001B[43m        \u001B[49m\u001B[43m)\u001B[49m\n\u001B[1;32m   1149\u001B[0m \u001B[38;5;28;01mif\u001B[39;00m \u001B[38;5;28mlen\u001B[39m(mapped) \u001B[38;5;129;01mand\u001B[39;00m \u001B[38;5;28misinstance\u001B[39m(mapped[\u001B[38;5;241m0\u001B[39m], ABCSeries):\n\u001B[1;32m   1150\u001B[0m     \u001B[38;5;66;03m# GH#43986 Need to do list(mapped) in order to get treated as nested\u001B[39;00m\n\u001B[1;32m   1151\u001B[0m     \u001B[38;5;66;03m#  See also GH#25959 regarding EA support\u001B[39;00m\n\u001B[1;32m   1152\u001B[0m     \u001B[38;5;28;01mreturn\u001B[39;00m obj\u001B[38;5;241m.\u001B[39m_constructor_expanddim(\u001B[38;5;28mlist\u001B[39m(mapped), index\u001B[38;5;241m=\u001B[39mobj\u001B[38;5;241m.\u001B[39mindex)\n",
      "File \u001B[0;32m~/Code/CorrelAid/fds_dashboard/db/python_scripts/venv/lib/python3.10/site-packages/pandas/_libs/lib.pyx:2870\u001B[0m, in \u001B[0;36mpandas._libs.lib.map_infer\u001B[0;34m()\u001B[0m\n",
      "Cell \u001B[0;32mIn[108], line 1\u001B[0m, in \u001B[0;36m<lambda>\u001B[0;34m(dct)\u001B[0m\n\u001B[0;32m----> 1\u001B[0m df[\u001B[38;5;124m\"\u001B[39m\u001B[38;5;124mjurisdiction_id\u001B[39m\u001B[38;5;124m\"\u001B[39m] \u001B[38;5;241m=\u001B[39m df[\u001B[38;5;124m\"\u001B[39m\u001B[38;5;124mjurisdiction\u001B[39m\u001B[38;5;124m\"\u001B[39m]\u001B[38;5;241m.\u001B[39mapply(\u001B[38;5;28;01mlambda\u001B[39;00m dct: \u001B[38;5;28mint\u001B[39m(\u001B[43mdct\u001B[49m\u001B[38;5;241;43m.\u001B[39;49m\u001B[43mget\u001B[49m(\u001B[38;5;124m\"\u001B[39m\u001B[38;5;124mid\u001B[39m\u001B[38;5;124m\"\u001B[39m)) \u001B[38;5;28;01mif\u001B[39;00m dct \u001B[38;5;129;01mis\u001B[39;00m \u001B[38;5;129;01mnot\u001B[39;00m \u001B[38;5;28;01mNone\u001B[39;00m \u001B[38;5;28;01melse\u001B[39;00m \u001B[38;5;28;01mNone\u001B[39;00m)\n\u001B[1;32m      2\u001B[0m df \u001B[38;5;241m=\u001B[39m df[[\u001B[38;5;124m\"\u001B[39m\u001B[38;5;124mid\u001B[39m\u001B[38;5;124m\"\u001B[39m,\u001B[38;5;124m\"\u001B[39m\u001B[38;5;124mname\u001B[39m\u001B[38;5;124m\"\u001B[39m,\u001B[38;5;124m\"\u001B[39m\u001B[38;5;124mjurisdiction_id\u001B[39m\u001B[38;5;124m\"\u001B[39m]]\n\u001B[1;32m      3\u001B[0m df\n",
      "\u001B[0;31mAttributeError\u001B[0m: 'float' object has no attribute 'get'"
     ]
    }
   ],
   "source": [
    "df[\"jurisdiction_id\"] = df[\"jurisdiction\"].apply(lambda dct: int(dct.get(\"id\")) if dct is not None else None)\n",
    "df = df[[\"id\",\"name\",\"jurisdiction_id\"]]\n",
    "df"
   ],
   "metadata": {
    "collapsed": false
   }
  },
  {
   "cell_type": "code",
   "execution_count": null,
   "outputs": [],
   "source": [
    "df.drop_duplicates(subset=\"id\", inplace=True, keep=\"first\")\n",
    "df"
   ],
   "metadata": {
    "collapsed": false
   }
  },
  {
   "cell_type": "markdown",
   "source": [
    "## Jurisdictions"
   ],
   "metadata": {
    "collapsed": false
   }
  },
  {
   "cell_type": "code",
   "execution_count": 121,
   "outputs": [
    {
     "data": {
      "text/plain": "            id                                     jurisdiction  \\\n210700  180721  https://fragdenstaat.de/api/v1/jurisdiction/91/   \n210701  274415  https://fragdenstaat.de/api/v1/jurisdiction/92/   \n210702  274414  https://fragdenstaat.de/api/v1/jurisdiction/12/   \n210703  274413  https://fragdenstaat.de/api/v1/jurisdiction/91/   \n210704  274412  https://fragdenstaat.de/api/v1/jurisdiction/93/   \n...        ...                                              ...   \n45          27   https://fragdenstaat.de/api/v1/jurisdiction/1/   \n46          23   https://fragdenstaat.de/api/v1/jurisdiction/1/   \n47         189   https://fragdenstaat.de/api/v1/jurisdiction/1/   \n48          21   https://fragdenstaat.de/api/v1/jurisdiction/1/   \n49         191   https://fragdenstaat.de/api/v1/jurisdiction/1/   \n\n                refusal_reason  costs                          due_date  \\\n210700                            0.0  2020-03-18T23:39:28.871811+01:00   \n210701                            0.0         2023-05-03T00:00:00+02:00   \n210702                            0.0         2023-05-03T00:00:00+02:00   \n210703                            0.0         2023-05-03T00:00:00+02:00   \n210704                            0.0         2023-05-03T00:00:00+02:00   \n...                        ...    ...                               ...   \n45                                0.0                              None   \n46                                0.0                              None   \n47                                0.0                              None   \n48                                0.0                              None   \n49      Gesetz nicht anwendbar    0.0         2009-11-04T00:00:00+01:00   \n\n                      resolved_on                        created_at  \\\n210700                       None  2020-02-17T23:38:47.588434+01:00   \n210701                       None  2023-03-31T00:35:28.108711+02:00   \n210702                       None  2023-03-31T00:06:42.005241+02:00   \n210703                       None  2023-03-30T23:24:04.717058+02:00   \n210704                       None  2023-03-30T23:01:55.803168+02:00   \n...                           ...                               ...   \n45                           None  2011-08-01T18:47:32.408280+02:00   \n46      2011-05-23T12:00:00+02:00         2010-11-25T12:00:00+01:00   \n47                           None         2009-03-15T12:00:00+01:00   \n48      2010-11-04T23:59:00+01:00         2010-09-09T09:51:00+02:00   \n49                           None         2009-10-03T12:00:00+02:00   \n\n                            last_message             status  \\\n210700  2023-03-31T01:39:38.565580+02:00           resolved   \n210701  2023-03-31T00:36:06.955387+02:00  awaiting_response   \n210702         2023-03-31T00:10:04+02:00  awaiting_response   \n210703  2023-03-30T23:24:24.871712+02:00  awaiting_response   \n210704  2023-03-30T23:01:55.870341+02:00  awaiting_response   \n...                                  ...                ...   \n45      2011-08-01T18:47:32.408280+02:00             asleep   \n46             2011-05-23T12:00:00+02:00           resolved   \n47             2011-05-09T12:00:00+02:00           resolved   \n48             2010-11-04T12:00:00+01:00           resolved   \n49             2010-08-02T12:00:00+02:00           resolved   \n\n                  resolution      user  \\\n210700               refused       NaN   \n210701                        660524.0   \n210702                             NaN   \n210703                        660523.0   \n210704                             NaN   \n...                      ...       ...   \n45                                 NaN   \n46      partially_successful      21.0   \n47                successful     166.0   \n48      partially_successful       NaN   \n49                   refused     166.0   \n\n                                              public_body  \\\n210700  {'resource_uri': 'https://fragdenstaat.de/api/...   \n210701  {'resource_uri': 'https://fragdenstaat.de/api/...   \n210702  {'resource_uri': 'https://fragdenstaat.de/api/...   \n210703  {'resource_uri': 'https://fragdenstaat.de/api/...   \n210704  {'resource_uri': 'https://fragdenstaat.de/api/...   \n...                                                   ...   \n45                                                   None   \n46      {'resource_uri': 'https://fragdenstaat.de/api/...   \n47      {'resource_uri': 'https://fragdenstaat.de/api/...   \n48      {'resource_uri': 'https://fragdenstaat.de/api/...   \n49      {'resource_uri': 'https://fragdenstaat.de/api/...   \n\n                                           campaign  \n210700                                         None  \n210701  https://fragdenstaat.de/api/v1/campaign/15/  \n210702                                         None  \n210703                                         None  \n210704                                         None  \n...                                             ...  \n45                                             None  \n46                                             None  \n47                                             None  \n48                                             None  \n49                                             None  \n\n[210750 rows x 13 columns]",
      "text/html": "<div>\n<style scoped>\n    .dataframe tbody tr th:only-of-type {\n        vertical-align: middle;\n    }\n\n    .dataframe tbody tr th {\n        vertical-align: top;\n    }\n\n    .dataframe thead th {\n        text-align: right;\n    }\n</style>\n<table border=\"1\" class=\"dataframe\">\n  <thead>\n    <tr style=\"text-align: right;\">\n      <th></th>\n      <th>id</th>\n      <th>jurisdiction</th>\n      <th>refusal_reason</th>\n      <th>costs</th>\n      <th>due_date</th>\n      <th>resolved_on</th>\n      <th>created_at</th>\n      <th>last_message</th>\n      <th>status</th>\n      <th>resolution</th>\n      <th>user</th>\n      <th>public_body</th>\n      <th>campaign</th>\n    </tr>\n  </thead>\n  <tbody>\n    <tr>\n      <th>210700</th>\n      <td>180721</td>\n      <td>https://fragdenstaat.de/api/v1/jurisdiction/91/</td>\n      <td></td>\n      <td>0.0</td>\n      <td>2020-03-18T23:39:28.871811+01:00</td>\n      <td>None</td>\n      <td>2020-02-17T23:38:47.588434+01:00</td>\n      <td>2023-03-31T01:39:38.565580+02:00</td>\n      <td>resolved</td>\n      <td>refused</td>\n      <td>NaN</td>\n      <td>{'resource_uri': 'https://fragdenstaat.de/api/...</td>\n      <td>None</td>\n    </tr>\n    <tr>\n      <th>210701</th>\n      <td>274415</td>\n      <td>https://fragdenstaat.de/api/v1/jurisdiction/92/</td>\n      <td></td>\n      <td>0.0</td>\n      <td>2023-05-03T00:00:00+02:00</td>\n      <td>None</td>\n      <td>2023-03-31T00:35:28.108711+02:00</td>\n      <td>2023-03-31T00:36:06.955387+02:00</td>\n      <td>awaiting_response</td>\n      <td></td>\n      <td>660524.0</td>\n      <td>{'resource_uri': 'https://fragdenstaat.de/api/...</td>\n      <td>https://fragdenstaat.de/api/v1/campaign/15/</td>\n    </tr>\n    <tr>\n      <th>210702</th>\n      <td>274414</td>\n      <td>https://fragdenstaat.de/api/v1/jurisdiction/12/</td>\n      <td></td>\n      <td>0.0</td>\n      <td>2023-05-03T00:00:00+02:00</td>\n      <td>None</td>\n      <td>2023-03-31T00:06:42.005241+02:00</td>\n      <td>2023-03-31T00:10:04+02:00</td>\n      <td>awaiting_response</td>\n      <td></td>\n      <td>NaN</td>\n      <td>{'resource_uri': 'https://fragdenstaat.de/api/...</td>\n      <td>None</td>\n    </tr>\n    <tr>\n      <th>210703</th>\n      <td>274413</td>\n      <td>https://fragdenstaat.de/api/v1/jurisdiction/91/</td>\n      <td></td>\n      <td>0.0</td>\n      <td>2023-05-03T00:00:00+02:00</td>\n      <td>None</td>\n      <td>2023-03-30T23:24:04.717058+02:00</td>\n      <td>2023-03-30T23:24:24.871712+02:00</td>\n      <td>awaiting_response</td>\n      <td></td>\n      <td>660523.0</td>\n      <td>{'resource_uri': 'https://fragdenstaat.de/api/...</td>\n      <td>None</td>\n    </tr>\n    <tr>\n      <th>210704</th>\n      <td>274412</td>\n      <td>https://fragdenstaat.de/api/v1/jurisdiction/93/</td>\n      <td></td>\n      <td>0.0</td>\n      <td>2023-05-03T00:00:00+02:00</td>\n      <td>None</td>\n      <td>2023-03-30T23:01:55.803168+02:00</td>\n      <td>2023-03-30T23:01:55.870341+02:00</td>\n      <td>awaiting_response</td>\n      <td></td>\n      <td>NaN</td>\n      <td>{'resource_uri': 'https://fragdenstaat.de/api/...</td>\n      <td>None</td>\n    </tr>\n    <tr>\n      <th>...</th>\n      <td>...</td>\n      <td>...</td>\n      <td>...</td>\n      <td>...</td>\n      <td>...</td>\n      <td>...</td>\n      <td>...</td>\n      <td>...</td>\n      <td>...</td>\n      <td>...</td>\n      <td>...</td>\n      <td>...</td>\n      <td>...</td>\n    </tr>\n    <tr>\n      <th>45</th>\n      <td>27</td>\n      <td>https://fragdenstaat.de/api/v1/jurisdiction/1/</td>\n      <td></td>\n      <td>0.0</td>\n      <td>None</td>\n      <td>None</td>\n      <td>2011-08-01T18:47:32.408280+02:00</td>\n      <td>2011-08-01T18:47:32.408280+02:00</td>\n      <td>asleep</td>\n      <td></td>\n      <td>NaN</td>\n      <td>None</td>\n      <td>None</td>\n    </tr>\n    <tr>\n      <th>46</th>\n      <td>23</td>\n      <td>https://fragdenstaat.de/api/v1/jurisdiction/1/</td>\n      <td></td>\n      <td>0.0</td>\n      <td>None</td>\n      <td>2011-05-23T12:00:00+02:00</td>\n      <td>2010-11-25T12:00:00+01:00</td>\n      <td>2011-05-23T12:00:00+02:00</td>\n      <td>resolved</td>\n      <td>partially_successful</td>\n      <td>21.0</td>\n      <td>{'resource_uri': 'https://fragdenstaat.de/api/...</td>\n      <td>None</td>\n    </tr>\n    <tr>\n      <th>47</th>\n      <td>189</td>\n      <td>https://fragdenstaat.de/api/v1/jurisdiction/1/</td>\n      <td></td>\n      <td>0.0</td>\n      <td>None</td>\n      <td>None</td>\n      <td>2009-03-15T12:00:00+01:00</td>\n      <td>2011-05-09T12:00:00+02:00</td>\n      <td>resolved</td>\n      <td>successful</td>\n      <td>166.0</td>\n      <td>{'resource_uri': 'https://fragdenstaat.de/api/...</td>\n      <td>None</td>\n    </tr>\n    <tr>\n      <th>48</th>\n      <td>21</td>\n      <td>https://fragdenstaat.de/api/v1/jurisdiction/1/</td>\n      <td></td>\n      <td>0.0</td>\n      <td>None</td>\n      <td>2010-11-04T23:59:00+01:00</td>\n      <td>2010-09-09T09:51:00+02:00</td>\n      <td>2010-11-04T12:00:00+01:00</td>\n      <td>resolved</td>\n      <td>partially_successful</td>\n      <td>NaN</td>\n      <td>{'resource_uri': 'https://fragdenstaat.de/api/...</td>\n      <td>None</td>\n    </tr>\n    <tr>\n      <th>49</th>\n      <td>191</td>\n      <td>https://fragdenstaat.de/api/v1/jurisdiction/1/</td>\n      <td>Gesetz nicht anwendbar</td>\n      <td>0.0</td>\n      <td>2009-11-04T00:00:00+01:00</td>\n      <td>None</td>\n      <td>2009-10-03T12:00:00+02:00</td>\n      <td>2010-08-02T12:00:00+02:00</td>\n      <td>resolved</td>\n      <td>refused</td>\n      <td>166.0</td>\n      <td>{'resource_uri': 'https://fragdenstaat.de/api/...</td>\n      <td>None</td>\n    </tr>\n  </tbody>\n</table>\n<p>210750 rows × 13 columns</p>\n</div>"
     },
     "execution_count": 121,
     "metadata": {},
     "output_type": "execute_result"
    }
   ],
   "source": [
    "data = decompress_pickle(\"data/foi_requests.pbz2\")\n",
    "df = pd.DataFrame(data)\n",
    "df"
   ],
   "metadata": {
    "collapsed": false
   }
  },
  {
   "cell_type": "code",
   "execution_count": 119,
   "outputs": [
    {
     "ename": "KeyError",
     "evalue": "\"['slug', 'site_url', 'region', 'resource_uri', 'description', 'rank'] not found in axis\"",
     "output_type": "error",
     "traceback": [
      "\u001B[0;31m---------------------------------------------------------------------------\u001B[0m",
      "\u001B[0;31mKeyError\u001B[0m                                  Traceback (most recent call last)",
      "Cell \u001B[0;32mIn[119], line 9\u001B[0m\n\u001B[1;32m      7\u001B[0m jurisdiction\u001B[38;5;241m=\u001B[39mpd\u001B[38;5;241m.\u001B[39mDataFrame\u001B[38;5;241m.\u001B[39mfrom_dict(juris)\n\u001B[1;32m      8\u001B[0m jurisdiction\u001B[38;5;241m.\u001B[39mdropna(inplace\u001B[38;5;241m=\u001B[39m\u001B[38;5;28;01mTrue\u001B[39;00m)\n\u001B[0;32m----> 9\u001B[0m \u001B[43mjurisdiction\u001B[49m\u001B[38;5;241;43m.\u001B[39;49m\u001B[43mdrop\u001B[49m\u001B[43m(\u001B[49m\u001B[43mcolumns\u001B[49m\u001B[38;5;241;43m=\u001B[39;49m\u001B[43m[\u001B[49m\u001B[38;5;124;43m'\u001B[39;49m\u001B[38;5;124;43mslug\u001B[39;49m\u001B[38;5;124;43m'\u001B[39;49m\u001B[43m,\u001B[49m\u001B[43m \u001B[49m\u001B[38;5;124;43m'\u001B[39;49m\u001B[38;5;124;43msite_url\u001B[39;49m\u001B[38;5;124;43m'\u001B[39;49m\u001B[43m,\u001B[49m\u001B[43m \u001B[49m\u001B[38;5;124;43m'\u001B[39;49m\u001B[38;5;124;43mregion\u001B[39;49m\u001B[38;5;124;43m'\u001B[39;49m\u001B[43m,\u001B[49m\u001B[43m \u001B[49m\u001B[38;5;124;43m'\u001B[39;49m\u001B[38;5;124;43mresource_uri\u001B[39;49m\u001B[38;5;124;43m'\u001B[39;49m\u001B[43m,\u001B[49m\u001B[43m \u001B[49m\u001B[38;5;124;43m'\u001B[39;49m\u001B[38;5;124;43mdescription\u001B[39;49m\u001B[38;5;124;43m'\u001B[39;49m\u001B[43m,\u001B[49m\u001B[38;5;124;43m\"\u001B[39;49m\u001B[38;5;124;43mrank\u001B[39;49m\u001B[38;5;124;43m\"\u001B[39;49m\u001B[43m]\u001B[49m\u001B[43m,\u001B[49m\u001B[43m \u001B[49m\u001B[43minplace\u001B[49m\u001B[38;5;241;43m=\u001B[39;49m\u001B[38;5;28;43;01mTrue\u001B[39;49;00m\u001B[43m)\u001B[49m\n",
      "File \u001B[0;32m~/Code/CorrelAid/fds_dashboard/db/python_scripts/venv/lib/python3.10/site-packages/pandas/util/_decorators.py:311\u001B[0m, in \u001B[0;36mdeprecate_nonkeyword_arguments.<locals>.decorate.<locals>.wrapper\u001B[0;34m(*args, **kwargs)\u001B[0m\n\u001B[1;32m    305\u001B[0m \u001B[38;5;28;01mif\u001B[39;00m \u001B[38;5;28mlen\u001B[39m(args) \u001B[38;5;241m>\u001B[39m num_allow_args:\n\u001B[1;32m    306\u001B[0m     warnings\u001B[38;5;241m.\u001B[39mwarn(\n\u001B[1;32m    307\u001B[0m         msg\u001B[38;5;241m.\u001B[39mformat(arguments\u001B[38;5;241m=\u001B[39marguments),\n\u001B[1;32m    308\u001B[0m         \u001B[38;5;167;01mFutureWarning\u001B[39;00m,\n\u001B[1;32m    309\u001B[0m         stacklevel\u001B[38;5;241m=\u001B[39mstacklevel,\n\u001B[1;32m    310\u001B[0m     )\n\u001B[0;32m--> 311\u001B[0m \u001B[38;5;28;01mreturn\u001B[39;00m \u001B[43mfunc\u001B[49m\u001B[43m(\u001B[49m\u001B[38;5;241;43m*\u001B[39;49m\u001B[43margs\u001B[49m\u001B[43m,\u001B[49m\u001B[43m \u001B[49m\u001B[38;5;241;43m*\u001B[39;49m\u001B[38;5;241;43m*\u001B[39;49m\u001B[43mkwargs\u001B[49m\u001B[43m)\u001B[49m\n",
      "File \u001B[0;32m~/Code/CorrelAid/fds_dashboard/db/python_scripts/venv/lib/python3.10/site-packages/pandas/core/frame.py:4954\u001B[0m, in \u001B[0;36mDataFrame.drop\u001B[0;34m(self, labels, axis, index, columns, level, inplace, errors)\u001B[0m\n\u001B[1;32m   4806\u001B[0m \u001B[38;5;129m@deprecate_nonkeyword_arguments\u001B[39m(version\u001B[38;5;241m=\u001B[39m\u001B[38;5;28;01mNone\u001B[39;00m, allowed_args\u001B[38;5;241m=\u001B[39m[\u001B[38;5;124m\"\u001B[39m\u001B[38;5;124mself\u001B[39m\u001B[38;5;124m\"\u001B[39m, \u001B[38;5;124m\"\u001B[39m\u001B[38;5;124mlabels\u001B[39m\u001B[38;5;124m\"\u001B[39m])\n\u001B[1;32m   4807\u001B[0m \u001B[38;5;28;01mdef\u001B[39;00m \u001B[38;5;21mdrop\u001B[39m(\n\u001B[1;32m   4808\u001B[0m     \u001B[38;5;28mself\u001B[39m,\n\u001B[0;32m   (...)\u001B[0m\n\u001B[1;32m   4815\u001B[0m     errors: \u001B[38;5;28mstr\u001B[39m \u001B[38;5;241m=\u001B[39m \u001B[38;5;124m\"\u001B[39m\u001B[38;5;124mraise\u001B[39m\u001B[38;5;124m\"\u001B[39m,\n\u001B[1;32m   4816\u001B[0m ):\n\u001B[1;32m   4817\u001B[0m     \u001B[38;5;124;03m\"\"\"\u001B[39;00m\n\u001B[1;32m   4818\u001B[0m \u001B[38;5;124;03m    Drop specified labels from rows or columns.\u001B[39;00m\n\u001B[1;32m   4819\u001B[0m \n\u001B[0;32m   (...)\u001B[0m\n\u001B[1;32m   4952\u001B[0m \u001B[38;5;124;03m            weight  1.0     0.8\u001B[39;00m\n\u001B[1;32m   4953\u001B[0m \u001B[38;5;124;03m    \"\"\"\u001B[39;00m\n\u001B[0;32m-> 4954\u001B[0m     \u001B[38;5;28;01mreturn\u001B[39;00m \u001B[38;5;28;43msuper\u001B[39;49m\u001B[43m(\u001B[49m\u001B[43m)\u001B[49m\u001B[38;5;241;43m.\u001B[39;49m\u001B[43mdrop\u001B[49m\u001B[43m(\u001B[49m\n\u001B[1;32m   4955\u001B[0m \u001B[43m        \u001B[49m\u001B[43mlabels\u001B[49m\u001B[38;5;241;43m=\u001B[39;49m\u001B[43mlabels\u001B[49m\u001B[43m,\u001B[49m\n\u001B[1;32m   4956\u001B[0m \u001B[43m        \u001B[49m\u001B[43maxis\u001B[49m\u001B[38;5;241;43m=\u001B[39;49m\u001B[43maxis\u001B[49m\u001B[43m,\u001B[49m\n\u001B[1;32m   4957\u001B[0m \u001B[43m        \u001B[49m\u001B[43mindex\u001B[49m\u001B[38;5;241;43m=\u001B[39;49m\u001B[43mindex\u001B[49m\u001B[43m,\u001B[49m\n\u001B[1;32m   4958\u001B[0m \u001B[43m        \u001B[49m\u001B[43mcolumns\u001B[49m\u001B[38;5;241;43m=\u001B[39;49m\u001B[43mcolumns\u001B[49m\u001B[43m,\u001B[49m\n\u001B[1;32m   4959\u001B[0m \u001B[43m        \u001B[49m\u001B[43mlevel\u001B[49m\u001B[38;5;241;43m=\u001B[39;49m\u001B[43mlevel\u001B[49m\u001B[43m,\u001B[49m\n\u001B[1;32m   4960\u001B[0m \u001B[43m        \u001B[49m\u001B[43minplace\u001B[49m\u001B[38;5;241;43m=\u001B[39;49m\u001B[43minplace\u001B[49m\u001B[43m,\u001B[49m\n\u001B[1;32m   4961\u001B[0m \u001B[43m        \u001B[49m\u001B[43merrors\u001B[49m\u001B[38;5;241;43m=\u001B[39;49m\u001B[43merrors\u001B[49m\u001B[43m,\u001B[49m\n\u001B[1;32m   4962\u001B[0m \u001B[43m    \u001B[49m\u001B[43m)\u001B[49m\n",
      "File \u001B[0;32m~/Code/CorrelAid/fds_dashboard/db/python_scripts/venv/lib/python3.10/site-packages/pandas/core/generic.py:4267\u001B[0m, in \u001B[0;36mNDFrame.drop\u001B[0;34m(self, labels, axis, index, columns, level, inplace, errors)\u001B[0m\n\u001B[1;32m   4265\u001B[0m \u001B[38;5;28;01mfor\u001B[39;00m axis, labels \u001B[38;5;129;01min\u001B[39;00m axes\u001B[38;5;241m.\u001B[39mitems():\n\u001B[1;32m   4266\u001B[0m     \u001B[38;5;28;01mif\u001B[39;00m labels \u001B[38;5;129;01mis\u001B[39;00m \u001B[38;5;129;01mnot\u001B[39;00m \u001B[38;5;28;01mNone\u001B[39;00m:\n\u001B[0;32m-> 4267\u001B[0m         obj \u001B[38;5;241m=\u001B[39m \u001B[43mobj\u001B[49m\u001B[38;5;241;43m.\u001B[39;49m\u001B[43m_drop_axis\u001B[49m\u001B[43m(\u001B[49m\u001B[43mlabels\u001B[49m\u001B[43m,\u001B[49m\u001B[43m \u001B[49m\u001B[43maxis\u001B[49m\u001B[43m,\u001B[49m\u001B[43m \u001B[49m\u001B[43mlevel\u001B[49m\u001B[38;5;241;43m=\u001B[39;49m\u001B[43mlevel\u001B[49m\u001B[43m,\u001B[49m\u001B[43m \u001B[49m\u001B[43merrors\u001B[49m\u001B[38;5;241;43m=\u001B[39;49m\u001B[43merrors\u001B[49m\u001B[43m)\u001B[49m\n\u001B[1;32m   4269\u001B[0m \u001B[38;5;28;01mif\u001B[39;00m inplace:\n\u001B[1;32m   4270\u001B[0m     \u001B[38;5;28mself\u001B[39m\u001B[38;5;241m.\u001B[39m_update_inplace(obj)\n",
      "File \u001B[0;32m~/Code/CorrelAid/fds_dashboard/db/python_scripts/venv/lib/python3.10/site-packages/pandas/core/generic.py:4311\u001B[0m, in \u001B[0;36mNDFrame._drop_axis\u001B[0;34m(self, labels, axis, level, errors, consolidate, only_slice)\u001B[0m\n\u001B[1;32m   4309\u001B[0m         new_axis \u001B[38;5;241m=\u001B[39m axis\u001B[38;5;241m.\u001B[39mdrop(labels, level\u001B[38;5;241m=\u001B[39mlevel, errors\u001B[38;5;241m=\u001B[39merrors)\n\u001B[1;32m   4310\u001B[0m     \u001B[38;5;28;01melse\u001B[39;00m:\n\u001B[0;32m-> 4311\u001B[0m         new_axis \u001B[38;5;241m=\u001B[39m \u001B[43maxis\u001B[49m\u001B[38;5;241;43m.\u001B[39;49m\u001B[43mdrop\u001B[49m\u001B[43m(\u001B[49m\u001B[43mlabels\u001B[49m\u001B[43m,\u001B[49m\u001B[43m \u001B[49m\u001B[43merrors\u001B[49m\u001B[38;5;241;43m=\u001B[39;49m\u001B[43merrors\u001B[49m\u001B[43m)\u001B[49m\n\u001B[1;32m   4312\u001B[0m     indexer \u001B[38;5;241m=\u001B[39m axis\u001B[38;5;241m.\u001B[39mget_indexer(new_axis)\n\u001B[1;32m   4314\u001B[0m \u001B[38;5;66;03m# Case for non-unique axis\u001B[39;00m\n\u001B[1;32m   4315\u001B[0m \u001B[38;5;28;01melse\u001B[39;00m:\n",
      "File \u001B[0;32m~/Code/CorrelAid/fds_dashboard/db/python_scripts/venv/lib/python3.10/site-packages/pandas/core/indexes/base.py:6644\u001B[0m, in \u001B[0;36mIndex.drop\u001B[0;34m(self, labels, errors)\u001B[0m\n\u001B[1;32m   6642\u001B[0m \u001B[38;5;28;01mif\u001B[39;00m mask\u001B[38;5;241m.\u001B[39many():\n\u001B[1;32m   6643\u001B[0m     \u001B[38;5;28;01mif\u001B[39;00m errors \u001B[38;5;241m!=\u001B[39m \u001B[38;5;124m\"\u001B[39m\u001B[38;5;124mignore\u001B[39m\u001B[38;5;124m\"\u001B[39m:\n\u001B[0;32m-> 6644\u001B[0m         \u001B[38;5;28;01mraise\u001B[39;00m \u001B[38;5;167;01mKeyError\u001B[39;00m(\u001B[38;5;124mf\u001B[39m\u001B[38;5;124m\"\u001B[39m\u001B[38;5;132;01m{\u001B[39;00m\u001B[38;5;28mlist\u001B[39m(labels[mask])\u001B[38;5;132;01m}\u001B[39;00m\u001B[38;5;124m not found in axis\u001B[39m\u001B[38;5;124m\"\u001B[39m)\n\u001B[1;32m   6645\u001B[0m     indexer \u001B[38;5;241m=\u001B[39m indexer[\u001B[38;5;241m~\u001B[39mmask]\n\u001B[1;32m   6646\u001B[0m \u001B[38;5;28;01mreturn\u001B[39;00m \u001B[38;5;28mself\u001B[39m\u001B[38;5;241m.\u001B[39mdelete(indexer)\n",
      "\u001B[0;31mKeyError\u001B[0m: \"['slug', 'site_url', 'region', 'resource_uri', 'description', 'rank'] not found in axis\""
     ]
    }
   ],
   "source": [
    "juri = df['jurisdiction'].to_list()\n",
    "\n",
    "# remove duplicates\n",
    "juris = []\n",
    "[juris.append(x) for x in juri if x not in juris and not None and pd.notnull(x)]\n",
    "\n",
    "jurisdiction=pd.DataFrame.from_dict(juris)\n",
    "jurisdiction.dropna(inplace=True)\n",
    "jurisdiction.drop(columns=['slug', 'site_url', 'region', 'resource_uri', 'description',\"rank\"], inplace=True)"
   ],
   "metadata": {
    "collapsed": false
   }
  },
  {
   "cell_type": "code",
   "execution_count": 120,
   "outputs": [
    {
     "data": {
      "text/plain": "                                                   0\n0    https://fragdenstaat.de/api/v1/jurisdiction/91/\n1    https://fragdenstaat.de/api/v1/jurisdiction/92/\n2    https://fragdenstaat.de/api/v1/jurisdiction/12/\n3    https://fragdenstaat.de/api/v1/jurisdiction/93/\n4    https://fragdenstaat.de/api/v1/jurisdiction/13/\n5     https://fragdenstaat.de/api/v1/jurisdiction/5/\n6     https://fragdenstaat.de/api/v1/jurisdiction/1/\n7     https://fragdenstaat.de/api/v1/jurisdiction/3/\n8     https://fragdenstaat.de/api/v1/jurisdiction/4/\n9     https://fragdenstaat.de/api/v1/jurisdiction/2/\n10    https://fragdenstaat.de/api/v1/jurisdiction/7/\n11   https://fragdenstaat.de/api/v1/jurisdiction/11/\n12   https://fragdenstaat.de/api/v1/jurisdiction/94/\n13    https://fragdenstaat.de/api/v1/jurisdiction/6/\n14   https://fragdenstaat.de/api/v1/jurisdiction/89/\n15   https://fragdenstaat.de/api/v1/jurisdiction/10/\n16    https://fragdenstaat.de/api/v1/jurisdiction/9/\n17  https://fragdenstaat.de/api/v1/jurisdiction/107/",
      "text/html": "<div>\n<style scoped>\n    .dataframe tbody tr th:only-of-type {\n        vertical-align: middle;\n    }\n\n    .dataframe tbody tr th {\n        vertical-align: top;\n    }\n\n    .dataframe thead th {\n        text-align: right;\n    }\n</style>\n<table border=\"1\" class=\"dataframe\">\n  <thead>\n    <tr style=\"text-align: right;\">\n      <th></th>\n      <th>0</th>\n    </tr>\n  </thead>\n  <tbody>\n    <tr>\n      <th>0</th>\n      <td>https://fragdenstaat.de/api/v1/jurisdiction/91/</td>\n    </tr>\n    <tr>\n      <th>1</th>\n      <td>https://fragdenstaat.de/api/v1/jurisdiction/92/</td>\n    </tr>\n    <tr>\n      <th>2</th>\n      <td>https://fragdenstaat.de/api/v1/jurisdiction/12/</td>\n    </tr>\n    <tr>\n      <th>3</th>\n      <td>https://fragdenstaat.de/api/v1/jurisdiction/93/</td>\n    </tr>\n    <tr>\n      <th>4</th>\n      <td>https://fragdenstaat.de/api/v1/jurisdiction/13/</td>\n    </tr>\n    <tr>\n      <th>5</th>\n      <td>https://fragdenstaat.de/api/v1/jurisdiction/5/</td>\n    </tr>\n    <tr>\n      <th>6</th>\n      <td>https://fragdenstaat.de/api/v1/jurisdiction/1/</td>\n    </tr>\n    <tr>\n      <th>7</th>\n      <td>https://fragdenstaat.de/api/v1/jurisdiction/3/</td>\n    </tr>\n    <tr>\n      <th>8</th>\n      <td>https://fragdenstaat.de/api/v1/jurisdiction/4/</td>\n    </tr>\n    <tr>\n      <th>9</th>\n      <td>https://fragdenstaat.de/api/v1/jurisdiction/2/</td>\n    </tr>\n    <tr>\n      <th>10</th>\n      <td>https://fragdenstaat.de/api/v1/jurisdiction/7/</td>\n    </tr>\n    <tr>\n      <th>11</th>\n      <td>https://fragdenstaat.de/api/v1/jurisdiction/11/</td>\n    </tr>\n    <tr>\n      <th>12</th>\n      <td>https://fragdenstaat.de/api/v1/jurisdiction/94/</td>\n    </tr>\n    <tr>\n      <th>13</th>\n      <td>https://fragdenstaat.de/api/v1/jurisdiction/6/</td>\n    </tr>\n    <tr>\n      <th>14</th>\n      <td>https://fragdenstaat.de/api/v1/jurisdiction/89/</td>\n    </tr>\n    <tr>\n      <th>15</th>\n      <td>https://fragdenstaat.de/api/v1/jurisdiction/10/</td>\n    </tr>\n    <tr>\n      <th>16</th>\n      <td>https://fragdenstaat.de/api/v1/jurisdiction/9/</td>\n    </tr>\n    <tr>\n      <th>17</th>\n      <td>https://fragdenstaat.de/api/v1/jurisdiction/107/</td>\n    </tr>\n  </tbody>\n</table>\n</div>"
     },
     "execution_count": 120,
     "metadata": {},
     "output_type": "execute_result"
    }
   ],
   "source": [
    "jurisdiction"
   ],
   "metadata": {
    "collapsed": false
   }
  },
  {
   "cell_type": "markdown",
   "source": [
    "## Messages"
   ],
   "metadata": {
    "collapsed": false
   }
  },
  {
   "cell_type": "code",
   "execution_count": null,
   "outputs": [],
   "source": [
    "data_msgs = decompress_pickle(\"data/messages.pbz2\")"
   ],
   "metadata": {
    "collapsed": false
   }
  },
  {
   "cell_type": "code",
   "execution_count": null,
   "outputs": [],
   "source": [
    "df = pd.DataFrame(data_msgs)"
   ],
   "metadata": {
    "collapsed": false
   }
  },
  {
   "cell_type": "code",
   "execution_count": null,
   "outputs": [],
   "source": [
    "df"
   ],
   "metadata": {
    "collapsed": false
   }
  },
  {
   "cell_type": "code",
   "execution_count": null,
   "outputs": [],
   "source": [
    "df[\"request\"] = df[\"request\"].apply(lambda req: int(req.split(\"/\")[-2]))\n",
    "df[\"sender_public_body\"] = df[\"sender_public_body\"].apply(lambda pb: int(pb.split(\"/\")[-2]) if pb is not None else pd.NA)\n",
    "df[\"recipient_public_body\"] = df[\"recipient_public_body\"].apply(lambda pb: int(pb.split(\"/\")[-2]) if pb is not None else pd.NA)\n",
    "df.drop_duplicates(subset=\"id\", inplace=True, keep=\"first\")"
   ],
   "metadata": {
    "collapsed": false
   }
  },
  {
   "cell_type": "code",
   "execution_count": null,
   "outputs": [],
   "source": [
    "df"
   ],
   "metadata": {
    "collapsed": false
   }
  },
  {
   "cell_type": "markdown",
   "source": [
    "## Campaigns"
   ],
   "metadata": {
    "collapsed": false
   }
  },
  {
   "cell_type": "code",
   "execution_count": null,
   "outputs": [],
   "source": [
    "data_cmp = decompress_pickle(\"data/campaigns.pbz2\")\n",
    "df_cmp = pd.DataFrame(data_cmp)\n",
    "df_cmp = df_cmp[[\"id\",\"name\",\"slug\",\"start_date\",\"active\"]]"
   ],
   "metadata": {
    "collapsed": false
   }
  }
 ],
 "metadata": {
  "kernelspec": {
   "display_name": "Python 3",
   "language": "python",
   "name": "python3"
  },
  "language_info": {
   "codemirror_mode": {
    "name": "ipython",
    "version": 2
   },
   "file_extension": ".py",
   "mimetype": "text/x-python",
   "name": "python",
   "nbconvert_exporter": "python",
   "pygments_lexer": "ipython2",
   "version": "2.7.6"
  }
 },
 "nbformat": 4,
 "nbformat_minor": 0
}
