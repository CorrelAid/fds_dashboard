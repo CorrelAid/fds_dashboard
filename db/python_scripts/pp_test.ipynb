{
 "cells": [
  {
   "cell_type": "code",
   "execution_count": 91,
   "metadata": {
    "collapsed": true
   },
   "outputs": [],
   "source": [
    "import numpy as np\n",
    "\n",
    "from helpers import decompress_pickle, compressed_pickle\n",
    "import pandas as pd\n",
    "import numpy as np"
   ]
  },
  {
   "cell_type": "markdown",
   "source": [
    "## Public Bodies"
   ],
   "metadata": {
    "collapsed": false
   }
  },
  {
   "cell_type": "code",
   "execution_count": 35,
   "outputs": [],
   "source": [
    "data = decompress_pickle(\"data/foi_requests.pbz2\")"
   ],
   "metadata": {
    "collapsed": false
   }
  },
  {
   "cell_type": "code",
   "execution_count": 36,
   "outputs": [],
   "source": [
    "df = pd.DataFrame(data)"
   ],
   "metadata": {
    "collapsed": false
   }
  },
  {
   "cell_type": "code",
   "execution_count": 37,
   "outputs": [
    {
     "data": {
      "text/plain": "            id                                    jurisdiction  \\\n210707  274410  https://fragdenstaat.de/api/v1/jurisdiction/5/   \n210708  274409  https://fragdenstaat.de/api/v1/jurisdiction/1/   \n210709  272016  https://fragdenstaat.de/api/v1/jurisdiction/1/   \n210710  267057  https://fragdenstaat.de/api/v1/jurisdiction/1/   \n210654  274408  https://fragdenstaat.de/api/v1/jurisdiction/3/   \n...        ...                                             ...   \n706        482  https://fragdenstaat.de/api/v1/jurisdiction/1/   \n707        585  https://fragdenstaat.de/api/v1/jurisdiction/1/   \n709        653  https://fragdenstaat.de/api/v1/jurisdiction/1/   \n498        604  https://fragdenstaat.de/api/v1/jurisdiction/1/   \n497        526  https://fragdenstaat.de/api/v1/jurisdiction/1/   \n\n                                           refusal_reason  costs  \\\n210707                                                       0.0   \n210708                                                       0.0   \n210709  § 3.4: die Information einer durch Rechtsvorsc...    0.0   \n210710                                                       0.0   \n210654                                                       0.0   \n...                                                   ...    ...   \n706                                                          0.0   \n707                                                          0.0   \n709                                                          0.0   \n498                                                          0.0   \n497                                                          0.0   \n\n                         due_date resolved_on  \\\n210707  2023-05-03T00:00:00+02:00        None   \n210708  2023-05-03T00:00:00+02:00        None   \n210709  2023-04-05T00:00:00+02:00        None   \n210710  2023-02-07T00:00:00+01:00        None   \n210654  2023-05-03T00:00:00+02:00        None   \n...                           ...         ...   \n706     2012-03-23T00:00:00+01:00        None   \n707     2012-03-23T00:00:00+01:00        None   \n709     2012-03-23T00:00:00+01:00        None   \n498     2012-03-23T00:00:00+01:00        None   \n497     2012-03-23T00:00:00+01:00        None   \n\n                              created_at                      last_message  \\\n210707  2023-03-30T22:08:15.936606+02:00  2023-03-30T22:08:40.101308+02:00   \n210708  2023-03-30T22:01:03.190859+02:00  2023-03-30T22:01:16.889270+02:00   \n210709  2023-03-03T19:34:45.646276+01:00  2023-03-30T21:58:24.250024+02:00   \n210710  2023-01-05T16:01:45.081264+01:00  2023-03-30T21:52:13.300077+02:00   \n210654  2023-03-30T21:41:07.145147+02:00  2023-03-30T21:41:16.879025+02:00   \n...                                  ...                               ...   \n706     2012-02-20T07:30:54.500280+01:00         2012-04-17T16:25:15+02:00   \n707     2012-02-20T12:54:48.584280+01:00         2012-04-17T16:25:15+02:00   \n709     2012-02-20T15:46:40.028280+01:00         2012-04-17T16:25:15+02:00   \n498            2012-02-20T13:16:00+01:00         2012-04-17T16:25:00+02:00   \n497            2012-02-20T11:33:00+01:00         2012-04-17T16:25:00+02:00   \n\n                   status            resolution      user  \\\n210707  awaiting_response                             NaN   \n210708  awaiting_response                        660518.0   \n210709           resolved               refused       NaN   \n210710           resolved            successful       NaN   \n210654  awaiting_response                             NaN   \n...                   ...                   ...       ...   \n706              resolved            successful     288.0   \n707              resolved  partially_successful       NaN   \n709              resolved            successful       NaN   \n498              resolved            successful       NaN   \n497              resolved            successful       NaN   \n\n                                              public_body  \\\n210707  {'resource_uri': 'https://fragdenstaat.de/api/...   \n210708  {'resource_uri': 'https://fragdenstaat.de/api/...   \n210709  {'resource_uri': 'https://fragdenstaat.de/api/...   \n210710  {'resource_uri': 'https://fragdenstaat.de/api/...   \n210654  {'resource_uri': 'https://fragdenstaat.de/api/...   \n...                                                   ...   \n706     {'resource_uri': 'https://fragdenstaat.de/api/...   \n707     {'resource_uri': 'https://fragdenstaat.de/api/...   \n709     {'resource_uri': 'https://fragdenstaat.de/api/...   \n498     {'resource_uri': 'https://fragdenstaat.de/api/...   \n497     {'resource_uri': 'https://fragdenstaat.de/api/...   \n\n                                          campaign  \n210707                                        None  \n210708                                        None  \n210709                                        None  \n210710  https://fragdenstaat.de/api/v1/campaign/4/  \n210654                                        None  \n...                                            ...  \n706                                           None  \n707                                           None  \n709                                           None  \n498                                           None  \n497                                           None  \n\n[651 rows x 13 columns]",
      "text/html": "<div>\n<style scoped>\n    .dataframe tbody tr th:only-of-type {\n        vertical-align: middle;\n    }\n\n    .dataframe tbody tr th {\n        vertical-align: top;\n    }\n\n    .dataframe thead th {\n        text-align: right;\n    }\n</style>\n<table border=\"1\" class=\"dataframe\">\n  <thead>\n    <tr style=\"text-align: right;\">\n      <th></th>\n      <th>id</th>\n      <th>jurisdiction</th>\n      <th>refusal_reason</th>\n      <th>costs</th>\n      <th>due_date</th>\n      <th>resolved_on</th>\n      <th>created_at</th>\n      <th>last_message</th>\n      <th>status</th>\n      <th>resolution</th>\n      <th>user</th>\n      <th>public_body</th>\n      <th>campaign</th>\n    </tr>\n  </thead>\n  <tbody>\n    <tr>\n      <th>210707</th>\n      <td>274410</td>\n      <td>https://fragdenstaat.de/api/v1/jurisdiction/5/</td>\n      <td></td>\n      <td>0.0</td>\n      <td>2023-05-03T00:00:00+02:00</td>\n      <td>None</td>\n      <td>2023-03-30T22:08:15.936606+02:00</td>\n      <td>2023-03-30T22:08:40.101308+02:00</td>\n      <td>awaiting_response</td>\n      <td></td>\n      <td>NaN</td>\n      <td>{'resource_uri': 'https://fragdenstaat.de/api/...</td>\n      <td>None</td>\n    </tr>\n    <tr>\n      <th>210708</th>\n      <td>274409</td>\n      <td>https://fragdenstaat.de/api/v1/jurisdiction/1/</td>\n      <td></td>\n      <td>0.0</td>\n      <td>2023-05-03T00:00:00+02:00</td>\n      <td>None</td>\n      <td>2023-03-30T22:01:03.190859+02:00</td>\n      <td>2023-03-30T22:01:16.889270+02:00</td>\n      <td>awaiting_response</td>\n      <td></td>\n      <td>660518.0</td>\n      <td>{'resource_uri': 'https://fragdenstaat.de/api/...</td>\n      <td>None</td>\n    </tr>\n    <tr>\n      <th>210709</th>\n      <td>272016</td>\n      <td>https://fragdenstaat.de/api/v1/jurisdiction/1/</td>\n      <td>§ 3.4: die Information einer durch Rechtsvorsc...</td>\n      <td>0.0</td>\n      <td>2023-04-05T00:00:00+02:00</td>\n      <td>None</td>\n      <td>2023-03-03T19:34:45.646276+01:00</td>\n      <td>2023-03-30T21:58:24.250024+02:00</td>\n      <td>resolved</td>\n      <td>refused</td>\n      <td>NaN</td>\n      <td>{'resource_uri': 'https://fragdenstaat.de/api/...</td>\n      <td>None</td>\n    </tr>\n    <tr>\n      <th>210710</th>\n      <td>267057</td>\n      <td>https://fragdenstaat.de/api/v1/jurisdiction/1/</td>\n      <td></td>\n      <td>0.0</td>\n      <td>2023-02-07T00:00:00+01:00</td>\n      <td>None</td>\n      <td>2023-01-05T16:01:45.081264+01:00</td>\n      <td>2023-03-30T21:52:13.300077+02:00</td>\n      <td>resolved</td>\n      <td>successful</td>\n      <td>NaN</td>\n      <td>{'resource_uri': 'https://fragdenstaat.de/api/...</td>\n      <td>https://fragdenstaat.de/api/v1/campaign/4/</td>\n    </tr>\n    <tr>\n      <th>210654</th>\n      <td>274408</td>\n      <td>https://fragdenstaat.de/api/v1/jurisdiction/3/</td>\n      <td></td>\n      <td>0.0</td>\n      <td>2023-05-03T00:00:00+02:00</td>\n      <td>None</td>\n      <td>2023-03-30T21:41:07.145147+02:00</td>\n      <td>2023-03-30T21:41:16.879025+02:00</td>\n      <td>awaiting_response</td>\n      <td></td>\n      <td>NaN</td>\n      <td>{'resource_uri': 'https://fragdenstaat.de/api/...</td>\n      <td>None</td>\n    </tr>\n    <tr>\n      <th>...</th>\n      <td>...</td>\n      <td>...</td>\n      <td>...</td>\n      <td>...</td>\n      <td>...</td>\n      <td>...</td>\n      <td>...</td>\n      <td>...</td>\n      <td>...</td>\n      <td>...</td>\n      <td>...</td>\n      <td>...</td>\n      <td>...</td>\n    </tr>\n    <tr>\n      <th>706</th>\n      <td>482</td>\n      <td>https://fragdenstaat.de/api/v1/jurisdiction/1/</td>\n      <td></td>\n      <td>0.0</td>\n      <td>2012-03-23T00:00:00+01:00</td>\n      <td>None</td>\n      <td>2012-02-20T07:30:54.500280+01:00</td>\n      <td>2012-04-17T16:25:15+02:00</td>\n      <td>resolved</td>\n      <td>successful</td>\n      <td>288.0</td>\n      <td>{'resource_uri': 'https://fragdenstaat.de/api/...</td>\n      <td>None</td>\n    </tr>\n    <tr>\n      <th>707</th>\n      <td>585</td>\n      <td>https://fragdenstaat.de/api/v1/jurisdiction/1/</td>\n      <td></td>\n      <td>0.0</td>\n      <td>2012-03-23T00:00:00+01:00</td>\n      <td>None</td>\n      <td>2012-02-20T12:54:48.584280+01:00</td>\n      <td>2012-04-17T16:25:15+02:00</td>\n      <td>resolved</td>\n      <td>partially_successful</td>\n      <td>NaN</td>\n      <td>{'resource_uri': 'https://fragdenstaat.de/api/...</td>\n      <td>None</td>\n    </tr>\n    <tr>\n      <th>709</th>\n      <td>653</td>\n      <td>https://fragdenstaat.de/api/v1/jurisdiction/1/</td>\n      <td></td>\n      <td>0.0</td>\n      <td>2012-03-23T00:00:00+01:00</td>\n      <td>None</td>\n      <td>2012-02-20T15:46:40.028280+01:00</td>\n      <td>2012-04-17T16:25:15+02:00</td>\n      <td>resolved</td>\n      <td>successful</td>\n      <td>NaN</td>\n      <td>{'resource_uri': 'https://fragdenstaat.de/api/...</td>\n      <td>None</td>\n    </tr>\n    <tr>\n      <th>498</th>\n      <td>604</td>\n      <td>https://fragdenstaat.de/api/v1/jurisdiction/1/</td>\n      <td></td>\n      <td>0.0</td>\n      <td>2012-03-23T00:00:00+01:00</td>\n      <td>None</td>\n      <td>2012-02-20T13:16:00+01:00</td>\n      <td>2012-04-17T16:25:00+02:00</td>\n      <td>resolved</td>\n      <td>successful</td>\n      <td>NaN</td>\n      <td>{'resource_uri': 'https://fragdenstaat.de/api/...</td>\n      <td>None</td>\n    </tr>\n    <tr>\n      <th>497</th>\n      <td>526</td>\n      <td>https://fragdenstaat.de/api/v1/jurisdiction/1/</td>\n      <td></td>\n      <td>0.0</td>\n      <td>2012-03-23T00:00:00+01:00</td>\n      <td>None</td>\n      <td>2012-02-20T11:33:00+01:00</td>\n      <td>2012-04-17T16:25:00+02:00</td>\n      <td>resolved</td>\n      <td>successful</td>\n      <td>NaN</td>\n      <td>{'resource_uri': 'https://fragdenstaat.de/api/...</td>\n      <td>None</td>\n    </tr>\n  </tbody>\n</table>\n<p>651 rows × 13 columns</p>\n</div>"
     },
     "execution_count": 37,
     "metadata": {},
     "output_type": "execute_result"
    }
   ],
   "source": [
    "dups = df[df.duplicated(['id'],keep=\"first\")]\n",
    "dups"
   ],
   "metadata": {
    "collapsed": false
   }
  },
  {
   "cell_type": "code",
   "execution_count": 38,
   "outputs": [
    {
     "data": {
      "text/plain": "            id                                    jurisdiction refusal_reason  \\\n210711  274408  https://fragdenstaat.de/api/v1/jurisdiction/3/                  \n210654  274408  https://fragdenstaat.de/api/v1/jurisdiction/3/                  \n\n        costs                   due_date resolved_on  \\\n210711    0.0  2023-05-03T00:00:00+02:00        None   \n210654    0.0  2023-05-03T00:00:00+02:00        None   \n\n                              created_at                      last_message  \\\n210711  2023-03-30T21:41:07.145147+02:00  2023-03-30T21:41:16.879025+02:00   \n210654  2023-03-30T21:41:07.145147+02:00  2023-03-30T21:41:16.879025+02:00   \n\n                   status resolution  user  \\\n210711  awaiting_response              NaN   \n210654  awaiting_response              NaN   \n\n                                              public_body campaign  \n210711  {'resource_uri': 'https://fragdenstaat.de/api/...     None  \n210654  {'resource_uri': 'https://fragdenstaat.de/api/...     None  ",
      "text/html": "<div>\n<style scoped>\n    .dataframe tbody tr th:only-of-type {\n        vertical-align: middle;\n    }\n\n    .dataframe tbody tr th {\n        vertical-align: top;\n    }\n\n    .dataframe thead th {\n        text-align: right;\n    }\n</style>\n<table border=\"1\" class=\"dataframe\">\n  <thead>\n    <tr style=\"text-align: right;\">\n      <th></th>\n      <th>id</th>\n      <th>jurisdiction</th>\n      <th>refusal_reason</th>\n      <th>costs</th>\n      <th>due_date</th>\n      <th>resolved_on</th>\n      <th>created_at</th>\n      <th>last_message</th>\n      <th>status</th>\n      <th>resolution</th>\n      <th>user</th>\n      <th>public_body</th>\n      <th>campaign</th>\n    </tr>\n  </thead>\n  <tbody>\n    <tr>\n      <th>210711</th>\n      <td>274408</td>\n      <td>https://fragdenstaat.de/api/v1/jurisdiction/3/</td>\n      <td></td>\n      <td>0.0</td>\n      <td>2023-05-03T00:00:00+02:00</td>\n      <td>None</td>\n      <td>2023-03-30T21:41:07.145147+02:00</td>\n      <td>2023-03-30T21:41:16.879025+02:00</td>\n      <td>awaiting_response</td>\n      <td></td>\n      <td>NaN</td>\n      <td>{'resource_uri': 'https://fragdenstaat.de/api/...</td>\n      <td>None</td>\n    </tr>\n    <tr>\n      <th>210654</th>\n      <td>274408</td>\n      <td>https://fragdenstaat.de/api/v1/jurisdiction/3/</td>\n      <td></td>\n      <td>0.0</td>\n      <td>2023-05-03T00:00:00+02:00</td>\n      <td>None</td>\n      <td>2023-03-30T21:41:07.145147+02:00</td>\n      <td>2023-03-30T21:41:16.879025+02:00</td>\n      <td>awaiting_response</td>\n      <td></td>\n      <td>NaN</td>\n      <td>{'resource_uri': 'https://fragdenstaat.de/api/...</td>\n      <td>None</td>\n    </tr>\n  </tbody>\n</table>\n</div>"
     },
     "execution_count": 38,
     "metadata": {},
     "output_type": "execute_result"
    }
   ],
   "source": [
    "# doesnt exist anymore\n",
    "df[df.id==274408]"
   ],
   "metadata": {
    "collapsed": false
   }
  },
  {
   "cell_type": "code",
   "execution_count": 39,
   "outputs": [
    {
     "data": {
      "text/plain": "            id                                    jurisdiction refusal_reason  \\\n210657  271506  https://fragdenstaat.de/api/v1/jurisdiction/1/                  \n210714  271506  https://fragdenstaat.de/api/v1/jurisdiction/1/                  \n\n        costs                   due_date resolved_on  \\\n210657    0.0  2023-03-29T00:00:00+02:00        None   \n210714    0.0  2023-03-29T00:00:00+02:00        None   \n\n                              created_at                      last_message  \\\n210657  2023-02-26T15:00:14.579689+01:00  2023-03-30T21:21:27.728668+02:00   \n210714  2023-02-26T15:00:14.579689+01:00  2023-03-30T21:21:27.728668+02:00   \n\n                   status resolution  user  \\\n210657  awaiting_response              NaN   \n210714  awaiting_response              NaN   \n\n                                              public_body campaign  \n210657  {'resource_uri': 'https://fragdenstaat.de/api/...     None  \n210714  {'resource_uri': 'https://fragdenstaat.de/api/...     None  ",
      "text/html": "<div>\n<style scoped>\n    .dataframe tbody tr th:only-of-type {\n        vertical-align: middle;\n    }\n\n    .dataframe tbody tr th {\n        vertical-align: top;\n    }\n\n    .dataframe thead th {\n        text-align: right;\n    }\n</style>\n<table border=\"1\" class=\"dataframe\">\n  <thead>\n    <tr style=\"text-align: right;\">\n      <th></th>\n      <th>id</th>\n      <th>jurisdiction</th>\n      <th>refusal_reason</th>\n      <th>costs</th>\n      <th>due_date</th>\n      <th>resolved_on</th>\n      <th>created_at</th>\n      <th>last_message</th>\n      <th>status</th>\n      <th>resolution</th>\n      <th>user</th>\n      <th>public_body</th>\n      <th>campaign</th>\n    </tr>\n  </thead>\n  <tbody>\n    <tr>\n      <th>210657</th>\n      <td>271506</td>\n      <td>https://fragdenstaat.de/api/v1/jurisdiction/1/</td>\n      <td></td>\n      <td>0.0</td>\n      <td>2023-03-29T00:00:00+02:00</td>\n      <td>None</td>\n      <td>2023-02-26T15:00:14.579689+01:00</td>\n      <td>2023-03-30T21:21:27.728668+02:00</td>\n      <td>awaiting_response</td>\n      <td></td>\n      <td>NaN</td>\n      <td>{'resource_uri': 'https://fragdenstaat.de/api/...</td>\n      <td>None</td>\n    </tr>\n    <tr>\n      <th>210714</th>\n      <td>271506</td>\n      <td>https://fragdenstaat.de/api/v1/jurisdiction/1/</td>\n      <td></td>\n      <td>0.0</td>\n      <td>2023-03-29T00:00:00+02:00</td>\n      <td>None</td>\n      <td>2023-02-26T15:00:14.579689+01:00</td>\n      <td>2023-03-30T21:21:27.728668+02:00</td>\n      <td>awaiting_response</td>\n      <td></td>\n      <td>NaN</td>\n      <td>{'resource_uri': 'https://fragdenstaat.de/api/...</td>\n      <td>None</td>\n    </tr>\n  </tbody>\n</table>\n</div>"
     },
     "execution_count": 39,
     "metadata": {},
     "output_type": "execute_result"
    }
   ],
   "source": [
    "df[df.id==271506]"
   ],
   "metadata": {
    "collapsed": false
   }
  },
  {
   "cell_type": "markdown",
   "source": [
    "## Public Bodies"
   ],
   "metadata": {
    "collapsed": false
   }
  },
  {
   "cell_type": "code",
   "execution_count": 42,
   "outputs": [],
   "source": [
    "data_pb = decompress_pickle(\"data/public_bodies.pbz2\")"
   ],
   "metadata": {
    "collapsed": false
   }
  },
  {
   "cell_type": "code",
   "execution_count": 78,
   "outputs": [
    {
     "data": {
      "text/plain": "          id                                               name  \\\n265    50342                Wissenschaftliches Institut der AOK   \n10651  50341                      Polizeipräsidium Niederbayern   \n10653  50340                    Polizeipräsidium Oberbayern Süd   \n38103  50339      Autorisierte Stelle Digitalfunk Niedersachsen   \n34410  50338              enwor - energie & wasser vor ort GmbH   \n...      ...                                                ...   \n40278      8       Akademie für Raumforschung und Landesplanung   \n40267      7                                Akademie der Künste   \n73         6              Zentrum Informationsarbeit Bundeswehr   \n40558      3  Absatzförderungsfonds der deutschen Land- und ...   \n40557      2  Absatzförderungsfonds der deutschen Forst- und...   \n\n                                          classification  \\\n265    {'id': 259, 'name': 'Krankenkasse', 'slug': 'k...   \n10651  {'id': 239, 'name': 'Polizeipräsidium', 'slug'...   \n10653  {'id': 239, 'name': 'Polizeipräsidium', 'slug'...   \n38103  {'id': 47, 'name': 'Polizei', 'slug': 'polizei...   \n34410  {'id': 280, 'name': 'Stadtwerke', 'slug': 'sta...   \n...                                                  ...   \n40278  {'id': 48, 'name': 'Akademie', 'slug': 'akadem...   \n40267  {'id': 451, 'name': 'Akademie der Künste', 'sl...   \n73     {'id': 397, 'name': 'Militärische Ausbildungss...   \n40558  {'id': 594, 'name': 'Wirtschaftsförderung', 's...   \n40557  {'id': 594, 'name': 'Wirtschaftsförderung', 's...   \n\n                                              categories  \\\n265                                                   []   \n10651  [{'id': 238, 'name': 'Polizei', 'slug': 'poliz...   \n10653  [{'id': 238, 'name': 'Polizei', 'slug': 'poliz...   \n38103                                                 []   \n34410  [{'id': 187, 'name': 'Energie', 'slug': 'energ...   \n...                                                  ...   \n40278  [{'id': 185, 'name': 'Bildung', 'slug': 'bildu...   \n40267  [{'id': 183, 'name': 'Kultur', 'slug': 'kultur...   \n73     [{'id': 5, 'name': 'Verteidigung', 'slug': 've...   \n40558  [{'id': 2, 'name': 'Landwirtschaft', 'slug': '...   \n40557  [{'id': 2, 'name': 'Landwirtschaft', 'slug': '...   \n\n                                                 address  \\\n265                Rosenthaler Straße 31\\r\\n10178 Berlin   \n10651          Wittelsbacherhöhe 9/11\\r\\n94315 Straubing   \n10653                 Kaiserstraße 32\\r\\n83022 Rosenheim   \n38103               Tannenbergallee 11\\r\\n30163 Hannover   \n34410             Kaiserstraße 100\\r\\n52134 Herzogenrath   \n...                                                  ...   \n40278  Hohenzollernstraße 11\\n30161 Hannover, Nieders...   \n40267  Pariser Platz 4\\n10117 Berlin, Berlin\\nDeutsch...   \n73     Hauptadresse\\r\\nPrötzeler Chaussee 20\\r\\n15344...   \n40558  Schwertberger Straße 14\\n53177 Bonn, Nordrhein...   \n40557  Godesberger Allee 142 - 148\\n53175 Bonn, Nordr...   \n\n                                            jurisdiction  jurisdiction_id  \n265    {'resource_uri': 'https://fragdenstaat.de/api/...                4  \n10651  {'resource_uri': 'https://fragdenstaat.de/api/...               92  \n10653  {'resource_uri': 'https://fragdenstaat.de/api/...               92  \n38103  {'resource_uri': 'https://fragdenstaat.de/api/...               93  \n34410  {'resource_uri': 'https://fragdenstaat.de/api/...                2  \n...                                                  ...              ...  \n40278  {'resource_uri': 'https://fragdenstaat.de/api/...                1  \n40267  {'resource_uri': 'https://fragdenstaat.de/api/...                1  \n73     {'resource_uri': 'https://fragdenstaat.de/api/...                1  \n40558  {'resource_uri': 'https://fragdenstaat.de/api/...                1  \n40557  {'resource_uri': 'https://fragdenstaat.de/api/...                1  \n\n[40800 rows x 7 columns]",
      "text/html": "<div>\n<style scoped>\n    .dataframe tbody tr th:only-of-type {\n        vertical-align: middle;\n    }\n\n    .dataframe tbody tr th {\n        vertical-align: top;\n    }\n\n    .dataframe thead th {\n        text-align: right;\n    }\n</style>\n<table border=\"1\" class=\"dataframe\">\n  <thead>\n    <tr style=\"text-align: right;\">\n      <th></th>\n      <th>id</th>\n      <th>name</th>\n      <th>classification</th>\n      <th>categories</th>\n      <th>address</th>\n      <th>jurisdiction</th>\n      <th>jurisdiction_id</th>\n    </tr>\n  </thead>\n  <tbody>\n    <tr>\n      <th>265</th>\n      <td>50342</td>\n      <td>Wissenschaftliches Institut der AOK</td>\n      <td>{'id': 259, 'name': 'Krankenkasse', 'slug': 'k...</td>\n      <td>[]</td>\n      <td>Rosenthaler Straße 31\\r\\n10178 Berlin</td>\n      <td>{'resource_uri': 'https://fragdenstaat.de/api/...</td>\n      <td>4</td>\n    </tr>\n    <tr>\n      <th>10651</th>\n      <td>50341</td>\n      <td>Polizeipräsidium Niederbayern</td>\n      <td>{'id': 239, 'name': 'Polizeipräsidium', 'slug'...</td>\n      <td>[{'id': 238, 'name': 'Polizei', 'slug': 'poliz...</td>\n      <td>Wittelsbacherhöhe 9/11\\r\\n94315 Straubing</td>\n      <td>{'resource_uri': 'https://fragdenstaat.de/api/...</td>\n      <td>92</td>\n    </tr>\n    <tr>\n      <th>10653</th>\n      <td>50340</td>\n      <td>Polizeipräsidium Oberbayern Süd</td>\n      <td>{'id': 239, 'name': 'Polizeipräsidium', 'slug'...</td>\n      <td>[{'id': 238, 'name': 'Polizei', 'slug': 'poliz...</td>\n      <td>Kaiserstraße 32\\r\\n83022 Rosenheim</td>\n      <td>{'resource_uri': 'https://fragdenstaat.de/api/...</td>\n      <td>92</td>\n    </tr>\n    <tr>\n      <th>38103</th>\n      <td>50339</td>\n      <td>Autorisierte Stelle Digitalfunk Niedersachsen</td>\n      <td>{'id': 47, 'name': 'Polizei', 'slug': 'polizei...</td>\n      <td>[]</td>\n      <td>Tannenbergallee 11\\r\\n30163 Hannover</td>\n      <td>{'resource_uri': 'https://fragdenstaat.de/api/...</td>\n      <td>93</td>\n    </tr>\n    <tr>\n      <th>34410</th>\n      <td>50338</td>\n      <td>enwor - energie &amp; wasser vor ort GmbH</td>\n      <td>{'id': 280, 'name': 'Stadtwerke', 'slug': 'sta...</td>\n      <td>[{'id': 187, 'name': 'Energie', 'slug': 'energ...</td>\n      <td>Kaiserstraße 100\\r\\n52134 Herzogenrath</td>\n      <td>{'resource_uri': 'https://fragdenstaat.de/api/...</td>\n      <td>2</td>\n    </tr>\n    <tr>\n      <th>...</th>\n      <td>...</td>\n      <td>...</td>\n      <td>...</td>\n      <td>...</td>\n      <td>...</td>\n      <td>...</td>\n      <td>...</td>\n    </tr>\n    <tr>\n      <th>40278</th>\n      <td>8</td>\n      <td>Akademie für Raumforschung und Landesplanung</td>\n      <td>{'id': 48, 'name': 'Akademie', 'slug': 'akadem...</td>\n      <td>[{'id': 185, 'name': 'Bildung', 'slug': 'bildu...</td>\n      <td>Hohenzollernstraße 11\\n30161 Hannover, Nieders...</td>\n      <td>{'resource_uri': 'https://fragdenstaat.de/api/...</td>\n      <td>1</td>\n    </tr>\n    <tr>\n      <th>40267</th>\n      <td>7</td>\n      <td>Akademie der Künste</td>\n      <td>{'id': 451, 'name': 'Akademie der Künste', 'sl...</td>\n      <td>[{'id': 183, 'name': 'Kultur', 'slug': 'kultur...</td>\n      <td>Pariser Platz 4\\n10117 Berlin, Berlin\\nDeutsch...</td>\n      <td>{'resource_uri': 'https://fragdenstaat.de/api/...</td>\n      <td>1</td>\n    </tr>\n    <tr>\n      <th>73</th>\n      <td>6</td>\n      <td>Zentrum Informationsarbeit Bundeswehr</td>\n      <td>{'id': 397, 'name': 'Militärische Ausbildungss...</td>\n      <td>[{'id': 5, 'name': 'Verteidigung', 'slug': 've...</td>\n      <td>Hauptadresse\\r\\nPrötzeler Chaussee 20\\r\\n15344...</td>\n      <td>{'resource_uri': 'https://fragdenstaat.de/api/...</td>\n      <td>1</td>\n    </tr>\n    <tr>\n      <th>40558</th>\n      <td>3</td>\n      <td>Absatzförderungsfonds der deutschen Land- und ...</td>\n      <td>{'id': 594, 'name': 'Wirtschaftsförderung', 's...</td>\n      <td>[{'id': 2, 'name': 'Landwirtschaft', 'slug': '...</td>\n      <td>Schwertberger Straße 14\\n53177 Bonn, Nordrhein...</td>\n      <td>{'resource_uri': 'https://fragdenstaat.de/api/...</td>\n      <td>1</td>\n    </tr>\n    <tr>\n      <th>40557</th>\n      <td>2</td>\n      <td>Absatzförderungsfonds der deutschen Forst- und...</td>\n      <td>{'id': 594, 'name': 'Wirtschaftsförderung', 's...</td>\n      <td>[{'id': 2, 'name': 'Landwirtschaft', 'slug': '...</td>\n      <td>Godesberger Allee 142 - 148\\n53175 Bonn, Nordr...</td>\n      <td>{'resource_uri': 'https://fragdenstaat.de/api/...</td>\n      <td>1</td>\n    </tr>\n  </tbody>\n</table>\n<p>40800 rows × 7 columns</p>\n</div>"
     },
     "execution_count": 78,
     "metadata": {},
     "output_type": "execute_result"
    }
   ],
   "source": [
    "df = pd.DataFrame(data_pb)\n",
    "df"
   ],
   "metadata": {
    "collapsed": false
   }
  },
  {
   "cell_type": "code",
   "execution_count": 66,
   "outputs": [
    {
     "data": {
      "text/plain": "Empty DataFrame\nColumns: [id, name, classification, categories, address, jurisdiction, jurisdiction_id]\nIndex: []",
      "text/html": "<div>\n<style scoped>\n    .dataframe tbody tr th:only-of-type {\n        vertical-align: middle;\n    }\n\n    .dataframe tbody tr th {\n        vertical-align: top;\n    }\n\n    .dataframe thead th {\n        text-align: right;\n    }\n</style>\n<table border=\"1\" class=\"dataframe\">\n  <thead>\n    <tr style=\"text-align: right;\">\n      <th></th>\n      <th>id</th>\n      <th>name</th>\n      <th>classification</th>\n      <th>categories</th>\n      <th>address</th>\n      <th>jurisdiction</th>\n      <th>jurisdiction_id</th>\n    </tr>\n  </thead>\n  <tbody>\n  </tbody>\n</table>\n</div>"
     },
     "execution_count": 66,
     "metadata": {},
     "output_type": "execute_result"
    }
   ],
   "source": [
    "df[df['jurisdiction'].isna()]"
   ],
   "metadata": {
    "collapsed": false
   }
  },
  {
   "cell_type": "code",
   "execution_count": 67,
   "outputs": [],
   "source": [
    "df.loc[df.id==49901, \"jurisdiction\"] = [{\"id\":6}]\n",
    "df.loc[df.id==49254, \"jurisdiction\"] = [{\"id\":5}]"
   ],
   "metadata": {
    "collapsed": false
   }
  },
  {
   "cell_type": "code",
   "execution_count": 68,
   "outputs": [
    {
     "data": {
      "text/plain": "Empty DataFrame\nColumns: [id, name, classification, categories, address, jurisdiction, jurisdiction_id]\nIndex: []",
      "text/html": "<div>\n<style scoped>\n    .dataframe tbody tr th:only-of-type {\n        vertical-align: middle;\n    }\n\n    .dataframe tbody tr th {\n        vertical-align: top;\n    }\n\n    .dataframe thead th {\n        text-align: right;\n    }\n</style>\n<table border=\"1\" class=\"dataframe\">\n  <thead>\n    <tr style=\"text-align: right;\">\n      <th></th>\n      <th>id</th>\n      <th>name</th>\n      <th>classification</th>\n      <th>categories</th>\n      <th>address</th>\n      <th>jurisdiction</th>\n      <th>jurisdiction_id</th>\n    </tr>\n  </thead>\n  <tbody>\n  </tbody>\n</table>\n</div>"
     },
     "execution_count": 68,
     "metadata": {},
     "output_type": "execute_result"
    }
   ],
   "source": [
    "df[df['jurisdiction'].isna()]"
   ],
   "metadata": {
    "collapsed": false
   }
  },
  {
   "cell_type": "code",
   "execution_count": 69,
   "outputs": [
    {
     "data": {
      "text/plain": "          id                                               name  \\\n265    50342                Wissenschaftliches Institut der AOK   \n10651  50341                      Polizeipräsidium Niederbayern   \n10653  50340                    Polizeipräsidium Oberbayern Süd   \n38103  50339      Autorisierte Stelle Digitalfunk Niedersachsen   \n34410  50338              enwor - energie & wasser vor ort GmbH   \n...      ...                                                ...   \n40278      8       Akademie für Raumforschung und Landesplanung   \n40267      7                                Akademie der Künste   \n73         6              Zentrum Informationsarbeit Bundeswehr   \n40558      3  Absatzförderungsfonds der deutschen Land- und ...   \n40557      2  Absatzförderungsfonds der deutschen Forst- und...   \n\n       jurisdiction_id  \n265                  4  \n10651               92  \n10653               92  \n38103               93  \n34410                2  \n...                ...  \n40278                1  \n40267                1  \n73                   1  \n40558                1  \n40557                1  \n\n[40800 rows x 3 columns]",
      "text/html": "<div>\n<style scoped>\n    .dataframe tbody tr th:only-of-type {\n        vertical-align: middle;\n    }\n\n    .dataframe tbody tr th {\n        vertical-align: top;\n    }\n\n    .dataframe thead th {\n        text-align: right;\n    }\n</style>\n<table border=\"1\" class=\"dataframe\">\n  <thead>\n    <tr style=\"text-align: right;\">\n      <th></th>\n      <th>id</th>\n      <th>name</th>\n      <th>jurisdiction_id</th>\n    </tr>\n  </thead>\n  <tbody>\n    <tr>\n      <th>265</th>\n      <td>50342</td>\n      <td>Wissenschaftliches Institut der AOK</td>\n      <td>4</td>\n    </tr>\n    <tr>\n      <th>10651</th>\n      <td>50341</td>\n      <td>Polizeipräsidium Niederbayern</td>\n      <td>92</td>\n    </tr>\n    <tr>\n      <th>10653</th>\n      <td>50340</td>\n      <td>Polizeipräsidium Oberbayern Süd</td>\n      <td>92</td>\n    </tr>\n    <tr>\n      <th>38103</th>\n      <td>50339</td>\n      <td>Autorisierte Stelle Digitalfunk Niedersachsen</td>\n      <td>93</td>\n    </tr>\n    <tr>\n      <th>34410</th>\n      <td>50338</td>\n      <td>enwor - energie &amp; wasser vor ort GmbH</td>\n      <td>2</td>\n    </tr>\n    <tr>\n      <th>...</th>\n      <td>...</td>\n      <td>...</td>\n      <td>...</td>\n    </tr>\n    <tr>\n      <th>40278</th>\n      <td>8</td>\n      <td>Akademie für Raumforschung und Landesplanung</td>\n      <td>1</td>\n    </tr>\n    <tr>\n      <th>40267</th>\n      <td>7</td>\n      <td>Akademie der Künste</td>\n      <td>1</td>\n    </tr>\n    <tr>\n      <th>73</th>\n      <td>6</td>\n      <td>Zentrum Informationsarbeit Bundeswehr</td>\n      <td>1</td>\n    </tr>\n    <tr>\n      <th>40558</th>\n      <td>3</td>\n      <td>Absatzförderungsfonds der deutschen Land- und ...</td>\n      <td>1</td>\n    </tr>\n    <tr>\n      <th>40557</th>\n      <td>2</td>\n      <td>Absatzförderungsfonds der deutschen Forst- und...</td>\n      <td>1</td>\n    </tr>\n  </tbody>\n</table>\n<p>40800 rows × 3 columns</p>\n</div>"
     },
     "execution_count": 69,
     "metadata": {},
     "output_type": "execute_result"
    }
   ],
   "source": [
    "df[\"jurisdiction_id\"] = df[\"jurisdiction\"].apply(lambda dct: int(dct.get(\"id\")) if dct is not None else None)\n",
    "df = df[[\"id\",\"name\",\"jurisdiction_id\"]]\n",
    "df"
   ],
   "metadata": {
    "collapsed": false
   }
  },
  {
   "cell_type": "code",
   "execution_count": 6,
   "outputs": [],
   "source": [
    "df.drop_duplicates(subset=\"id\", inplace=True, keep=\"first\")"
   ],
   "metadata": {
    "collapsed": false
   }
  },
  {
   "cell_type": "markdown",
   "source": [
    "## Jurisdictions"
   ],
   "metadata": {
    "collapsed": false
   }
  },
  {
   "cell_type": "code",
   "execution_count": 84,
   "outputs": [
    {
     "data": {
      "text/plain": "          id                                               name  \\\n265    50342                Wissenschaftliches Institut der AOK   \n10651  50341                      Polizeipräsidium Niederbayern   \n10653  50340                    Polizeipräsidium Oberbayern Süd   \n38103  50339      Autorisierte Stelle Digitalfunk Niedersachsen   \n34410  50338              enwor - energie & wasser vor ort GmbH   \n...      ...                                                ...   \n40278      8       Akademie für Raumforschung und Landesplanung   \n40267      7                                Akademie der Künste   \n73         6              Zentrum Informationsarbeit Bundeswehr   \n40558      3  Absatzförderungsfonds der deutschen Land- und ...   \n40557      2  Absatzförderungsfonds der deutschen Forst- und...   \n\n                                          classification  \\\n265    {'id': 259, 'name': 'Krankenkasse', 'slug': 'k...   \n10651  {'id': 239, 'name': 'Polizeipräsidium', 'slug'...   \n10653  {'id': 239, 'name': 'Polizeipräsidium', 'slug'...   \n38103  {'id': 47, 'name': 'Polizei', 'slug': 'polizei...   \n34410  {'id': 280, 'name': 'Stadtwerke', 'slug': 'sta...   \n...                                                  ...   \n40278  {'id': 48, 'name': 'Akademie', 'slug': 'akadem...   \n40267  {'id': 451, 'name': 'Akademie der Künste', 'sl...   \n73     {'id': 397, 'name': 'Militärische Ausbildungss...   \n40558  {'id': 594, 'name': 'Wirtschaftsförderung', 's...   \n40557  {'id': 594, 'name': 'Wirtschaftsförderung', 's...   \n\n                                              categories  \\\n265                                                   []   \n10651  [{'id': 238, 'name': 'Polizei', 'slug': 'poliz...   \n10653  [{'id': 238, 'name': 'Polizei', 'slug': 'poliz...   \n38103                                                 []   \n34410  [{'id': 187, 'name': 'Energie', 'slug': 'energ...   \n...                                                  ...   \n40278  [{'id': 185, 'name': 'Bildung', 'slug': 'bildu...   \n40267  [{'id': 183, 'name': 'Kultur', 'slug': 'kultur...   \n73     [{'id': 5, 'name': 'Verteidigung', 'slug': 've...   \n40558  [{'id': 2, 'name': 'Landwirtschaft', 'slug': '...   \n40557  [{'id': 2, 'name': 'Landwirtschaft', 'slug': '...   \n\n                                                 address  \\\n265                Rosenthaler Straße 31\\r\\n10178 Berlin   \n10651          Wittelsbacherhöhe 9/11\\r\\n94315 Straubing   \n10653                 Kaiserstraße 32\\r\\n83022 Rosenheim   \n38103               Tannenbergallee 11\\r\\n30163 Hannover   \n34410             Kaiserstraße 100\\r\\n52134 Herzogenrath   \n...                                                  ...   \n40278  Hohenzollernstraße 11\\n30161 Hannover, Nieders...   \n40267  Pariser Platz 4\\n10117 Berlin, Berlin\\nDeutsch...   \n73     Hauptadresse\\r\\nPrötzeler Chaussee 20\\r\\n15344...   \n40558  Schwertberger Straße 14\\n53177 Bonn, Nordrhein...   \n40557  Godesberger Allee 142 - 148\\n53175 Bonn, Nordr...   \n\n                                            jurisdiction  jurisdiction_id  \n265    {'resource_uri': 'https://fragdenstaat.de/api/...                4  \n10651  {'resource_uri': 'https://fragdenstaat.de/api/...               92  \n10653  {'resource_uri': 'https://fragdenstaat.de/api/...               92  \n38103  {'resource_uri': 'https://fragdenstaat.de/api/...               93  \n34410  {'resource_uri': 'https://fragdenstaat.de/api/...                2  \n...                                                  ...              ...  \n40278  {'resource_uri': 'https://fragdenstaat.de/api/...                1  \n40267  {'resource_uri': 'https://fragdenstaat.de/api/...                1  \n73     {'resource_uri': 'https://fragdenstaat.de/api/...                1  \n40558  {'resource_uri': 'https://fragdenstaat.de/api/...                1  \n40557  {'resource_uri': 'https://fragdenstaat.de/api/...                1  \n\n[40800 rows x 7 columns]",
      "text/html": "<div>\n<style scoped>\n    .dataframe tbody tr th:only-of-type {\n        vertical-align: middle;\n    }\n\n    .dataframe tbody tr th {\n        vertical-align: top;\n    }\n\n    .dataframe thead th {\n        text-align: right;\n    }\n</style>\n<table border=\"1\" class=\"dataframe\">\n  <thead>\n    <tr style=\"text-align: right;\">\n      <th></th>\n      <th>id</th>\n      <th>name</th>\n      <th>classification</th>\n      <th>categories</th>\n      <th>address</th>\n      <th>jurisdiction</th>\n      <th>jurisdiction_id</th>\n    </tr>\n  </thead>\n  <tbody>\n    <tr>\n      <th>265</th>\n      <td>50342</td>\n      <td>Wissenschaftliches Institut der AOK</td>\n      <td>{'id': 259, 'name': 'Krankenkasse', 'slug': 'k...</td>\n      <td>[]</td>\n      <td>Rosenthaler Straße 31\\r\\n10178 Berlin</td>\n      <td>{'resource_uri': 'https://fragdenstaat.de/api/...</td>\n      <td>4</td>\n    </tr>\n    <tr>\n      <th>10651</th>\n      <td>50341</td>\n      <td>Polizeipräsidium Niederbayern</td>\n      <td>{'id': 239, 'name': 'Polizeipräsidium', 'slug'...</td>\n      <td>[{'id': 238, 'name': 'Polizei', 'slug': 'poliz...</td>\n      <td>Wittelsbacherhöhe 9/11\\r\\n94315 Straubing</td>\n      <td>{'resource_uri': 'https://fragdenstaat.de/api/...</td>\n      <td>92</td>\n    </tr>\n    <tr>\n      <th>10653</th>\n      <td>50340</td>\n      <td>Polizeipräsidium Oberbayern Süd</td>\n      <td>{'id': 239, 'name': 'Polizeipräsidium', 'slug'...</td>\n      <td>[{'id': 238, 'name': 'Polizei', 'slug': 'poliz...</td>\n      <td>Kaiserstraße 32\\r\\n83022 Rosenheim</td>\n      <td>{'resource_uri': 'https://fragdenstaat.de/api/...</td>\n      <td>92</td>\n    </tr>\n    <tr>\n      <th>38103</th>\n      <td>50339</td>\n      <td>Autorisierte Stelle Digitalfunk Niedersachsen</td>\n      <td>{'id': 47, 'name': 'Polizei', 'slug': 'polizei...</td>\n      <td>[]</td>\n      <td>Tannenbergallee 11\\r\\n30163 Hannover</td>\n      <td>{'resource_uri': 'https://fragdenstaat.de/api/...</td>\n      <td>93</td>\n    </tr>\n    <tr>\n      <th>34410</th>\n      <td>50338</td>\n      <td>enwor - energie &amp; wasser vor ort GmbH</td>\n      <td>{'id': 280, 'name': 'Stadtwerke', 'slug': 'sta...</td>\n      <td>[{'id': 187, 'name': 'Energie', 'slug': 'energ...</td>\n      <td>Kaiserstraße 100\\r\\n52134 Herzogenrath</td>\n      <td>{'resource_uri': 'https://fragdenstaat.de/api/...</td>\n      <td>2</td>\n    </tr>\n    <tr>\n      <th>...</th>\n      <td>...</td>\n      <td>...</td>\n      <td>...</td>\n      <td>...</td>\n      <td>...</td>\n      <td>...</td>\n      <td>...</td>\n    </tr>\n    <tr>\n      <th>40278</th>\n      <td>8</td>\n      <td>Akademie für Raumforschung und Landesplanung</td>\n      <td>{'id': 48, 'name': 'Akademie', 'slug': 'akadem...</td>\n      <td>[{'id': 185, 'name': 'Bildung', 'slug': 'bildu...</td>\n      <td>Hohenzollernstraße 11\\n30161 Hannover, Nieders...</td>\n      <td>{'resource_uri': 'https://fragdenstaat.de/api/...</td>\n      <td>1</td>\n    </tr>\n    <tr>\n      <th>40267</th>\n      <td>7</td>\n      <td>Akademie der Künste</td>\n      <td>{'id': 451, 'name': 'Akademie der Künste', 'sl...</td>\n      <td>[{'id': 183, 'name': 'Kultur', 'slug': 'kultur...</td>\n      <td>Pariser Platz 4\\n10117 Berlin, Berlin\\nDeutsch...</td>\n      <td>{'resource_uri': 'https://fragdenstaat.de/api/...</td>\n      <td>1</td>\n    </tr>\n    <tr>\n      <th>73</th>\n      <td>6</td>\n      <td>Zentrum Informationsarbeit Bundeswehr</td>\n      <td>{'id': 397, 'name': 'Militärische Ausbildungss...</td>\n      <td>[{'id': 5, 'name': 'Verteidigung', 'slug': 've...</td>\n      <td>Hauptadresse\\r\\nPrötzeler Chaussee 20\\r\\n15344...</td>\n      <td>{'resource_uri': 'https://fragdenstaat.de/api/...</td>\n      <td>1</td>\n    </tr>\n    <tr>\n      <th>40558</th>\n      <td>3</td>\n      <td>Absatzförderungsfonds der deutschen Land- und ...</td>\n      <td>{'id': 594, 'name': 'Wirtschaftsförderung', 's...</td>\n      <td>[{'id': 2, 'name': 'Landwirtschaft', 'slug': '...</td>\n      <td>Schwertberger Straße 14\\n53177 Bonn, Nordrhein...</td>\n      <td>{'resource_uri': 'https://fragdenstaat.de/api/...</td>\n      <td>1</td>\n    </tr>\n    <tr>\n      <th>40557</th>\n      <td>2</td>\n      <td>Absatzförderungsfonds der deutschen Forst- und...</td>\n      <td>{'id': 594, 'name': 'Wirtschaftsförderung', 's...</td>\n      <td>[{'id': 2, 'name': 'Landwirtschaft', 'slug': '...</td>\n      <td>Godesberger Allee 142 - 148\\n53175 Bonn, Nordr...</td>\n      <td>{'resource_uri': 'https://fragdenstaat.de/api/...</td>\n      <td>1</td>\n    </tr>\n  </tbody>\n</table>\n<p>40800 rows × 7 columns</p>\n</div>"
     },
     "execution_count": 84,
     "metadata": {},
     "output_type": "execute_result"
    }
   ],
   "source": [
    "df = pd.DataFrame(data_pb)\n",
    "df"
   ],
   "metadata": {
    "collapsed": false
   }
  },
  {
   "cell_type": "code",
   "execution_count": 114,
   "outputs": [
    {
     "data": {
      "text/plain": "     id                    name\n0     4                  Berlin\n1    92                  Bayern\n2    93           Niedersachsen\n3     2     Nordrhein-Westfalen\n4    91       Baden-Württemberg\n5    10               Thüringen\n6     1                    Bund\n7   107       Europäische Union\n8    13          Sachsen-Anhalt\n9     6         Rheinland-Pfalz\n10   11      Schleswig-Holstein\n11   89                 Sachsen\n12   94                  Hessen\n13    7  Mecklenburg-Vorpommern\n14    9                Saarland\n15    5                 Hamburg\n16    3             Brandenburg\n17   12                  Bremen\n18    6                     NaN\n19    5                     NaN",
      "text/html": "<div>\n<style scoped>\n    .dataframe tbody tr th:only-of-type {\n        vertical-align: middle;\n    }\n\n    .dataframe tbody tr th {\n        vertical-align: top;\n    }\n\n    .dataframe thead th {\n        text-align: right;\n    }\n</style>\n<table border=\"1\" class=\"dataframe\">\n  <thead>\n    <tr style=\"text-align: right;\">\n      <th></th>\n      <th>id</th>\n      <th>name</th>\n    </tr>\n  </thead>\n  <tbody>\n    <tr>\n      <th>0</th>\n      <td>4</td>\n      <td>Berlin</td>\n    </tr>\n    <tr>\n      <th>1</th>\n      <td>92</td>\n      <td>Bayern</td>\n    </tr>\n    <tr>\n      <th>2</th>\n      <td>93</td>\n      <td>Niedersachsen</td>\n    </tr>\n    <tr>\n      <th>3</th>\n      <td>2</td>\n      <td>Nordrhein-Westfalen</td>\n    </tr>\n    <tr>\n      <th>4</th>\n      <td>91</td>\n      <td>Baden-Württemberg</td>\n    </tr>\n    <tr>\n      <th>5</th>\n      <td>10</td>\n      <td>Thüringen</td>\n    </tr>\n    <tr>\n      <th>6</th>\n      <td>1</td>\n      <td>Bund</td>\n    </tr>\n    <tr>\n      <th>7</th>\n      <td>107</td>\n      <td>Europäische Union</td>\n    </tr>\n    <tr>\n      <th>8</th>\n      <td>13</td>\n      <td>Sachsen-Anhalt</td>\n    </tr>\n    <tr>\n      <th>9</th>\n      <td>6</td>\n      <td>Rheinland-Pfalz</td>\n    </tr>\n    <tr>\n      <th>10</th>\n      <td>11</td>\n      <td>Schleswig-Holstein</td>\n    </tr>\n    <tr>\n      <th>11</th>\n      <td>89</td>\n      <td>Sachsen</td>\n    </tr>\n    <tr>\n      <th>12</th>\n      <td>94</td>\n      <td>Hessen</td>\n    </tr>\n    <tr>\n      <th>13</th>\n      <td>7</td>\n      <td>Mecklenburg-Vorpommern</td>\n    </tr>\n    <tr>\n      <th>14</th>\n      <td>9</td>\n      <td>Saarland</td>\n    </tr>\n    <tr>\n      <th>15</th>\n      <td>5</td>\n      <td>Hamburg</td>\n    </tr>\n    <tr>\n      <th>16</th>\n      <td>3</td>\n      <td>Brandenburg</td>\n    </tr>\n    <tr>\n      <th>17</th>\n      <td>12</td>\n      <td>Bremen</td>\n    </tr>\n    <tr>\n      <th>18</th>\n      <td>6</td>\n      <td>NaN</td>\n    </tr>\n    <tr>\n      <th>19</th>\n      <td>5</td>\n      <td>NaN</td>\n    </tr>\n  </tbody>\n</table>\n</div>"
     },
     "execution_count": 114,
     "metadata": {},
     "output_type": "execute_result"
    }
   ],
   "source": [
    "juri = df['jurisdiction'].to_list()\n",
    "\n",
    "# remove duplicates\n",
    "juris = []\n",
    "[juris.append(x) for x in juri if x not in juris and not None and pd.notnull(x)]\n",
    "\n",
    "jurisdiction=pd.DataFrame.from_dict(juris)\n",
    "jurisdiction.drop(columns=['slug', 'site_url', 'region', 'resource_uri', 'description',\"rank\"], inplace=True)\n",
    "jurisdiction"
   ],
   "metadata": {
    "collapsed": false
   }
  },
  {
   "cell_type": "code",
   "execution_count": 75,
   "outputs": [
    {
     "data": {
      "text/plain": "          id                                               name  \\\n265    50342                Wissenschaftliches Institut der AOK   \n10651  50341                      Polizeipräsidium Niederbayern   \n10653  50340                    Polizeipräsidium Oberbayern Süd   \n38103  50339      Autorisierte Stelle Digitalfunk Niedersachsen   \n34410  50338              enwor - energie & wasser vor ort GmbH   \n...      ...                                                ...   \n40278      8       Akademie für Raumforschung und Landesplanung   \n40267      7                                Akademie der Künste   \n73         6              Zentrum Informationsarbeit Bundeswehr   \n40558      3  Absatzförderungsfonds der deutschen Land- und ...   \n40557      2  Absatzförderungsfonds der deutschen Forst- und...   \n\n                                          classification  \\\n265    {'id': 259, 'name': 'Krankenkasse', 'slug': 'k...   \n10651  {'id': 239, 'name': 'Polizeipräsidium', 'slug'...   \n10653  {'id': 239, 'name': 'Polizeipräsidium', 'slug'...   \n38103  {'id': 47, 'name': 'Polizei', 'slug': 'polizei...   \n34410  {'id': 280, 'name': 'Stadtwerke', 'slug': 'sta...   \n...                                                  ...   \n40278  {'id': 48, 'name': 'Akademie', 'slug': 'akadem...   \n40267  {'id': 451, 'name': 'Akademie der Künste', 'sl...   \n73     {'id': 397, 'name': 'Militärische Ausbildungss...   \n40558  {'id': 594, 'name': 'Wirtschaftsförderung', 's...   \n40557  {'id': 594, 'name': 'Wirtschaftsförderung', 's...   \n\n                                              categories  \\\n265                                                   []   \n10651  [{'id': 238, 'name': 'Polizei', 'slug': 'poliz...   \n10653  [{'id': 238, 'name': 'Polizei', 'slug': 'poliz...   \n38103                                                 []   \n34410  [{'id': 187, 'name': 'Energie', 'slug': 'energ...   \n...                                                  ...   \n40278  [{'id': 185, 'name': 'Bildung', 'slug': 'bildu...   \n40267  [{'id': 183, 'name': 'Kultur', 'slug': 'kultur...   \n73     [{'id': 5, 'name': 'Verteidigung', 'slug': 've...   \n40558  [{'id': 2, 'name': 'Landwirtschaft', 'slug': '...   \n40557  [{'id': 2, 'name': 'Landwirtschaft', 'slug': '...   \n\n                                                 address  \\\n265                Rosenthaler Straße 31\\r\\n10178 Berlin   \n10651          Wittelsbacherhöhe 9/11\\r\\n94315 Straubing   \n10653                 Kaiserstraße 32\\r\\n83022 Rosenheim   \n38103               Tannenbergallee 11\\r\\n30163 Hannover   \n34410             Kaiserstraße 100\\r\\n52134 Herzogenrath   \n...                                                  ...   \n40278  Hohenzollernstraße 11\\n30161 Hannover, Nieders...   \n40267  Pariser Platz 4\\n10117 Berlin, Berlin\\nDeutsch...   \n73     Hauptadresse\\r\\nPrötzeler Chaussee 20\\r\\n15344...   \n40558  Schwertberger Straße 14\\n53177 Bonn, Nordrhein...   \n40557  Godesberger Allee 142 - 148\\n53175 Bonn, Nordr...   \n\n                                            jurisdiction  \n265    {'resource_uri': 'https://fragdenstaat.de/api/...  \n10651  {'resource_uri': 'https://fragdenstaat.de/api/...  \n10653  {'resource_uri': 'https://fragdenstaat.de/api/...  \n38103  {'resource_uri': 'https://fragdenstaat.de/api/...  \n34410  {'resource_uri': 'https://fragdenstaat.de/api/...  \n...                                                  ...  \n40278  {'resource_uri': 'https://fragdenstaat.de/api/...  \n40267  {'resource_uri': 'https://fragdenstaat.de/api/...  \n73     {'resource_uri': 'https://fragdenstaat.de/api/...  \n40558  {'resource_uri': 'https://fragdenstaat.de/api/...  \n40557  {'resource_uri': 'https://fragdenstaat.de/api/...  \n\n[40800 rows x 6 columns]",
      "text/html": "<div>\n<style scoped>\n    .dataframe tbody tr th:only-of-type {\n        vertical-align: middle;\n    }\n\n    .dataframe tbody tr th {\n        vertical-align: top;\n    }\n\n    .dataframe thead th {\n        text-align: right;\n    }\n</style>\n<table border=\"1\" class=\"dataframe\">\n  <thead>\n    <tr style=\"text-align: right;\">\n      <th></th>\n      <th>id</th>\n      <th>name</th>\n      <th>classification</th>\n      <th>categories</th>\n      <th>address</th>\n      <th>jurisdiction</th>\n    </tr>\n  </thead>\n  <tbody>\n    <tr>\n      <th>265</th>\n      <td>50342</td>\n      <td>Wissenschaftliches Institut der AOK</td>\n      <td>{'id': 259, 'name': 'Krankenkasse', 'slug': 'k...</td>\n      <td>[]</td>\n      <td>Rosenthaler Straße 31\\r\\n10178 Berlin</td>\n      <td>{'resource_uri': 'https://fragdenstaat.de/api/...</td>\n    </tr>\n    <tr>\n      <th>10651</th>\n      <td>50341</td>\n      <td>Polizeipräsidium Niederbayern</td>\n      <td>{'id': 239, 'name': 'Polizeipräsidium', 'slug'...</td>\n      <td>[{'id': 238, 'name': 'Polizei', 'slug': 'poliz...</td>\n      <td>Wittelsbacherhöhe 9/11\\r\\n94315 Straubing</td>\n      <td>{'resource_uri': 'https://fragdenstaat.de/api/...</td>\n    </tr>\n    <tr>\n      <th>10653</th>\n      <td>50340</td>\n      <td>Polizeipräsidium Oberbayern Süd</td>\n      <td>{'id': 239, 'name': 'Polizeipräsidium', 'slug'...</td>\n      <td>[{'id': 238, 'name': 'Polizei', 'slug': 'poliz...</td>\n      <td>Kaiserstraße 32\\r\\n83022 Rosenheim</td>\n      <td>{'resource_uri': 'https://fragdenstaat.de/api/...</td>\n    </tr>\n    <tr>\n      <th>38103</th>\n      <td>50339</td>\n      <td>Autorisierte Stelle Digitalfunk Niedersachsen</td>\n      <td>{'id': 47, 'name': 'Polizei', 'slug': 'polizei...</td>\n      <td>[]</td>\n      <td>Tannenbergallee 11\\r\\n30163 Hannover</td>\n      <td>{'resource_uri': 'https://fragdenstaat.de/api/...</td>\n    </tr>\n    <tr>\n      <th>34410</th>\n      <td>50338</td>\n      <td>enwor - energie &amp; wasser vor ort GmbH</td>\n      <td>{'id': 280, 'name': 'Stadtwerke', 'slug': 'sta...</td>\n      <td>[{'id': 187, 'name': 'Energie', 'slug': 'energ...</td>\n      <td>Kaiserstraße 100\\r\\n52134 Herzogenrath</td>\n      <td>{'resource_uri': 'https://fragdenstaat.de/api/...</td>\n    </tr>\n    <tr>\n      <th>...</th>\n      <td>...</td>\n      <td>...</td>\n      <td>...</td>\n      <td>...</td>\n      <td>...</td>\n      <td>...</td>\n    </tr>\n    <tr>\n      <th>40278</th>\n      <td>8</td>\n      <td>Akademie für Raumforschung und Landesplanung</td>\n      <td>{'id': 48, 'name': 'Akademie', 'slug': 'akadem...</td>\n      <td>[{'id': 185, 'name': 'Bildung', 'slug': 'bildu...</td>\n      <td>Hohenzollernstraße 11\\n30161 Hannover, Nieders...</td>\n      <td>{'resource_uri': 'https://fragdenstaat.de/api/...</td>\n    </tr>\n    <tr>\n      <th>40267</th>\n      <td>7</td>\n      <td>Akademie der Künste</td>\n      <td>{'id': 451, 'name': 'Akademie der Künste', 'sl...</td>\n      <td>[{'id': 183, 'name': 'Kultur', 'slug': 'kultur...</td>\n      <td>Pariser Platz 4\\n10117 Berlin, Berlin\\nDeutsch...</td>\n      <td>{'resource_uri': 'https://fragdenstaat.de/api/...</td>\n    </tr>\n    <tr>\n      <th>73</th>\n      <td>6</td>\n      <td>Zentrum Informationsarbeit Bundeswehr</td>\n      <td>{'id': 397, 'name': 'Militärische Ausbildungss...</td>\n      <td>[{'id': 5, 'name': 'Verteidigung', 'slug': 've...</td>\n      <td>Hauptadresse\\r\\nPrötzeler Chaussee 20\\r\\n15344...</td>\n      <td>{'resource_uri': 'https://fragdenstaat.de/api/...</td>\n    </tr>\n    <tr>\n      <th>40558</th>\n      <td>3</td>\n      <td>Absatzförderungsfonds der deutschen Land- und ...</td>\n      <td>{'id': 594, 'name': 'Wirtschaftsförderung', 's...</td>\n      <td>[{'id': 2, 'name': 'Landwirtschaft', 'slug': '...</td>\n      <td>Schwertberger Straße 14\\n53177 Bonn, Nordrhein...</td>\n      <td>{'resource_uri': 'https://fragdenstaat.de/api/...</td>\n    </tr>\n    <tr>\n      <th>40557</th>\n      <td>2</td>\n      <td>Absatzförderungsfonds der deutschen Forst- und...</td>\n      <td>{'id': 594, 'name': 'Wirtschaftsförderung', 's...</td>\n      <td>[{'id': 2, 'name': 'Landwirtschaft', 'slug': '...</td>\n      <td>Godesberger Allee 142 - 148\\n53175 Bonn, Nordr...</td>\n      <td>{'resource_uri': 'https://fragdenstaat.de/api/...</td>\n    </tr>\n  </tbody>\n</table>\n<p>40800 rows × 6 columns</p>\n</div>"
     },
     "execution_count": 75,
     "metadata": {},
     "output_type": "execute_result"
    }
   ],
   "source": [
    "df_juris = pd.DataFrame(data_juris)\n",
    "df_juris"
   ],
   "metadata": {
    "collapsed": false
   }
  },
  {
   "cell_type": "code",
   "execution_count": null,
   "outputs": [],
   "source": [],
   "metadata": {
    "collapsed": false
   }
  }
 ],
 "metadata": {
  "kernelspec": {
   "display_name": "Python 3",
   "language": "python",
   "name": "python3"
  },
  "language_info": {
   "codemirror_mode": {
    "name": "ipython",
    "version": 2
   },
   "file_extension": ".py",
   "mimetype": "text/x-python",
   "name": "python",
   "nbconvert_exporter": "python",
   "pygments_lexer": "ipython2",
   "version": "2.7.6"
  }
 },
 "nbformat": 4,
 "nbformat_minor": 0
}
